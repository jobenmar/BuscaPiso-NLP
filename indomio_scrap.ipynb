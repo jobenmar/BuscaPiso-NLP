{
 "cells": [
  {
   "cell_type": "code",
   "execution_count": 1,
   "metadata": {},
   "outputs": [],
   "source": [
    "import requests\n",
    "from bs4 import BeautifulSoup\n",
    "import pandas as pd\n",
    "import re\n",
    "# Random\n",
    "import random\n",
    "random.seed = 42\n",
    "# Thread management (sleep purposes)\n",
    "import time\n",
    "# Operating System management\n",
    "import os\n",
    "import selenium\n",
    "# Selenium specific libraries\n",
    "from selenium.webdriver.chrome.service import Service\n",
    "from selenium.webdriver.common.by import By\n",
    "from selenium import webdriver\n",
    "from selenium.webdriver.common.keys import Keys\n",
    "import numpy as np\n",
    "\n",
    "import pickle"
   ]
  },
  {
   "cell_type": "code",
   "execution_count": null,
   "metadata": {},
   "outputs": [],
   "source": [
    "if not os.path.exists(\"portales/indomio\"):\n",
    "  os.makedirs(\"portales/indomio\")"
   ]
  },
  {
   "cell_type": "code",
   "execution_count": null,
   "metadata": {},
   "outputs": [],
   "source": [
    "configurations = {\n",
    "    'url' : 'https://www.indomio.es/'}\n",
    "service = Service(executable_path='chromedriver.exe')\n",
    "\n",
    "options = webdriver.ChromeOptions()\n",
    "options.add_argument(\"user-agent=Mozilla/5.0 (Windows NT 10.0; Win64; x64) AppleWebKit/537.36 (KHTML, like Gecko) Chrome/124.0.0.0 Safari/537.36\")\n",
    "#options.add_argument(\"--headless\")\n",
    "options.add_argument(\"--no-sandbox\")\n",
    "options.add_argument(\"--disable-dev-shm-usage\")"
   ]
  },
  {
   "cell_type": "code",
   "execution_count": null,
   "metadata": {},
   "outputs": [],
   "source": [
    "service = Service(executable_path='chromedriver.exe')\n",
    "driver = webdriver.Chrome(service=service, options=options)\n",
    "\n",
    "driver.get(configurations[\"url\"])\n",
    "driver.maximize_window()\n",
    "time.sleep(np.random.normal(2,0.3)) # segundos\n",
    "\n",
    "driver.save_screenshot(\"portales/indomio/00-homepage.png\")"
   ]
  },
  {
   "cell_type": "code",
   "execution_count": null,
   "metadata": {},
   "outputs": [],
   "source": [
    "driver.find_element(by=By.ID, value=\"didomi-notice-agree-button\").click()\n",
    "time.sleep(np.random.normal(2,0.3)) # segundos\n",
    "driver.save_screenshot(\"portales/fotocasa/01-homepage-no-cookies.png\")"
   ]
  },
  {
   "cell_type": "code",
   "execution_count": null,
   "metadata": {},
   "outputs": [],
   "source": [
    "campo_busqueda = driver.find_element(by=By.CLASS_NAME, value=\"nd-autocomplete__input\")\n",
    "time.sleep(np.random.normal(2,0.3)) # segundos\n",
    "consulta = \"valencia poblacion\"\n",
    "campo_busqueda.send_keys(consulta)\n",
    "\n",
    "# Simular la presión de la tecla Enter para realizar la búsqueda (si es necesario)\n",
    "campo_busqueda.send_keys(Keys.RETURN)\n",
    "\n",
    "time.sleep(np.random.normal(2)) # segundos\n",
    "driver.save_screenshot(\"portales/indomio/02-homepage-no-cookies.png\")"
   ]
  },
  {
   "cell_type": "code",
   "execution_count": null,
   "metadata": {},
   "outputs": [],
   "source": [
    "enlace = driver.find_element(by=By.CLASS_NAME, value= 'nd-accordion')\n",
    "enlaces_hijos = enlace.find_elements(by=By.CLASS_NAME, value='im-zones__accordionLabelText')\n",
    "distritos = []\n",
    "for enlace_hijo in enlaces_hijos:\n",
    "    distritos.append(enlace_hijo.get_attribute('title'))"
   ]
  },
  {
   "cell_type": "code",
   "execution_count": null,
   "metadata": {},
   "outputs": [],
   "source": [
    "enlaces_hijos_2 = enlace.find_elements(by=By.CLASS_NAME, value='nd-accordion__subMenu')\n",
    "barrios = []\n",
    "for i in range(len(enlaces_hijos_2)):\n",
    "    enlaces_hijos_3 = enlaces_hijos_2[i].find_elements(by=By.CLASS_NAME, value='nd-checkbox__text')\n",
    "    barrios.append(enlaces_hijos_3)"
   ]
  },
  {
   "cell_type": "code",
   "execution_count": null,
   "metadata": {},
   "outputs": [],
   "source": [
    "barriadas = []\n",
    "for i in range(len(barrios)):\n",
    "    for j in range(len(barrios[i])):\n",
    "        barriadas.append(barrios[i][j].text)"
   ]
  },
  {
   "cell_type": "code",
   "execution_count": null,
   "metadata": {},
   "outputs": [],
   "source": [
    "from unidecode import unidecode\n",
    "for i in range(len(barriadas)):\n",
    "    barriadas[i] = barriadas[i].replace(\" \", \"-\").lower().replace(\"'\",\"-\").replace('*','-')\n",
    "    barriadas[i] = unidecode(barriadas[i])"
   ]
  },
  {
   "cell_type": "code",
   "execution_count": null,
   "metadata": {},
   "outputs": [],
   "source": [
    "with open('barrios_vlc.pkl', 'wb') as f:\n",
    "    pickle.dump(barriadas, f)"
   ]
  },
  {
   "cell_type": "code",
   "execution_count": null,
   "metadata": {},
   "outputs": [],
   "source": [
    "# Cargar el diccionario desde el archivo\n",
    "with open('barrios_vlc.pkl', 'rb') as f:\n",
    "    barridas = pickle.load(f)"
   ]
  },
  {
   "cell_type": "code",
   "execution_count": null,
   "metadata": {},
   "outputs": [],
   "source": [
    "distritos = distritos[1:]"
   ]
  },
  {
   "cell_type": "code",
   "execution_count": null,
   "metadata": {},
   "outputs": [],
   "source": [
    "# se toma el tamaño de barrios,ese es el numero de barriadas que tiene cada distrito\n",
    "# se crea un diccionario que tiene como clave el distrito y como valor una lista de barriadas\n",
    "distrito_barrios = {}\n",
    "j = 0\n",
    "for i in range(len(distritos)):\n",
    "    distrito_barrios[distritos[i]] = barriadas[j:j+len(barrios[i])]\n",
    "\n",
    "    j = j + len(barrios[i])"
   ]
  },
  {
   "cell_type": "code",
   "execution_count": null,
   "metadata": {},
   "outputs": [],
   "source": [
    "def get_url(i,j):\n",
    "    return f'https://www.indomio.es/venta-casas/valencia-capital/{barriadas[j]}/?pag={i}'\n",
    "i = 0\n",
    "j = 0\n",
    "configurations = {\n",
    "    'url': get_url(i,j),\n",
    "    'user-agent': 'Mozilla/5.0 (Windows NT 10.0; Win64; x64) AppleWebKit/537.36 (KHTML, like Gecko) Chrome/58.0.3029.110 Safari/537.36'}\n",
    "\n",
    "response = requests.get(configurations['url'], headers={'User-Agent': configurations['user-agent']})\n",
    "\n",
    "# Parsing the page\n",
    "soup = BeautifulSoup(response.text, 'html.parser')\n",
    "anuncios = soup.find_all('li', class_='nd-list__item in-reListItem')\n",
    "links = []\n",
    "titulos_casas = []\n",
    "anuncios = 0\n",
    "\n",
    "for j in range(len(barriadas)):\n",
    "    i = 0\n",
    "    ratio = 0\n",
    "    print(f'Barriada: {barriadas[j]}')\n",
    "    configurations['url'] = get_url(i, j)\n",
    "    \n",
    "    while i <= ratio:\n",
    "        print(\"Página actual:\", configurations['url'])  \n",
    "        response = requests.get(url=configurations['url'], headers={'User-Agent': configurations['user-agent']})\n",
    "        \n",
    "        if response.status_code == 200:\n",
    "            # Parsear el contenido HTML\n",
    "            soup = BeautifulSoup(response.text, 'html.parser')\n",
    "            anuncios_header = soup.find('div', class_='in-realEstateListHeader__title').text\n",
    "            matches = re.findall(r'\\d+', anuncios_header)\n",
    "            # Check if any matches were found\n",
    "            if matches:\n",
    "                # Extract the first match and convert it to an integer\n",
    "                anuncios_number = int(matches[0])\n",
    "                print(\"Number extracted:\", anuncios_number)\n",
    "            else:\n",
    "                anuncios_number = 0\n",
    "            ratio = anuncios_number / 25\n",
    "            print(f'Ratio: {ratio}')\n",
    "                                \n",
    "            anuncios = soup.find_all('li', class_='nd-list__item in-reListItem')\n",
    "            for anuncio in anuncios:\n",
    "                enlace = anuncio.find('a').get('href')\n",
    "                time.sleep(random.randint(1, 5) / 10)\n",
    "                links.append(enlace)\n",
    "                titulo = anuncio.find('a').get('title')\n",
    "                time.sleep(random.randint(1, 5) / 10)\n",
    "                titulos_casas.append(titulo)\n",
    "                \n",
    "            i += 1\n",
    "            configurations['url'] = get_url(i, j)\n",
    "\n",
    "        else:\n",
    "            # Si la solicitud no fue exitosa, imprimir un mensaje de error y salir del bucle\n",
    "            print(\"Error al obtener la página:\", response.status_code)\n",
    "            break"
   ]
  },
  {
   "cell_type": "code",
   "execution_count": null,
   "metadata": {},
   "outputs": [],
   "source": [
    "def f7(seq):\n",
    "    seen = set()\n",
    "    seen_add = seen.add\n",
    "    return [x for x in seq if not (x in seen or seen_add(x))]\n",
    "unique_links = f7(links)\n",
    "unique_titles = f7(titulos_casas)"
   ]
  },
  {
   "cell_type": "code",
   "execution_count": null,
   "metadata": {},
   "outputs": [],
   "source": [
    "import pickle\n",
    "\n",
    "with open('links.pkl', 'wb') as f:\n",
    "    pickle.dump(unique_links, f)"
   ]
  },
  {
   "cell_type": "code",
   "execution_count": null,
   "metadata": {},
   "outputs": [],
   "source": [
    "# Cargar el diccionario desde el archivo\n",
    "with open('links.pkl', 'rb') as f:\n",
    "    unique_links = pickle.load(f)"
   ]
  },
  {
   "cell_type": "code",
   "execution_count": null,
   "metadata": {},
   "outputs": [],
   "source": [
    "diccionario_casas = {}\n",
    "i = 0\n",
    "# Iteramos sobre los enlaces únicos y los usamos como claves en el diccionario\n",
    "for link in unique_links:\n",
    "\n",
    "    # Creamos un diccionario interno con una clave 'i' y un valor None\n",
    "    diccionario_casas[link] = {f'{i}': {'Precio':None,\n",
    "                                        'Descripcion':None,\n",
    "                                        'Otras_caractericas':None,\n",
    "                                        'Caracteristicas':None,\n",
    "                                        'Eficiencia_energetica':None}}\n",
    "    i += 1 "
   ]
  },
  {
   "cell_type": "code",
   "execution_count": null,
   "metadata": {},
   "outputs": [],
   "source": [
    "for link in unique_links:\n",
    "    configurations = {\n",
    "        'url': f'{link}',\n",
    "        'user-agent': 'Mozilla/5.0 (Windows NT 10.0; Win64; x64) AppleWebKit/537.36 (KHTML, like Gecko) Chrome/58.0.3029.110 Safari/537.36'}\n",
    "    response = requests.get(url=configurations['url'], headers={'User-Agent': configurations['user-agent']})    \n",
    "    soup = BeautifulSoup(response.text, 'html.parser')    \n",
    "\n",
    "    descripcion_elem = soup.find('div', class_='in-readAll')\n",
    "    descripcion = None if descripcion_elem is None else descripcion_elem.text\n",
    "    caracteristicas_titulo = soup.find_all('dl', class_='in-realEstateFeatures__list')\n",
    "    \n",
    "    if len(caracteristicas_titulo) < 4:\n",
    "        \n",
    "        titulos = caracteristicas_titulo[0].find_all('dt', class_='in-realEstateFeatures__title')\n",
    "        valores = caracteristicas_titulo[0].find_all('dd', class_='in-realEstateFeatures__value')\n",
    "\n",
    "        caracteristicas = [titulo.text for titulo in titulos]\n",
    "        values = [valor.text for valor in valores]\n",
    "\n",
    "        precio = caracteristicas_titulo[1].find('dd', class_='in-realEstateFeatures__value').text\n",
    "            \n",
    "        titol_ef = caracteristicas_titulo[2].find_all('dt', class_='in-realEstateFeatures__title')\n",
    "        ef_v = caracteristicas_titulo[2].find_all('dd', class_='in-realEstateFeatures__value')\n",
    "        tit_ef = [titulo.text for titulo in titol_ef]\n",
    "        ef = [valor.text for valor in ef_v]\n",
    "        \n",
    "        otr = None\n",
    "    \n",
    "    else:\n",
    "        \n",
    "        otros = caracteristicas_titulo[0].find_all('div', class_='nd-badge')\n",
    "        otr = [valor.text for valor in otros]\n",
    "\n",
    "        titulos = caracteristicas_titulo[1].find_all('dt', class_='in-realEstateFeatures__title')\n",
    "        valores = caracteristicas_titulo[1].find_all('dd', class_='in-realEstateFeatures__value')\n",
    "\n",
    "        caracteristicas = [titulo.text for titulo in titulos]\n",
    "        values = [valor.text for valor in valores]\n",
    "\n",
    "        precio = caracteristicas_titulo[2].find('dd', class_='in-realEstateFeatures__value').text\n",
    "            \n",
    "        titol_ef = caracteristicas_titulo[3].find_all('dt', class_='in-realEstateFeatures__title')\n",
    "        ef_v = caracteristicas_titulo[3].find_all('dd', class_='in-realEstateFeatures__value')\n",
    "        tit_ef = [titulo.text for titulo in titol_ef]\n",
    "        ef = [valor.text for valor in ef_v]\n",
    "\n",
    "    # Crear el diccionario para almacenar la información\n",
    "    diccionario_casas[link] = {\n",
    "        'Precio': precio,\n",
    "        'Descripcion': descripcion,\n",
    "        'Otras_caractericas': otr,\n",
    "        'Caracteristicas': dict(zip(caracteristicas, values)),\n",
    "        'Eficiencia_energetica': dict(zip(tit_ef, ef))\n",
    "    }"
   ]
  },
  {
   "cell_type": "code",
   "execution_count": null,
   "metadata": {},
   "outputs": [],
   "source": [
    "dict_iterator = iter(diccionario_casas.items())\n",
    "\n",
    "# Get the first item\n",
    "first_link, first_casa = next(dict_iterator)\n",
    "\n",
    "# Print the details of the first house\n",
    "print(f\"Link: {first_link}\")\n",
    "print(f\"Precio: {first_casa['Precio']}\")\n",
    "print(f\"Descripcion: {first_casa['Descripcion']}\")\n",
    "print(f\"Otras_caractericas: {first_casa['Otras_caractericas']}\")\n",
    "print(f\"Caracteristicas: {first_casa['Caracteristicas']}\")\n",
    "print(f\"Eficiencia_energetica: {first_casa['Eficiencia_energetica']}\")"
   ]
  },
  {
   "cell_type": "code",
   "execution_count": null,
   "metadata": {},
   "outputs": [],
   "source": [
    "next_link, next_casa = next(dict_iterator)\n",
    "# Print the details of the first house\n",
    "print(f\"Link: {next_link}\")\n",
    "print(f\"Precio: {next_casa['Precio']}\")\n",
    "print(f\"Descripcion: {next_casa['Descripcion']}\")\n",
    "print(f\"Otras_caractericas: {next_casa['Otras_caractericas']}\")\n",
    "print(f\"Caracteristicas: {next_casa['Caracteristicas']}\")\n",
    "print(f\"Eficiencia_energetica: {next_casa['Eficiencia_energetica']}\")"
   ]
  },
  {
   "cell_type": "code",
   "execution_count": null,
   "metadata": {},
   "outputs": [],
   "source": [
    "with open('scrap_info.pkl', 'wb') as f:\n",
    "    pickle.dump(diccionario_casas, f)"
   ]
  },
  {
   "cell_type": "code",
   "execution_count": null,
   "metadata": {},
   "outputs": [],
   "source": [
    "# Cargar el diccionario desde el archivo\n",
    "with open('links.pkl', 'rb') as f:\n",
    "    diccionario_casas = pickle.load(f)"
   ]
  }
 ],
 "metadata": {
  "kernelspec": {
   "display_name": "env_adrian",
   "language": "python",
   "name": "python3"
  },
  "language_info": {
   "codemirror_mode": {
    "name": "ipython",
    "version": 3
   },
   "file_extension": ".py",
   "mimetype": "text/x-python",
   "name": "python",
   "nbconvert_exporter": "python",
   "pygments_lexer": "ipython3",
   "version": "3.10.14"
  }
 },
 "nbformat": 4,
 "nbformat_minor": 2
}
