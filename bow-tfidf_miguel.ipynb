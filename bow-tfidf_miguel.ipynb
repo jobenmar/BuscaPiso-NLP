{
 "cells": [
  {
   "cell_type": "code",
   "execution_count": 47,
   "metadata": {},
   "outputs": [
    {
     "data": {
      "text/plain": [
       "Precio                    int64\n",
       "Descripcion              object\n",
       "Otras_caractericas       object\n",
       "Caracteristicas          object\n",
       "Eficiencia_energetica    object\n",
       "dtype: object"
      ]
     },
     "execution_count": 47,
     "metadata": {},
     "output_type": "execute_result"
    }
   ],
   "source": [
    "#Se quiere importar un archivo pickle con un diccionario y transformarlo en un dataframe de pandas\n",
    "\n",
    "import pandas as pd\n",
    "import pickle\n",
    "import re\n",
    "#Se importa el archivo pickle\n",
    "with open('scrap_info_alq.pkl', 'rb') as f:\n",
    "    diccionario = pickle.load(f)\n",
    "\n",
    "\n",
    "with open('scrap_info.pkl', 'rb') as f:\n",
    "    diccionario2 = pickle.load(f)\n",
    "#Se transforma el diccionario en un dataframe\n",
    "df = pd.DataFrame(diccionario)\n",
    "df2 = pd.DataFrame(diccionario2)\n",
    "#Ahora se cambia las filas por las columnas\n",
    "df = df.T\n",
    "df2 = df2.T\n",
    "df.head()\n",
    "df2.head()\n",
    "\n",
    "#Ahora unimos los dos dataframes\n",
    "df_def = pd.concat([df,df2])\n",
    "#Limpiamos la columna de precio quitando el simbolo de € y quitando el /mes\n",
    "\n",
    "df_def['Precio'] = df_def['Precio'].str.replace('€','')\n",
    "df_def['Precio'] = df_def['Precio'].str.replace('/mes','')\n",
    "\n",
    "#transformamos el el precio a numerico\t\n",
    "df_def['Precio'] = df_def['Precio'].str.replace('.','')\n",
    "\n",
    "#Eliminamos la fila que Precio que pone por consultar\n",
    "df_def = df_def[df_def['Precio'] != 'precio a consultar']\n",
    "\n",
    "#Transformamos la columna de precio a numerico\n",
    "df_def['Precio'] = pd.to_numeric(df_def['Precio'])\n",
    "\n",
    "#vemos el tipo de datos de cada columna\n",
    "df_def.dtypes"
   ]
  },
  {
   "cell_type": "markdown",
   "metadata": {},
   "source": [
    "Tras llamar al dataset y limpiar la columna del precio se va intentar construir un dataframe con columnas de m^2 número de habitaciones, baños etc."
   ]
  },
  {
   "cell_type": "code",
   "execution_count": 48,
   "metadata": {},
   "outputs": [
    {
     "name": "stdout",
     "output_type": "stream",
     "text": [
      "https://www.indomio.es/anuncios/95227781/    3\n",
      "https://www.indomio.es/anuncios/95146207/    4\n",
      "https://www.indomio.es/anuncios/94613177/    2\n",
      "https://www.indomio.es/anuncios/94500757/    2\n",
      "https://www.indomio.es/anuncios/95223135/    3\n",
      "                                            ..\n",
      "https://www.indomio.es/anuncios/95007509/    3\n",
      "https://www.indomio.es/anuncios/94958481/    2\n",
      "https://www.indomio.es/anuncios/95006805/    2\n",
      "https://www.indomio.es/anuncios/95313313/    3\n",
      "https://www.indomio.es/anuncios/95319871/    2\n",
      "Name: Habitaciones, Length: 1558, dtype: object\n"
     ]
    },
    {
     "name": "stderr",
     "output_type": "stream",
     "text": [
      "C:\\Users\\alexn\\AppData\\Local\\Temp\\ipykernel_5272\\680015430.py:7: FutureWarning: Series.__getitem__ treating keys as positions is deprecated. In a future version, integer keys will always be treated as labels (consistent with DataFrame behavior). To access a value by position, use `ser.iloc[pos]`\n",
      "  habitaciones_info = df_def[\"Caracteristicas\"][i].get(\"habitaciones\")\n"
     ]
    }
   ],
   "source": [
    "import numpy as np\n",
    "# Lista para almacenar los resultados\n",
    "resultados = []\n",
    "\n",
    "for i in range(len(df_def)):\n",
    "    # Obtén la información sobre las habitaciones de la fila actual\n",
    "    habitaciones_info = df_def[\"Caracteristicas\"][i].get(\"habitaciones\")\n",
    "    \n",
    "    # Verificar si habitaciones_info no es None\n",
    "    if habitaciones_info:\n",
    "        # Buscar el número que acompaña a la palabra \"dormitorio\"\n",
    "        dormitorios_numero = re.search(r'(\\d+) dormitorios', habitaciones_info)\n",
    "        if dormitorios_numero:\n",
    "            dormitorios = dormitorios_numero.group(1)\n",
    "        else:\n",
    "            dormitorios = None\n",
    "    else:\n",
    "        dormitorios = None\n",
    "    \n",
    "    # Agregar el resultado a la lista\n",
    "    resultados.append(dormitorios)\n",
    "\n",
    "# Calcular la media de los valores existentes en la lista resultados\n",
    "media_habitaciones = np.mean([int(x) for x in resultados if x is not None])\n",
    "media_habitaciones_entero = int(round(media_habitaciones))\n",
    "# Reemplazar los valores None con la media calculada\n",
    "resultados_imputados = [media_habitaciones_entero if x is None else x for x in resultados]\n",
    "\n",
    "# Agregar la lista imputada como una nueva columna al DataFrame\n",
    "df_def['Habitaciones'] = resultados_imputados\n",
    "\n",
    "# Mostrar el DataFrame con la nueva columna\n",
    "print(df_def[\"Habitaciones\"])\n"
   ]
  },
  {
   "cell_type": "code",
   "execution_count": 49,
   "metadata": {},
   "outputs": [
    {
     "name": "stdout",
     "output_type": "stream",
     "text": [
      "https://www.indomio.es/anuncios/95227781/    1\n",
      "https://www.indomio.es/anuncios/95146207/    1\n",
      "https://www.indomio.es/anuncios/94613177/    1\n",
      "https://www.indomio.es/anuncios/94500757/    2\n",
      "https://www.indomio.es/anuncios/95223135/    1\n",
      "                                            ..\n",
      "https://www.indomio.es/anuncios/95007509/    1\n",
      "https://www.indomio.es/anuncios/94958481/    2\n",
      "https://www.indomio.es/anuncios/95006805/    2\n",
      "https://www.indomio.es/anuncios/95313313/    1\n",
      "https://www.indomio.es/anuncios/95319871/    1\n",
      "Name: Baños, Length: 1558, dtype: object\n"
     ]
    },
    {
     "name": "stderr",
     "output_type": "stream",
     "text": [
      "C:\\Users\\alexn\\AppData\\Local\\Temp\\ipykernel_5272\\1073160764.py:5: FutureWarning: Series.__getitem__ treating keys as positions is deprecated. In a future version, integer keys will always be treated as labels (consistent with DataFrame behavior). To access a value by position, use `ser.iloc[pos]`\n",
      "  habitaciones_info = df_def[\"Caracteristicas\"][i].get(\"habitaciones\")\n"
     ]
    }
   ],
   "source": [
    "resultados = []\n",
    "\n",
    "for i in range(len(df_def)):\n",
    "    # Obtén la información sobre los baños de la fila actual\n",
    "    habitaciones_info = df_def[\"Caracteristicas\"][i].get(\"habitaciones\")\n",
    "    \n",
    "    # Verificar si habitaciones_info no es None\n",
    "    if habitaciones_info:\n",
    "        # Buscar el número que acompaña a la palabra \"baño(s)\"\n",
    "        banos_numero = re.search(r'(\\d+) baño[s]?', habitaciones_info)\n",
    "        if banos_numero:\n",
    "            banos = banos_numero.group(1)\n",
    "        else:\n",
    "            banos = None\n",
    "    else:\n",
    "        banos = None\n",
    "    \n",
    "    # Agregar el resultado a la lista\n",
    "    resultados.append(banos)\n",
    "\n",
    "media_banos = np.mean([int(x) for x in resultados if x is not None])\n",
    "media_banos_entero = int(round(media_banos))\n",
    "# Reemplazar los valores None con la media calculada\n",
    "resultados_imputados = [media_banos_entero if x is None else x for x in resultados]\n",
    "\n",
    "# Agregar la lista imputada como una nueva columna al DataFrame\n",
    "df_def['Baños'] = resultados_imputados\n",
    "\n",
    "print(df_def[\"Baños\"])\n",
    "\n"
   ]
  },
  {
   "cell_type": "code",
   "execution_count": 50,
   "metadata": {},
   "outputs": [
    {
     "name": "stdout",
     "output_type": "stream",
     "text": [
      "https://www.indomio.es/anuncios/95227781/    169.0\n",
      "https://www.indomio.es/anuncios/95146207/    120.0\n",
      "https://www.indomio.es/anuncios/94613177/    169.0\n",
      "https://www.indomio.es/anuncios/94500757/    169.0\n",
      "https://www.indomio.es/anuncios/95223135/    169.0\n",
      "                                             ...  \n",
      "https://www.indomio.es/anuncios/95007509/     95.0\n",
      "https://www.indomio.es/anuncios/94958481/    169.0\n",
      "https://www.indomio.es/anuncios/95006805/    169.0\n",
      "https://www.indomio.es/anuncios/95313313/    169.0\n",
      "https://www.indomio.es/anuncios/95319871/    169.0\n",
      "Name: Metros Cuadrados, Length: 1558, dtype: float64\n"
     ]
    },
    {
     "name": "stderr",
     "output_type": "stream",
     "text": [
      "C:\\Users\\alexn\\AppData\\Local\\Temp\\ipykernel_5272\\2694596815.py:4: FutureWarning: Series.__getitem__ treating keys as positions is deprecated. In a future version, integer keys will always be treated as labels (consistent with DataFrame behavior). To access a value by position, use `ser.iloc[pos]`\n",
      "  texto = str(df_def[\"Descripcion\"][i])\n"
     ]
    }
   ],
   "source": [
    "metros_cuadrados_lista = []\n",
    "for i in range(len(df_def)):\n",
    "    # Convertir la entrada de la columna \"Descripcion\" a cadena de texto\n",
    "    texto = str(df_def[\"Descripcion\"][i])\n",
    "    \n",
    "    # Buscar los metros cuadrados usando una expresión regular\n",
    "    metros_cuadrados_match = re.search(r'(\\d+(?:\\.\\d+)?)\\s*(?:m²|m2|metros\\s+cuadrados|metros)', texto)\n",
    "    \n",
    "    # Verificar si se encontró la información de los metros cuadrados\n",
    "    if metros_cuadrados_match:\n",
    "        metros_cuadrados = float(metros_cuadrados_match.group(1))  # Convertir a float en lugar de int\n",
    "    else:\n",
    "        metros_cuadrados = None\n",
    "    \n",
    "    # Agregar el resultado a la lista\n",
    "    metros_cuadrados_lista.append(metros_cuadrados)\n",
    "\n",
    "\n",
    "\n",
    "media_m2 = np.mean([int(x) for x in metros_cuadrados_lista if x is not None])\n",
    "media_m2_entero = int(round(media_m2))\n",
    "# Reemplazar los valores None con la media calculada\n",
    "resultados_imputados = [media_m2_entero if x is None else x for x in metros_cuadrados_lista]\n",
    "\n",
    "# Agregar la lista imputada como una nueva columna al DataFrame\n",
    "df_def['Metros Cuadrados'] = resultados_imputados\n",
    "\n",
    "print(df_def[\"Metros Cuadrados\"])"
   ]
  },
  {
   "cell_type": "code",
   "execution_count": 51,
   "metadata": {},
   "outputs": [
    {
     "name": "stderr",
     "output_type": "stream",
     "text": [
      "C:\\Users\\alexn\\AppData\\Local\\Temp\\ipykernel_5272\\4009006902.py:4: FutureWarning: Series.__getitem__ treating keys as positions is deprecated. In a future version, integer keys will always be treated as labels (consistent with DataFrame behavior). To access a value by position, use `ser.iloc[pos]`\n",
      "  contrato = df_def[\"Caracteristicas\"][i].get(\"contrato\")\n"
     ]
    },
    {
     "name": "stdout",
     "output_type": "stream",
     "text": [
      "https://www.indomio.es/anuncios/95227781/    alquiler\n",
      "https://www.indomio.es/anuncios/95146207/    alquiler\n",
      "https://www.indomio.es/anuncios/94613177/    alquiler\n",
      "https://www.indomio.es/anuncios/94500757/    alquiler\n",
      "https://www.indomio.es/anuncios/95223135/    alquiler\n",
      "                                               ...   \n",
      "https://www.indomio.es/anuncios/95007509/       venta\n",
      "https://www.indomio.es/anuncios/94958481/       venta\n",
      "https://www.indomio.es/anuncios/95006805/       venta\n",
      "https://www.indomio.es/anuncios/95313313/       venta\n",
      "https://www.indomio.es/anuncios/95319871/       venta\n",
      "Name: Contrato, Length: 1558, dtype: object\n"
     ]
    }
   ],
   "source": [
    "# Se crea una lista para almacenar los resultados\n",
    "resultados = []\n",
    "for i in range(len(df_def)):\n",
    "    contrato = df_def[\"Caracteristicas\"][i].get(\"contrato\")\n",
    "    \n",
    "    if contrato:\n",
    "        contrato = contrato.lower()\n",
    "    else:\n",
    "        contrato = None\n",
    "    \n",
    "    resultados.append(contrato)\n",
    "\n",
    "df_def[\"Contrato\"] = resultados\n",
    "\n",
    "print(df_def[\"Contrato\"])"
   ]
  },
  {
   "cell_type": "code",
   "execution_count": 52,
   "metadata": {},
   "outputs": [
    {
     "data": {
      "text/plain": [
       "Precio                     int64\n",
       "Descripcion               object\n",
       "Otras_caractericas        object\n",
       "Caracteristicas           object\n",
       "Eficiencia_energetica     object\n",
       "Habitaciones               int64\n",
       "Baños                      int64\n",
       "Metros Cuadrados         float64\n",
       "Contrato                  object\n",
       "dtype: object"
      ]
     },
     "execution_count": 52,
     "metadata": {},
     "output_type": "execute_result"
    }
   ],
   "source": [
    "#Se cambia el tipo de datos de las columnas habitaciones, baños a numerico y el de contrato a stirng\n",
    "\n",
    "df_def[\"Habitaciones\"] = pd.to_numeric(df_def[\"Habitaciones\"])\n",
    "df_def[\"Baños\"] = pd.to_numeric(df_def[\"Baños\"])\n",
    "df_def[\"Contrato\"] = df_def[\"Contrato\"].astype(str)\n",
    "\n",
    "\n",
    "df_def.dtypes"
   ]
  },
  {
   "cell_type": "code",
   "execution_count": 53,
   "metadata": {},
   "outputs": [
    {
     "name": "stdout",
     "output_type": "stream",
     "text": [
      "https://www.indomio.es/anuncios/95227781/    alquilar piso amueblado 3 habitación carrer de...\n",
      "https://www.indomio.es/anuncios/95146207/    piso estudiantes entrar 1ro febrero 30 junio p...\n",
      "https://www.indomio.es/anuncios/94613177/    disponible alquiler mensual anual 2 dormitorio...\n",
      "https://www.indomio.es/anuncios/94500757/    disponible alquiler mensual anual 2 dormitorio...\n",
      "https://www.indomio.es/anuncios/95223135/      rincon acogedor   necesitar espacio   gustar...\n",
      "                                                                   ...                        \n",
      "https://www.indomio.es/anuncios/95007509/    atico 95 m2 valencia valencia solidinmuebl ven...\n",
      "https://www.indomio.es/anuncios/94958481/    vender piso obra camino moncada tratar residen...\n",
      "https://www.indomio.es/anuncios/95006805/    vender exclusiva 6 vivienda obra calle arquite...\n",
      "https://www.indomio.es/anuncios/95313313/    vender piso barrio tormoseste luminoso apartam...\n",
      "https://www.indomio.es/anuncios/95319871/    piso ideal inversionista oportunidad adquirir ...\n",
      "Name: Descripcion, Length: 1558, dtype: object\n"
     ]
    }
   ],
   "source": [
    "import spacy\n",
    "import re\n",
    "import unicodedata\n",
    "import string\n",
    "\n",
    "# Cargar el modelo de spaCy para el idioma español\n",
    "nlp = spacy.load(\"es_core_news_sm\")\n",
    "\n",
    "def remove_accents(text):\n",
    "    new_text = unicodedata.normalize('NFKD', text).encode('ascii', 'ignore').decode('utf-8', 'ignore')\n",
    "    return new_text\n",
    "\n",
    "def remove_special_characters(text):\n",
    "    pat = '[{}]'.format(re.escape(string.punctuation))\n",
    "    return re.sub(pat, '', text)\n",
    "\n",
    "def preprocess_text(text):\n",
    "    if text is None:\n",
    "        return ''\n",
    "    # Convertir texto a minúsculas\n",
    "    text = text.lower()\n",
    "    # Eliminar acentos\n",
    "    text = remove_accents(text)\n",
    "    # Eliminar caracteres especiales y números\n",
    "    text = remove_special_characters(text)\n",
    "    # Tokenización y lematización con spaCy\n",
    "    doc = nlp(text)\n",
    "    tokens = [token.lemma_ for token in doc]\n",
    "    # Eliminar stopwords (opcional)\n",
    "    tokens = [word for word in tokens if not nlp.vocab[word].is_stop]\n",
    "    return ' '.join(tokens)\n",
    "\n",
    "# Aplicar la función de preprocesado a la columna 'Descripcion'\n",
    "df_def['Descripcion'] = df_def['Descripcion'].apply(preprocess_text)\n",
    "\n",
    "print(df_def['Descripcion'])\n"
   ]
  },
  {
   "cell_type": "code",
   "execution_count": 57,
   "metadata": {},
   "outputs": [
    {
     "name": "stdout",
     "output_type": "stream",
     "text": [
      "Applied filters: ['Habitaciones', 'Precio', 'Baños', 'Metros cuadrados', 'Contrato']\n"
     ]
    }
   ],
   "source": [
    "# Seleccionar las columnas relevantes\n",
    "columns = ['Descripcion', 'Precio', 'Habitaciones', 'Baños', 'Metros Cuadrados', 'Contrato']\n",
    "df_filtered = df_def[columns]\n",
    "\n",
    "min_bedrooms = 2\n",
    "max_price = 1500\n",
    "min_bathrooms = 1\n",
    "min_sqft = 120\n",
    "contrato = \"alquiler\"\n",
    "\n",
    "# List to keep track of applied filters\n",
    "applied_filters = []\n",
    "\n",
    "# Filtrar el DataFrame por habitaciones\n",
    "if min_bedrooms is not None and len(df_filtered[df_filtered['Habitaciones'] >= min_bedrooms]) >= 5:\n",
    "    df_filtered = df_filtered[df_filtered['Habitaciones'] >= min_bedrooms]\n",
    "    applied_filters.append('Habitaciones')\n",
    "\n",
    "# Filtrar el DataFrame por precio\n",
    "if max_price is not None and len(df_filtered[df_filtered['Precio'] <= max_price]) >= 5:\n",
    "    df_filtered = df_filtered[df_filtered['Precio'] <= max_price]\n",
    "    applied_filters.append('Precio')\n",
    "\n",
    "# Filtrar el DataFrame por baño\n",
    "if min_bathrooms is not None and len(df_filtered[df_filtered['Baños'] >= min_bathrooms]) >= 5:\n",
    "    df_filtered = df_filtered[df_filtered['Baños'] >= min_bathrooms]\n",
    "    applied_filters.append('Baños')\n",
    "\n",
    "# Filtrar el DataFrame por metros cuadrados\n",
    "if min_sqft is not None and len(df_filtered[df_filtered['Metros Cuadrados'] >= min_sqft]) >= 5:\n",
    "    df_filtered = df_filtered[df_filtered['Metros Cuadrados'] >= min_sqft]\n",
    "    applied_filters.append('Metros cuadrados')\n",
    "\n",
    "# Filtrar el DataFrame por contrato\n",
    "if contrato is not None and len(df_filtered[df_filtered['Contrato'] == contrato]) >= 5:\n",
    "    df_filtered = df_filtered[df_filtered['Contrato'] == contrato]\n",
    "    applied_filters.append('Contrato')\n",
    "\n",
    "print(\"Applied filters:\", applied_filters)"
   ]
  },
  {
   "cell_type": "code",
   "execution_count": 58,
   "metadata": {},
   "outputs": [
    {
     "name": "stdout",
     "output_type": "stream",
     "text": [
      "['piso alquiler campanar 1500 euros mes habitación bano terrazar bano banera ducha salon deber espacioso luminoso cocina deber moderno amueblado']\n"
     ]
    }
   ],
   "source": [
    "user_description = \"Un piso de alquiler en Campanar por menos de 1500 euros al mes, con tres habitaciones, dos baños y terraza. Uno de los baños tiene bañera y el otro ducha. El salón debe ser espacioso y luminoso y la cocina debe ser moderna y estar amueblada\"\n",
    "user_desc_processed = [preprocess_text(user_description)]\n",
    "print(user_desc_processed)"
   ]
  },
  {
   "cell_type": "markdown",
   "metadata": {},
   "source": [
    "### BOW"
   ]
  },
  {
   "cell_type": "code",
   "execution_count": 59,
   "metadata": {},
   "outputs": [
    {
     "name": "stdout",
     "output_type": "stream",
     "text": [
      "['1500' 'alquiler' 'amueblado' 'banera' 'bano' 'campanar' 'cocina' 'deber'\n",
      " 'ducha' 'espacioso' 'euros' 'habitación' 'luminoso' 'mes' 'moderno'\n",
      " 'piso' 'salon' 'terrazar']\n"
     ]
    }
   ],
   "source": [
    "from sklearn.feature_extraction.text import CountVectorizer\n",
    "from sklearn.metrics.pairwise import cosine_similarity\n",
    "\n",
    "cv = CountVectorizer()\n",
    "user_desc_bow = cv.fit_transform(user_desc_processed)\n",
    "desc_bow = cv.transform(df_filtered['Descripcion'])\n",
    "vocab = cv.get_feature_names_out()\n",
    "\n",
    "similarity_bow = cosine_similarity(user_desc_bow, desc_bow)\n",
    "\n",
    "print(vocab)"
   ]
  },
  {
   "cell_type": "code",
   "execution_count": 60,
   "metadata": {},
   "outputs": [
    {
     "name": "stdout",
     "output_type": "stream",
     "text": [
      "                                                                                 Descripcion  \\\n",
      "https://www.indomio.es/anuncios/95041839/  habitacion persona precio economico persona 36...   \n",
      "https://www.indomio.es/anuncios/95223135/    rincon acogedor   necesitar espacio   gustar...   \n",
      "https://www.indomio.es/anuncios/95183841/                                                      \n",
      "https://www.indomio.es/anuncios/95024555/  excavación centro amar vecindario vibrante   g...   \n",
      "https://www.indomio.es/anuncios/94845913/  alquilar departamento amoblado 2 recamara av p...   \n",
      "...                                                                                      ...   \n",
      "https://www.indomio.es/anuncios/94984795/  piso alquiler actualmente oficina estancia ban...   \n",
      "https://www.indomio.es/anuncios/94798533/  estupendo luminoso apartamento exterior situad...   \n",
      "https://www.indomio.es/anuncios/95155457/  engel   volkers presentar luminoso piso estren...   \n",
      "https://www.indomio.es/anuncios/95312521/  000alqaff1150 alquiler vivienda reformado asce...   \n",
      "https://www.indomio.es/anuncios/95066603/  descubrir hogar corazon ciudad ubicado calle s...   \n",
      "\n",
      "                                           Precio  Habitaciones  Baños  \\\n",
      "https://www.indomio.es/anuncios/95041839/     360             5      3   \n",
      "https://www.indomio.es/anuncios/95223135/     550             3      1   \n",
      "https://www.indomio.es/anuncios/95183841/    1500             2      1   \n",
      "https://www.indomio.es/anuncios/95024555/    1200             3      1   \n",
      "https://www.indomio.es/anuncios/94845913/    1300             3      1   \n",
      "...                                           ...           ...    ...   \n",
      "https://www.indomio.es/anuncios/94984795/    1500             4      1   \n",
      "https://www.indomio.es/anuncios/94798533/    1495             3      1   \n",
      "https://www.indomio.es/anuncios/95155457/    1400             3      2   \n",
      "https://www.indomio.es/anuncios/95312521/    1150             3      1   \n",
      "https://www.indomio.es/anuncios/95066603/    1500             2      2   \n",
      "\n",
      "                                           Metros Cuadrados  Contrato  \n",
      "https://www.indomio.es/anuncios/95041839/             169.0  alquiler  \n",
      "https://www.indomio.es/anuncios/95223135/             169.0  alquiler  \n",
      "https://www.indomio.es/anuncios/95183841/             169.0  alquiler  \n",
      "https://www.indomio.es/anuncios/95024555/             169.0  alquiler  \n",
      "https://www.indomio.es/anuncios/94845913/             169.0  alquiler  \n",
      "...                                                     ...       ...  \n",
      "https://www.indomio.es/anuncios/94984795/             169.0  alquiler  \n",
      "https://www.indomio.es/anuncios/94798533/             169.0  alquiler  \n",
      "https://www.indomio.es/anuncios/95155457/             169.0  alquiler  \n",
      "https://www.indomio.es/anuncios/95312521/             169.0  alquiler  \n",
      "https://www.indomio.es/anuncios/95066603/             169.0  alquiler  \n",
      "\n",
      "[242 rows x 6 columns]\n"
     ]
    }
   ],
   "source": [
    "import numpy as np\n",
    "\n",
    "sorted_indices = np.argsort(similarity_bow[0,:])\n",
    "\n",
    "filtered_df_bow = df_filtered.iloc[sorted_indices]\n",
    "\n",
    "print(filtered_df_bow)"
   ]
  },
  {
   "cell_type": "markdown",
   "metadata": {},
   "source": [
    "### TFIDF"
   ]
  },
  {
   "cell_type": "code",
   "execution_count": 61,
   "metadata": {},
   "outputs": [
    {
     "name": "stdout",
     "output_type": "stream",
     "text": [
      "['1500' 'alquiler' 'amueblado' 'banera' 'bano' 'campanar' 'cocina' 'deber'\n",
      " 'ducha' 'espacioso' 'euros' 'habitación' 'luminoso' 'mes' 'moderno'\n",
      " 'piso' 'salon' 'terrazar']\n"
     ]
    }
   ],
   "source": [
    "from sklearn.feature_extraction.text import TfidfVectorizer\n",
    "\n",
    "tv = TfidfVectorizer()\n",
    "user_desc_tfidf = tv.fit_transform(user_desc_processed)\n",
    "desc_tfidf = tv.transform(df_filtered['Descripcion'])\n",
    "vocab = tv.get_feature_names_out()\n",
    "\n",
    "similarity_tfidf = cosine_similarity(user_desc_tfidf, desc_tfidf)\n",
    "\n",
    "print(vocab)"
   ]
  },
  {
   "cell_type": "code",
   "execution_count": 62,
   "metadata": {},
   "outputs": [
    {
     "name": "stdout",
     "output_type": "stream",
     "text": [
      "                                                                                 Descripcion  \\\n",
      "https://www.indomio.es/anuncios/95041839/  habitacion persona precio economico persona 36...   \n",
      "https://www.indomio.es/anuncios/95283809/    juerguista rustico   querer encantado   gust...   \n",
      "https://www.indomio.es/anuncios/95024555/  excavación centro amar vecindario vibrante   g...   \n",
      "https://www.indomio.es/anuncios/95048745/                                                      \n",
      "https://www.indomio.es/anuncios/95315049/  alquilar departamento amoblado 3 recamara av g...   \n",
      "...                                                                                      ...   \n",
      "https://www.indomio.es/anuncios/94798533/  estupendo luminoso apartamento exterior situad...   \n",
      "https://www.indomio.es/anuncios/94984795/  piso alquiler actualmente oficina estancia ban...   \n",
      "https://www.indomio.es/anuncios/95155457/  engel   volkers presentar luminoso piso estren...   \n",
      "https://www.indomio.es/anuncios/95312521/  000alqaff1150 alquiler vivienda reformado asce...   \n",
      "https://www.indomio.es/anuncios/95066603/  descubrir hogar corazon ciudad ubicado calle s...   \n",
      "\n",
      "                                           Precio  Habitaciones  Baños  \\\n",
      "https://www.indomio.es/anuncios/95041839/     360             5      3   \n",
      "https://www.indomio.es/anuncios/95283809/    1000             3      1   \n",
      "https://www.indomio.es/anuncios/95024555/    1200             3      1   \n",
      "https://www.indomio.es/anuncios/95048745/    1350             2      1   \n",
      "https://www.indomio.es/anuncios/95315049/    1240             3      2   \n",
      "...                                           ...           ...    ...   \n",
      "https://www.indomio.es/anuncios/94798533/    1495             3      1   \n",
      "https://www.indomio.es/anuncios/94984795/    1500             4      1   \n",
      "https://www.indomio.es/anuncios/95155457/    1400             3      2   \n",
      "https://www.indomio.es/anuncios/95312521/    1150             3      1   \n",
      "https://www.indomio.es/anuncios/95066603/    1500             2      2   \n",
      "\n",
      "                                           Metros Cuadrados  Contrato  \n",
      "https://www.indomio.es/anuncios/95041839/             169.0  alquiler  \n",
      "https://www.indomio.es/anuncios/95283809/             169.0  alquiler  \n",
      "https://www.indomio.es/anuncios/95024555/             169.0  alquiler  \n",
      "https://www.indomio.es/anuncios/95048745/             169.0  alquiler  \n",
      "https://www.indomio.es/anuncios/95315049/             169.0  alquiler  \n",
      "...                                                     ...       ...  \n",
      "https://www.indomio.es/anuncios/94798533/             169.0  alquiler  \n",
      "https://www.indomio.es/anuncios/94984795/             169.0  alquiler  \n",
      "https://www.indomio.es/anuncios/95155457/             169.0  alquiler  \n",
      "https://www.indomio.es/anuncios/95312521/             169.0  alquiler  \n",
      "https://www.indomio.es/anuncios/95066603/             169.0  alquiler  \n",
      "\n",
      "[242 rows x 6 columns]\n"
     ]
    }
   ],
   "source": [
    "import numpy as np\n",
    "\n",
    "sorted_indices = np.argsort(similarity_tfidf[0,:])\n",
    "\n",
    "filtered_df_tfidf = df_filtered.iloc[sorted_indices]\n",
    "\n",
    "print(filtered_df_tfidf)"
   ]
  }
 ],
 "metadata": {
  "kernelspec": {
   "display_name": "mecagoenmismuertos",
   "language": "python",
   "name": "python3"
  },
  "language_info": {
   "codemirror_mode": {
    "name": "ipython",
    "version": 3
   },
   "file_extension": ".py",
   "mimetype": "text/x-python",
   "name": "python",
   "nbconvert_exporter": "python",
   "pygments_lexer": "ipython3",
   "version": "3.10.14"
  }
 },
 "nbformat": 4,
 "nbformat_minor": 2
}
