{
 "cells": [
  {
   "cell_type": "code",
   "execution_count": 1,
   "metadata": {},
   "outputs": [
    {
     "name": "stderr",
     "output_type": "stream",
     "text": [
      "c:\\Users\\pjcan\\anaconda3\\lib\\site-packages\\pandas\\core\\computation\\expressions.py:21: UserWarning: Pandas requires version '2.8.4' or newer of 'numexpr' (version '2.8.3' currently installed).\n",
      "  from pandas.core.computation.check import NUMEXPR_INSTALLED\n",
      "c:\\Users\\pjcan\\anaconda3\\lib\\site-packages\\pandas\\core\\arrays\\masked.py:60: UserWarning: Pandas requires version '1.3.6' or newer of 'bottleneck' (version '1.3.5' currently installed).\n",
      "  from pandas.core import (\n"
     ]
    },
    {
     "data": {
      "text/plain": [
       "Precio                    int64\n",
       "Descripcion              object\n",
       "Otras_caractericas       object\n",
       "Caracteristicas          object\n",
       "Eficiencia_energetica    object\n",
       "dtype: object"
      ]
     },
     "execution_count": 1,
     "metadata": {},
     "output_type": "execute_result"
    }
   ],
   "source": [
    "#Se quiere importar un archivo pickle con un diccionario y transformarlo en un dataframe de pandas\n",
    "\n",
    "import pandas as pd\n",
    "import pickle\n",
    "import re\n",
    "#Se importa el archivo pickle\n",
    "with open('scrap_info_alq.pkl', 'rb') as f:\n",
    "    diccionario = pickle.load(f)\n",
    "\n",
    "\n",
    "with open('scrap_info.pkl', 'rb') as f:\n",
    "    diccionario2 = pickle.load(f)\n",
    "#Se transforma el diccionario en un dataframe\n",
    "df = pd.DataFrame(diccionario)\n",
    "df2 = pd.DataFrame(diccionario2)\n",
    "#Ahora se cambia las filas por las columnas\n",
    "df = df.T\n",
    "df2 = df2.T\n",
    "df.head()\n",
    "df2.head()\n",
    "\n",
    "#Ahora unimos los dos dataframes\n",
    "df_def = pd.concat([df,df2])\n",
    "#Limpiamos la columna de precio quitando el simbolo de € y quitando el /mes\n",
    "\n",
    "df_def['Precio'] = df_def['Precio'].str.replace('€','')\n",
    "df_def['Precio'] = df_def['Precio'].str.replace('/mes','')\n",
    "\n",
    "#transformamos el el precio a numerico\t\n",
    "df_def['Precio'] = df_def['Precio'].str.replace('.','')\n",
    "\n",
    "#Eliminamos la fila que Precio que pone por consultar\n",
    "df_def = df_def[df_def['Precio'] != 'precio a consultar']\n",
    "\n",
    "#Transformamos la columna de precio a numerico\n",
    "df_def['Precio'] = pd.to_numeric(df_def['Precio'])\n",
    "\n",
    "#vemos el tipo de datos de cada columna\n",
    "df_def.dtypes"
   ]
  },
  {
   "cell_type": "markdown",
   "metadata": {},
   "source": [
    "Tras llamar al dataset y limpiar la columna del precio se va intentar construir un dataframe con columnas de m^2 número de habitaciones, baños etc."
   ]
  },
  {
   "cell_type": "code",
   "execution_count": 2,
   "metadata": {},
   "outputs": [
    {
     "name": "stdout",
     "output_type": "stream",
     "text": [
      "https://www.indomio.es/anuncios/95227781/    3\n",
      "https://www.indomio.es/anuncios/95146207/    4\n",
      "https://www.indomio.es/anuncios/94613177/    2\n",
      "https://www.indomio.es/anuncios/94500757/    2\n",
      "https://www.indomio.es/anuncios/95223135/    0\n",
      "                                            ..\n",
      "https://www.indomio.es/anuncios/95007509/    3\n",
      "https://www.indomio.es/anuncios/94958481/    2\n",
      "https://www.indomio.es/anuncios/95006805/    2\n",
      "https://www.indomio.es/anuncios/95313313/    3\n",
      "https://www.indomio.es/anuncios/95319871/    2\n",
      "Name: Habitaciones, Length: 1558, dtype: object\n"
     ]
    },
    {
     "name": "stderr",
     "output_type": "stream",
     "text": [
      "C:\\Users\\pjcan\\AppData\\Local\\Temp\\ipykernel_14648\\2467882900.py:6: FutureWarning: Series.__getitem__ treating keys as positions is deprecated. In a future version, integer keys will always be treated as labels (consistent with DataFrame behavior). To access a value by position, use `ser.iloc[pos]`\n",
      "  habitaciones_info = df_def[\"Caracteristicas\"][i].get(\"habitaciones\")\n"
     ]
    }
   ],
   "source": [
    "# Lista para almacenar los resultados\n",
    "resultados = []\n",
    "\n",
    "for i in range(0, len(df_def)):\n",
    "    # Obtén la información sobre las habitaciones de la fila actual\n",
    "    habitaciones_info = df_def[\"Caracteristicas\"][i].get(\"habitaciones\")\n",
    "    \n",
    "    # Verificar si habitaciones_info no es None\n",
    "    if habitaciones_info:\n",
    "        # Buscar el número que acompaña a la palabra \"dormitorio\"\n",
    "        dormitorios_numero = re.search(r'(\\d+) dormitorios', habitaciones_info)\n",
    "        if dormitorios_numero:\n",
    "            dormitorios = dormitorios_numero.group(1)\n",
    "        else:\n",
    "            dormitorios = \"0\"\n",
    "    else:\n",
    "        dormitorios = \"0\"\n",
    "    \n",
    "    # Agregar el resultado a la lista\n",
    "    resultados.append(dormitorios)\n",
    "\n",
    "# Agregar la lista como una nueva columna al DataFrame\n",
    "df_def['Habitaciones'] = resultados\n",
    "\n",
    "# Mostrar el DataFrame con la nueva columna\n",
    "print(df_def[\"Habitaciones\"])\n",
    "   "
   ]
  },
  {
   "cell_type": "code",
   "execution_count": 3,
   "metadata": {},
   "outputs": [
    {
     "name": "stderr",
     "output_type": "stream",
     "text": [
      "C:\\Users\\pjcan\\AppData\\Local\\Temp\\ipykernel_14648\\1420532621.py:7: FutureWarning: Series.__getitem__ treating keys as positions is deprecated. In a future version, integer keys will always be treated as labels (consistent with DataFrame behavior). To access a value by position, use `ser.iloc[pos]`\n",
      "  habitaciones_info = df_def[\"Caracteristicas\"][i].get(\"habitaciones\")\n"
     ]
    }
   ],
   "source": [
    "#Ahora se realiza lo mismo con los baños\n",
    "\n",
    "resultados = []\n",
    "\n",
    "for i in range(0, len(df_def)):\n",
    "    # Obtén la información sobre las habitaciones de la fila actual\n",
    "    habitaciones_info = df_def[\"Caracteristicas\"][i].get(\"habitaciones\")\n",
    "    \n",
    "    # Verificar si habitaciones_info no es None\n",
    "    if habitaciones_info:\n",
    "        # Buscar el número que acompaña a la palabra \"dormitorio\"\n",
    "        dormitorios_numero = re.search(r'(\\d+) baño[s]?', habitaciones_info)\n",
    "        if dormitorios_numero:\n",
    "            dormitorios = dormitorios_numero.group(1)\n",
    "        else:\n",
    "            dormitorios = \"0\"\n",
    "    else:\n",
    "        dormitorios = \"0\"\n",
    "    \n",
    "    # Agregar el resultado a la lista\n",
    "    resultados.append(dormitorios)\n",
    "\n",
    "# Agregar la lista como una nueva columna al DataFrame\n",
    "df_def['Baños'] = resultados\n"
   ]
  },
  {
   "cell_type": "code",
   "execution_count": 4,
   "metadata": {},
   "outputs": [
    {
     "name": "stdout",
     "output_type": "stream",
     "text": [
      "[0, 120.0, 0, 0, 0, 0, 0, 0, 0, 0, 0, 99.0, 0, 130.0, 0, 161.0, 134.0, 0, 0, 175.0, 0, 170.0, 0, 161.0, 0, 0, 0, 0, 0, 130.0, 0, 0, 90.0, 0, 0, 800.0, 0, 0, 0, 90.0, 120.0, 0, 0, 0, 2.0, 0, 0, 165.0, 2.0, 0, 0, 0, 0, 0, 0, 0, 0, 0, 30.0, 200.0, 200.0, 0, 46.0, 75.0, 0, 0, 0, 0, 0, 120.0, 0, 0, 0, 0, 0, 85.0, 0, 0, 13.0, 0, 13.0, 105.0, 0, 0, 0, 0, 120.0, 0, 0, 13.0, 13.0, 180.0, 10.0, 0, 110.0, 75.0, 13.0, 0, 125.0, 70.0, 166.0, 0, 0, 0, 93.0, 0, 125.0, 125.0, 160.0, 125.0, 90.0, 0, 55.0, 0, 0, 12.0, 90.0, 0, 0, 138.0, 81.0, 0, 0, 0, 0, 75.0, 0, 0, 88.0, 0, 0, 0, 0, 15.0, 0, 0, 150.0, 93.0, 0, 0, 0, 0, 0, 0, 40.0, 100.0, 0, 0, 80.0, 0, 0, 0, 50.0, 0, 0, 0, 0, 0, 0, 79.0, 0, 135.0, 0, 50.0, 80.0, 0, 76.0, 0, 0, 95.0, 0, 150.0, 0, 0, 4.0, 0, 208.0, 0, 0, 0, 100.0, 0, 0, 0, 0, 0, 0, 18.0, 0, 0, 0, 90.0, 0, 90.0, 0, 0, 90.0, 0, 0, 0, 80.0, 0, 0, 60.0, 500.0, 98.0, 0, 70.0, 0, 0, 0, 0, 0, 0, 0, 0, 0, 63.0, 0, 0, 0, 50.0, 0, 80.0, 0, 0, 0, 50.0, 0, 0, 0, 0, 0, 0, 0, 0, 0, 70.0, 90.0, 75.0, 0, 0, 90.0, 0, 90.0, 0, 180.0, 0, 0, 0, 0, 0, 110.0, 0, 0, 95.0, 120.0, 0, 0, 26.0, 0, 0, 0, 90.0, 0, 0, 0, 0, 0, 0, 0, 0, 0, 0, 0, 0, 0, 0, 0, 0, 0, 82.0, 70.0, 0, 0, 0, 60.0, 200.0, 0, 0, 0, 0, 0, 38.0, 0, 0, 0, 90.0, 38.0, 0, 0, 0, 0, 0, 0, 0, 40.0, 215.0, 0, 0, 94.0, 0, 154.0, 0, 160.0, 0, 0, 0, 70.0, 0, 195.0, 0, 0, 0, 0, 0, 38.0, 140.0, 126.0, 99.0, 0, 0, 0, 0, 0, 0, 0, 0, 0, 50.0, 0, 0, 100.0, 0, 0, 0, 0, 0, 0, 150.0, 0, 0, 0, 6.0, 30.0, 0, 0, 0, 0, 59.0, 0, 0, 0, 60.0, 0, 0, 60.0, 55.0, 0, 0, 0, 0, 0, 0, 0, 0, 0, 120.0, 0, 0, 0, 0, 0, 0, 0, 0, 0, 156.0, 0, 0, 0, 0, 0, 0, 0, 0, 0, 186.0, 0, 0, 0, 0, 0, 0, 80.0, 120.0, 30.0, 0, 0, 0, 0, 0, 0, 0, 0, 0, 0, 0, 0, 82.0, 0, 0, 122.0, 0, 79.0, 0, 0, 0, 120.0, 0, 0, 0, 0, 120.0, 0, 0, 0, 0, 0, 0, 0, 0, 0, 0, 0, 0, 0, 15.0, 115.0, 60.0, 0, 0, 0, 106.0, 50.0, 170.0, 130.0, 0, 0, 0, 0, 71.0, 0, 120.0, 0, 0, 0, 85.0, 0, 0, 89.0, 150.0, 50.0, 0, 120.0, 0, 0, 0, 0, 0, 0, 0, 100.0, 0, 40.0, 0, 125.0, 0, 0, 0, 0, 100.0, 0, 0, 0, 100.0, 0, 235.0, 0, 0, 0, 0, 0, 0, 0, 0, 0, 0, 0, 0, 0, 0, 0, 30.0, 0, 40.0, 0, 0, 0, 100.0, 180.0, 117.0, 242.0, 0, 117.0, 0, 0, 0, 0, 0, 0, 0, 118.0, 0, 200.0, 0, 0, 160.0, 800.0, 0, 0, 0, 0, 0, 0, 0, 100.0, 0, 0, 0, 100.0, 0, 0, 0, 45.0, 0, 0, 0, 60.0, 0, 0, 0, 0, 0, 0, 114.0, 0, 0, 0, 0, 0, 0, 110.0, 0, 0, 0, 0, 101.0, 0, 0, 95.0, 0, 0, 0, 90.0, 0, 0, 0, 0, 0, 0, 0, 120.0, 0, 20.0, 0, 0, 0, 84.0, 0, 40.0, 0, 0, 0, 188.0, 131.0, 86.0, 86.0, 0, 82.0, 107.0, 70.0, 0, 0, 75.0, 0, 0, 150.0, 61.0, 0, 0, 0, 139.0, 119.0, 0, 107.0, 135.0, 150.0, 135.0, 17.0, 0, 175.0, 0, 155.0, 135.0, 175.0, 188.0, 0, 24.0, 0, 0, 60.0, 0, 109.0, 2380.0, 100.0, 0, 1739.0, 0, 93.0, 0, 0, 0, 0, 90.0, 100.0, 53.0, 100.0, 0, 0, 0, 83.0, 0, 0, 0, 0, 30.0, 227.0, 30.0, 0, 0, 179.0, 0, 0, 200.0, 228.0, 100.0, 100.0, 0, 0, 15.0, 400.0, 80.0, 321.0, 40.0, 0, 196.0, 0, 5000.0, 90.0, 95.0, 150.0, 0, 0, 0, 0, 117.0, 0, 50.0, 220.0, 0, 0, 0, 89.0, 60.0, 68.0, 120.0, 108.0, 130.0, 0, 0, 60.0, 145.0, 50.0, 0, 55.0, 25.0, 0, 170.0, 0, 0, 0, 15.0, 0, 450.0, 0, 0, 0, 196.0, 300.0, 152.0, 125.0, 0, 0, 0, 0, 0, 0, 450.0, 0, 0, 160.0, 55.0, 0, 120.0, 0, 50.0, 160.0, 300.0, 0, 5.0, 260.0, 0, 0, 0, 305.0, 0, 0, 0, 0, 0, 0, 74.0, 95.0, 80.0, 0, 0, 122.0, 90.0, 0, 40.0, 0, 0, 65.0, 0, 64.0, 125.0, 84.0, 152.0, 144.0, 124.0, 107.0, 123.0, 123.0, 12.0, 130.0, 0, 144.0, 144.0, 0, 12.0, 70.0, 84.0, 0, 150.0, 0, 0, 150.0, 0, 0, 0, 103.0, 0, 0, 0, 0, 0, 210.0, 0, 0, 0, 0, 61.0, 0, 0, 0, 0, 45.0, 0, 158.0, 76.0, 100.0, 66.0, 87.0, 0, 110.0, 260.0, 0, 0, 103.0, 0, 46.0, 0, 0, 0, 0, 0, 100.0, 403.0, 0, 0, 65.0, 45.0, 95.0, 0, 0, 105.0, 0, 94.0, 0, 155.0, 0, 98.0, 0, 97.0, 143.0, 0, 0, 71.0, 0, 0, 0, 0, 0, 66.0, 0, 0, 0, 0, 100.0, 0, 0, 0, 0, 0, 0, 0, 300.0, 0, 87.0, 0, 0, 0, 0, 0, 74.0, 0, 0, 22.0, 0, 133.0, 0, 122.0, 0, 69.0, 90.0, 0, 0, 74.0, 133.0, 0, 0, 0, 0, 0, 0, 110.0, 0, 133.0, 0, 60.0, 0, 0, 0, 0, 0, 100.0, 118.0, 88.0, 0, 96.0, 6.0, 25.0, 0, 213.0, 170.0, 170.0, 0, 12.0, 0, 40.0, 13.0, 9500.0, 106.0, 40.0, 0, 0, 17.0, 0, 119.0, 0, 0, 150.0, 150.0, 0, 75.0, 150.0, 0, 0, 100.0, 51.0, 45.0, 70.0, 80.0, 0, 64.0, 0, 58.0, 0, 0, 0, 20.0, 0, 0, 0, 0, 0, 0, 0, 70.0, 80.0, 0, 0, 85.0, 0, 92.0, 0, 82.0, 110.0, 35.0, 0, 261.0, 0, 0, 109.0, 0, 8.0, 372.0, 0, 0, 42.0, 188.0, 0, 0, 0, 158.0, 263.0, 214.0, 0, 208.0, 236.0, 59.0, 0, 73.0, 197.0, 145.0, 156.0, 0, 266.0, 156.0, 0, 395.0, 0, 200.0, 0, 169.0, 220.0, 40.0, 1000.0, 0, 136.0, 0, 0, 177.0, 154.0, 114.0, 0, 265.0, 0, 1618.0, 191.0, 0, 0, 120.0, 140.0, 400.0, 0, 0, 0, 40.0, 240.0, 191.0, 139.0, 0, 310.0, 156.0, 265.0, 183.0, 0, 0, 146.0, 192.0, 0, 54.0, 185.0, 84.0, 0, 0, 0, 0, 150.0, 0, 0, 160.0, 30.0, 384.0, 0, 0, 0, 600.0, 1320.0, 3.0, 0, 0, 600.0, 0, 0, 0, 114.0, 0, 240.0, 0, 355.0, 0, 0, 0, 0, 282.0, 109.0, 208.0, 193.0, 0, 0, 0, 0, 0, 140.0, 0, 167.0, 200.0, 233.0, 0, 0, 60.0, 97.0, 300.0, 0, 0, 30.0, 0, 0, 0, 200.0, 97.0, 0, 0, 0, 300.0, 250.0, 0, 30.0, 300.0, 51.0, 170.0, 164.0, 0, 167.0, 0, 732.0, 370.0, 0, 164.0, 77.0, 0, 0, 70.0, 140.0, 0, 90.0, 0, 0, 0, 23.0, 167.0, 75.0, 260.0, 167.0, 89.0, 260.0, 488.0, 498.0, 139.0, 145.0, 450.0, 20.0, 90.0, 95.0, 66.0, 68.0, 155.0, 155.0, 0, 0, 366.0, 140.0, 0, 85.0, 0, 25.0, 700.0, 64.0, 0, 0, 0, 90.0, 200.0, 0, 0, 107.0, 0, 0, 0, 225.0, 75.0, 30.0, 74.0, 74.0, 89.0, 500.0, 0, 0, 0, 0, 74.0, 200.0, 0, 8.0, 0, 64.0, 6.0, 80.0, 0, 85.0, 0, 0, 73.0, 260.0, 0, 77.0, 87.0, 115.0, 0, 140.0, 0, 0, 0, 0, 0, 500.0, 0, 0, 90.0, 104.0, 95.0, 0, 0, 0, 0, 0, 0, 0, 0, 0, 130.0, 0, 633.0, 0, 76.0, 110.0, 45.0, 50.0, 95.0, 118.0, 0, 60.0, 0, 89.0, 0, 0, 94.0, 0, 0, 0, 0, 71.0, 60.0, 0, 0, 400.0, 77.0, 61.0, 0, 80.0, 160.0, 90.0, 0, 81.0, 102.0, 0, 0, 0, 0, 0, 0, 0, 129.0, 0, 400.0, 0, 0, 0, 68.0, 23.0, 5.453, 5453.0, 160.0, 56.0, 0, 0, 0, 156.0, 0, 119.0, 0, 45.0, 0, 0, 119.0, 42.0, 65.0, 100.0, 0, 0, 68.0, 0, 0, 0, 0, 0, 42.0, 0, 0, 0, 85.0, 0, 125.0, 0, 83.0, 0, 0, 151.0, 0, 125.0, 0, 0, 0, 88.0, 129.0, 0, 0, 147.0, 0, 0, 0, 156.0, 15.0, 0, 55.0, 15.0, 151.0, 0, 138.0, 12.0, 0, 35.0, 67.0, 80.0, 153.0, 92.0, 0, 56.0, 125.0, 200.0, 16.0, 0, 200.0, 16.0, 200.0, 16.0, 200.0, 16.0, 95.0, 0, 16.0, 16.0, 16.0, 90.0, 0, 158.0, 149.0, 129.0, 0, 0, 205.0, 89.0, 79.0, 211.0, 40.0, 0, 0, 120.0, 0, 0, 132.0, 112.0, 0, 197.0, 165.0, 0, 0, 0, 72.0, 30.0, 0, 55.0, 220.0, 0, 0, 0, 153.0, 0, 0, 145.0, 113.0, 38.0, 180.0, 191.0, 383.0, 0, 0, 0, 130.0, 200.0, 110.0, 365.0, 130.0, 269.0, 0, 120.0, 365.0, 170.0, 0, 261.0, 139.0, 365.0, 40.0, 139.0, 106.0, 261.0, 218.0, 246.0, 0, 0, 0, 0, 0, 130.0, 1272.0, 0, 0, 0, 88.0, 179.0, 156.0, 0, 95.0, 0, 187.0, 335.0, 545.0, 0, 300.0, 0, 0, 86.0, 0, 156.0, 0, 52.0, 128.0, 0, 80.0, 200.0, 101.0, 0, 0, 0, 70.0, 133.0, 133.0, 0, 0, 133.0, 20.0, 120.0, 0, 128.0, 172.0, 201.0, 80.0, 172.0, 0, 0, 94.0, 0, 210.0, 0, 0, 103.0, 74.0, 151.0, 15.0, 15.0, 0, 0, 0, 116.0, 75.0, 12.0, 0, 0, 95.0, 0, 120.0, 0, 86.0, 100.0, 0, 157.0, 55.0, 50.0, 60.0, 124.0, 0, 52.0, 25.0, 70.0, 120.0, 0, 120.0, 80.0, 60.0, 292.0, 123.0, 0, 156.0, 156.0, 25.0, 0, 0, 39.0, 63.0, 90.0, 0, 98.0, 0, 185.0, 0, 86.0, 0, 25.0, 0, 135.0, 0, 0, 0, 22.0, 0, 0, 130.0, 0, 0, 104.0, 95.0, 0, 0, 0, 0]\n"
     ]
    },
    {
     "name": "stderr",
     "output_type": "stream",
     "text": [
      "C:\\Users\\pjcan\\AppData\\Local\\Temp\\ipykernel_14648\\1454294714.py:6: FutureWarning: Series.__getitem__ treating keys as positions is deprecated. In a future version, integer keys will always be treated as labels (consistent with DataFrame behavior). To access a value by position, use `ser.iloc[pos]`\n",
      "  texto = str(df_def[\"Descripcion\"][i])\n"
     ]
    }
   ],
   "source": [
    "import re\n",
    "\n",
    "metros_cuadrados_lista = []\n",
    "for i in range(0, len(df_def)):\n",
    "    # Convertir la entrada de la columna \"Descripcion\" a cadena de texto\n",
    "    texto = str(df_def[\"Descripcion\"][i])\n",
    "    \n",
    "    # Buscar los metros cuadrados usando una expresión regular\n",
    "    metros_cuadrados_match = re.search(r'(\\d+(?:\\.\\d+)?)\\s*(?:m²|m2|metros\\s+cuadrados|metros)', texto)\n",
    "    \n",
    "    # Verificar si se encontró la información de los metros cuadrados\n",
    "    if metros_cuadrados_match:\n",
    "        metros_cuadrados = float(metros_cuadrados_match.group(1))  # Convertir a float en lugar de int\n",
    "    else:\n",
    "        metros_cuadrados = 0\n",
    "    \n",
    "    # Agregar el resultado a la lista\n",
    "    metros_cuadrados_lista.append(metros_cuadrados)\n",
    "\n",
    "print(metros_cuadrados_lista)\n",
    "\n",
    "#Ahora transformamos la lista en una columna del dataframe que sea metros cuadrados\n",
    "df_def[\"Metros cuadrados\"] = metros_cuadrados_lista\n",
    "\n"
   ]
  },
  {
   "cell_type": "code",
   "execution_count": 5,
   "metadata": {},
   "outputs": [
    {
     "name": "stderr",
     "output_type": "stream",
     "text": [
      "C:\\Users\\pjcan\\AppData\\Local\\Temp\\ipykernel_14648\\3358648040.py:7: FutureWarning: Series.__getitem__ treating keys as positions is deprecated. In a future version, integer keys will always be treated as labels (consistent with DataFrame behavior). To access a value by position, use `ser.iloc[pos]`\n",
      "  contrato = df_def[\"Caracteristicas\"][i].get(\"contrato\")\n"
     ]
    }
   ],
   "source": [
    "#Ahora se va a visualizar el tipo de contrato que se tiene en cada piso.\n",
    "\n",
    "\n",
    "#Se crea una lista para almacenar los resultados\n",
    "resultados = []\n",
    "for i in range(0, len(df_def)):\n",
    "    contrato = df_def[\"Caracteristicas\"][i].get(\"contrato\")\n",
    "    \n",
    "    if contrato:\n",
    "        contrato = contrato.lower()\n",
    "    else:\n",
    "        contrato = \"no especificado\"\n",
    "    \n",
    "    resultados.append(contrato)\n",
    "\n",
    "df_def[\"Contrato\"] = resultados\n",
    "\n",
    "\n"
   ]
  },
  {
   "cell_type": "code",
   "execution_count": 6,
   "metadata": {},
   "outputs": [
    {
     "data": {
      "text/plain": [
       "Precio                     int64\n",
       "Descripcion               object\n",
       "Otras_caractericas        object\n",
       "Caracteristicas           object\n",
       "Eficiencia_energetica     object\n",
       "Habitaciones               int64\n",
       "Baños                      int64\n",
       "Metros cuadrados         float64\n",
       "Contrato                  object\n",
       "dtype: object"
      ]
     },
     "execution_count": 6,
     "metadata": {},
     "output_type": "execute_result"
    }
   ],
   "source": [
    "\n",
    "#Se cambia el tipo de datos de las columnas habitaciones, baños a numerico y el de contrato a stirng\n",
    "df_def[\"Habitaciones\"] = pd.to_numeric(df_def[\"Habitaciones\"])\n",
    "df_def[\"Baños\"] = pd.to_numeric(df_def[\"Baños\"])\n",
    "df_def[\"Contrato\"] = df_def[\"Contrato\"].astype(str)\n",
    "\n",
    "\n",
    "df_def.dtypes"
   ]
  },
  {
   "cell_type": "code",
   "execution_count": 7,
   "metadata": {},
   "outputs": [
    {
     "name": "stdout",
     "output_type": "stream",
     "text": [
      "                                           Precio  \\\n",
      "https://www.indomio.es/anuncios/95227781/    1155   \n",
      "https://www.indomio.es/anuncios/95146207/    1540   \n",
      "https://www.indomio.es/anuncios/94613177/    2500   \n",
      "https://www.indomio.es/anuncios/94500757/    2500   \n",
      "https://www.indomio.es/anuncios/95223135/     550   \n",
      "...                                           ...   \n",
      "https://www.indomio.es/anuncios/95007509/  265000   \n",
      "https://www.indomio.es/anuncios/94958481/  230000   \n",
      "https://www.indomio.es/anuncios/95006805/  225000   \n",
      "https://www.indomio.es/anuncios/95313313/  139000   \n",
      "https://www.indomio.es/anuncios/95319871/  115000   \n",
      "\n",
      "                                                                                 Descripcion  \\\n",
      "https://www.indomio.es/anuncios/95227781/  alquila piso amueblado 3 habitaciones carrer d...   \n",
      "https://www.indomio.es/anuncios/95146207/  piso estudiantes entrar 1ro febrero 30 junio p...   \n",
      "https://www.indomio.es/anuncios/94613177/  disponible alquiler mensual anual 2 dormitorio...   \n",
      "https://www.indomio.es/anuncios/94500757/  disponible alquiler mensual anual 2 dormitorio...   \n",
      "https://www.indomio.es/anuncios/95223135/  rincon acogedor necesito espacio gustara perso...   \n",
      "...                                                                                      ...   \n",
      "https://www.indomio.es/anuncios/95007509/  atico 95 m2 valencia valencia solidinmuebles v...   \n",
      "https://www.indomio.es/anuncios/94958481/  venden pisos obra camino moncada residencial 1...   \n",
      "https://www.indomio.es/anuncios/95006805/  vende exclusiva 6 viviendas obra calle arquite...   \n",
      "https://www.indomio.es/anuncios/95313313/  vende piso barrio tormoseste luminoso apartame...   \n",
      "https://www.indomio.es/anuncios/95319871/  piso ideal inversionistas oportunidad adquirir...   \n",
      "\n",
      "                                                                          Otras_caractericas  \\\n",
      "https://www.indomio.es/anuncios/95227781/             [Instalación tv individual, Amueblado]   \n",
      "https://www.indomio.es/anuncios/95146207/                              [Exterior, Amueblado]   \n",
      "https://www.indomio.es/anuncios/94613177/                     [Terraza, Amueblado, Trastero]   \n",
      "https://www.indomio.es/anuncios/94500757/                     [Terraza, Amueblado, Trastero]   \n",
      "https://www.indomio.es/anuncios/95223135/             [Instalación tv individual, Amueblado]   \n",
      "...                                                                                      ...   \n",
      "https://www.indomio.es/anuncios/95007509/                                  [Balcón, Terraza]   \n",
      "https://www.indomio.es/anuncios/94958481/  [Exterior, Armario empotrado, Terraza, Piscina...   \n",
      "https://www.indomio.es/anuncios/95006805/                                                 []   \n",
      "https://www.indomio.es/anuncios/95313313/                                           [Balcón]   \n",
      "https://www.indomio.es/anuncios/95319871/                              [Exterior, Amueblado]   \n",
      "\n",
      "                                                                             Caracteristicas  \\\n",
      "https://www.indomio.es/anuncios/95227781/  {'Referencia y fecha del anuncio': '635423 - 2...   \n",
      "https://www.indomio.es/anuncios/95146207/  {'Referencia y fecha del anuncio': '679 - 21/0...   \n",
      "https://www.indomio.es/anuncios/94613177/  {'Referencia y fecha del anuncio': 'I-00KU41-W...   \n",
      "https://www.indomio.es/anuncios/94500757/  {'Referencia y fecha del anuncio': 'I-00KTO8-W...   \n",
      "https://www.indomio.es/anuncios/95223135/  {'Referencia y fecha del anuncio': '342394 - 2...   \n",
      "...                                                                                      ...   \n",
      "https://www.indomio.es/anuncios/95007509/  {'Referencia y fecha del anuncio': '1631-01atc...   \n",
      "https://www.indomio.es/anuncios/94958481/  {'Referencia y fecha del anuncio': 'M667 - 05/...   \n",
      "https://www.indomio.es/anuncios/95006805/  {'Referencia y fecha del anuncio': '46-3501283...   \n",
      "https://www.indomio.es/anuncios/95313313/  {'Referencia y fecha del anuncio': '579049 - 1...   \n",
      "https://www.indomio.es/anuncios/95319871/  {'Referencia y fecha del anuncio': '283954 - 2...   \n",
      "\n",
      "                                                                       Eficiencia_energetica  \\\n",
      "https://www.indomio.es/anuncios/95227781/                {'Emisiones de CO₂': 'No indicado'}   \n",
      "https://www.indomio.es/anuncios/95146207/  {'estado': 'Bueno / Habitable', 'certificación...   \n",
      "https://www.indomio.es/anuncios/94613177/  {'certificación energética': 'Pediente de cert...   \n",
      "https://www.indomio.es/anuncios/94500757/  {'Eficiencia energética': 'G368 kWh/m² año', '...   \n",
      "https://www.indomio.es/anuncios/95223135/                {'Emisiones de CO₂': 'No indicado'}   \n",
      "...                                                                                      ...   \n",
      "https://www.indomio.es/anuncios/95007509/  {'año de construcción': '1975', 'certificación...   \n",
      "https://www.indomio.es/anuncios/94958481/  {'año de construcción': '2026', 'Aire acondici...   \n",
      "https://www.indomio.es/anuncios/95006805/  {'año de construcción': '2026', 'estado': 'Nue...   \n",
      "https://www.indomio.es/anuncios/95313313/  {'año de construcción': '1971', 'Aire acondici...   \n",
      "https://www.indomio.es/anuncios/95319871/  {'año de construcción': '1965', 'certificación...   \n",
      "\n",
      "                                           Habitaciones  Baños  \\\n",
      "https://www.indomio.es/anuncios/95227781/             3      1   \n",
      "https://www.indomio.es/anuncios/95146207/             4      1   \n",
      "https://www.indomio.es/anuncios/94613177/             2      1   \n",
      "https://www.indomio.es/anuncios/94500757/             2      2   \n",
      "https://www.indomio.es/anuncios/95223135/             0      1   \n",
      "...                                                 ...    ...   \n",
      "https://www.indomio.es/anuncios/95007509/             3      1   \n",
      "https://www.indomio.es/anuncios/94958481/             2      2   \n",
      "https://www.indomio.es/anuncios/95006805/             2      2   \n",
      "https://www.indomio.es/anuncios/95313313/             3      1   \n",
      "https://www.indomio.es/anuncios/95319871/             2      1   \n",
      "\n",
      "                                           Metros cuadrados  Contrato  \n",
      "https://www.indomio.es/anuncios/95227781/               0.0  alquiler  \n",
      "https://www.indomio.es/anuncios/95146207/             120.0  alquiler  \n",
      "https://www.indomio.es/anuncios/94613177/               0.0  alquiler  \n",
      "https://www.indomio.es/anuncios/94500757/               0.0  alquiler  \n",
      "https://www.indomio.es/anuncios/95223135/               0.0  alquiler  \n",
      "...                                                     ...       ...  \n",
      "https://www.indomio.es/anuncios/95007509/              95.0     venta  \n",
      "https://www.indomio.es/anuncios/94958481/               0.0     venta  \n",
      "https://www.indomio.es/anuncios/95006805/               0.0     venta  \n",
      "https://www.indomio.es/anuncios/95313313/               0.0     venta  \n",
      "https://www.indomio.es/anuncios/95319871/               0.0     venta  \n",
      "\n",
      "[1558 rows x 9 columns]\n"
     ]
    }
   ],
   "source": [
    "from sklearn.metrics.pairwise import cosine_similarity\n",
    "from sklearn.feature_extraction.text import TfidfVectorizer\n",
    "import nltk\n",
    "from nltk.corpus import stopwords\n",
    "from nltk.stem import WordNetLemmatizer\n",
    "import pandas as pd\n",
    "import re\n",
    "import unicodedata\n",
    "import spacy\n",
    "import string\n",
    "from spellchecker import SpellChecker   #conda install -c conda-forge pyspellchecker\n",
    "# Spanish\n",
    "spell = SpellChecker(language='es')  \n",
    "nlp_es = spacy.load('es_core_news_md')\n",
    "\n",
    "# Eliminamos caracteres especiales\n",
    "def remove_special_characters(text):\n",
    "    pat = '[{}]'.format(re.escape(string.punctuation))\n",
    "    return re.sub(pat, '', text)\n",
    "\n",
    "# Quitamos puntuación/espacios y stopwords, lematizamos si lemma=TRUE y lo ponemos en minusculas\n",
    "def process_text(doc, lemma=True):\n",
    "    tokens = nlp_es(doc)\n",
    "    filtered_tokens = [t.lemma_.lower() if lemma else t.lower_ for t in tokens if not t.is_stop and not t.is_punct and not t.is_space]\n",
    "    return ' '.join(filtered_tokens)\n",
    "\n",
    "# Corregimos palabras mal escritas\n",
    "def correct_spelling(filtered_tokens):\n",
    "    corrected_tokens = []\n",
    "    for token in filtered_tokens:\n",
    "        if token.isalpha():\n",
    "            corrected_word = spell.correction(token)\n",
    "            corrected_tokens.append(corrected_word if corrected_word else token)\n",
    "        else:\n",
    "            corrected_tokens.append(token)\n",
    "    return ''.join(corrected_tokens)\n",
    "\n",
    "# Eliminamos acentos así como cualquier caracter que no están codificados en ASCII\n",
    "def remove_accents(text):\n",
    "    new_text = unicodedata.normalize('NFKD', text).encode('ascii', 'ignore').decode('utf-8', 'ignore')\n",
    "    return new_text\n",
    "\n",
    "def preprocess_text(text):\n",
    "    if text is None:\n",
    "        return ''\n",
    "    text = remove_special_characters(text)\n",
    "    text = correct_spelling(text)\n",
    "    text = process_text(text, lemma=False)\n",
    "    text = remove_accents(text)\n",
    "    return text\n",
    "\n",
    "df_def['Descripcion'] = df_def['Descripcion'].apply(preprocess_text)\n",
    "\n",
    "print(df_def)\n",
    "\n",
    "# tfidf_vectorizer = TfidfVectorizer(max_features=1000)\n",
    "# X = tfidf_vectorizer.fit_transform(df_def['Descripcion'])\n",
    "# print(X)"
   ]
  },
  {
   "cell_type": "code",
   "execution_count": 8,
   "metadata": {},
   "outputs": [
    {
     "name": "stdout",
     "output_type": "stream",
     "text": [
      "https://www.indomio.es/anuncios/95227781/    alquila piso amueblado 3 habitaciones carrer d...\n",
      "https://www.indomio.es/anuncios/95146207/    piso estudiantes entrar 1ro febrero 30 junio p...\n",
      "https://www.indomio.es/anuncios/94613177/    disponible alquiler mensual anual 2 dormitorio...\n",
      "https://www.indomio.es/anuncios/94500757/    disponible alquiler mensual anual 2 dormitorio...\n",
      "https://www.indomio.es/anuncios/95223135/    rincon acogedor necesito espacio gustara perso...\n",
      "                                                                   ...                        \n",
      "https://www.indomio.es/anuncios/95007509/    atico 95 m2 valencia valencia solidinmuebles v...\n",
      "https://www.indomio.es/anuncios/94958481/    venden pisos obra camino moncada residencial 1...\n",
      "https://www.indomio.es/anuncios/95006805/    vende exclusiva 6 viviendas obra calle arquite...\n",
      "https://www.indomio.es/anuncios/95313313/    vende piso barrio tormoseste luminoso apartame...\n",
      "https://www.indomio.es/anuncios/95319871/    piso ideal inversionistas oportunidad adquirir...\n",
      "Name: Descripcion, Length: 1558, dtype: object\n"
     ]
    }
   ],
   "source": [
    "print(df_def[\"Descripcion\"])\n",
    "columns = ['Descripcion', 'Precio', 'Habitaciones', 'Baños', 'Metros cuadrados', 'Contrato']\n",
    "df_filtered = df_def[columns]\n",
    "\n",
    "df_filtered.to_pickle(\"pisos_filtrado.pkl\")"
   ]
  },
  {
   "cell_type": "code",
   "execution_count": 9,
   "metadata": {},
   "outputs": [
    {
     "name": "stdout",
     "output_type": "stream",
     "text": [
      "                                                                                 Descripcion  \\\n",
      "https://www.indomio.es/anuncios/94500757/  disponible alquiler mensual anual 2 dormitorio...   \n",
      "https://www.indomio.es/anuncios/94613177/  disponible alquiler mensual anual 2 dormitorio...   \n",
      "https://www.indomio.es/anuncios/95211299/  encantador balcon necesitan vista gustara depe...   \n",
      "https://www.indomio.es/anuncios/95146207/  piso estudiantes entrar 1ro febrero 30 junio p...   \n",
      "https://www.indomio.es/anuncios/95259833/  perspectiva tendencia vista elegante apartamen...   \n",
      "\n",
      "                                           Precio  Habitaciones  Baños  \\\n",
      "https://www.indomio.es/anuncios/94500757/    2500             2      2   \n",
      "https://www.indomio.es/anuncios/94613177/    2500             2      1   \n",
      "https://www.indomio.es/anuncios/95211299/     900             0      1   \n",
      "https://www.indomio.es/anuncios/95146207/    1540             4      1   \n",
      "https://www.indomio.es/anuncios/95259833/     900             0      1   \n",
      "\n",
      "                                           Metros cuadrados  Contrato  \n",
      "https://www.indomio.es/anuncios/94500757/               0.0  alquiler  \n",
      "https://www.indomio.es/anuncios/94613177/               0.0  alquiler  \n",
      "https://www.indomio.es/anuncios/95211299/               0.0  alquiler  \n",
      "https://www.indomio.es/anuncios/95146207/             120.0  alquiler  \n",
      "https://www.indomio.es/anuncios/95259833/               0.0  alquiler  \n"
     ]
    }
   ],
   "source": [
    "# Obtener los 5 pisos más comunes basados en la columna 'Descripcion', \"Precio\", \"Habitaciones\", \"Baños\", \"Metros cuadrados\" y \"Contrato\"\n",
    "\n",
    "# Seleccionar las columnas relevantes\n",
    "columns = ['Descripcion', 'Precio', 'Habitaciones', 'Baños', 'Metros cuadrados', 'Contrato']\n",
    "df_filtered = df_def[columns]\n",
    "\n",
    "#descripcion = \"con terraza y vistas al mar\"\n",
    "min_bedrooms = 2\n",
    "max_price = 1500\n",
    "min_bathrooms = 1\n",
    "min_sqft = 120\n",
    "contrato = \"alquiler\"\n",
    "\n",
    "# Filtrar el DataFrame por habitaciones, precio, baño y metros cuadrados\n",
    "filtered_df = df_filtered[(df_filtered['Habitaciones'] >= min_bedrooms) &\n",
    "                          (df_filtered['Precio'] <= max_price) &\n",
    "                          (df_filtered['Baños'] >= min_bathrooms) &\n",
    "                          (df_filtered['Metros cuadrados'] >= min_sqft) &\n",
    "                          (df_filtered['Contrato'] == contrato)]\n",
    "                          #(df_filtered['Descripcion'].str.contains(descripcion))]\n",
    "\n",
    "# Crear un vectorizador TF-IDF\n",
    "tfidf_vectorizer = TfidfVectorizer(max_features=1000)\n",
    "X_filtered = tfidf_vectorizer.fit_transform(filtered_df['Descripcion'])\n",
    "\n",
    "# Calcular la similitud de coseno entre las descripciones\n",
    "similarities = cosine_similarity(X_filtered)\n",
    "\n",
    "# Calcular la similitud total para cada piso\n",
    "total_similarities = similarities.sum(axis=1)\n",
    "\n",
    "# Obtener los índices de los 5 pisos más comunes\n",
    "top_indices = total_similarities.argsort()[::-1][:5]\n",
    "\n",
    "# Mostrar los 5 pisos más comunes\n",
    "print(df_filtered.iloc[top_indices])\n"
   ]
  }
 ],
 "metadata": {
  "kernelspec": {
   "display_name": "mecagoenmismuertos",
   "language": "python",
   "name": "python3"
  },
  "language_info": {
   "codemirror_mode": {
    "name": "ipython",
    "version": 3
   },
   "file_extension": ".py",
   "mimetype": "text/x-python",
   "name": "python",
   "nbconvert_exporter": "python",
   "pygments_lexer": "ipython3",
   "version": "3.9.13"
  }
 },
 "nbformat": 4,
 "nbformat_minor": 2
}
