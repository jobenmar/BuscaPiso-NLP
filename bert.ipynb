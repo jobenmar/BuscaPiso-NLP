{
 "cells": [
  {
   "cell_type": "code",
   "execution_count": 3,
   "metadata": {},
   "outputs": [
    {
     "data": {
      "text/plain": [
       "Precio                    int64\n",
       "Descripcion              object\n",
       "Otras_caractericas       object\n",
       "Caracteristicas          object\n",
       "Eficiencia_energetica    object\n",
       "dtype: object"
      ]
     },
     "execution_count": 3,
     "metadata": {},
     "output_type": "execute_result"
    }
   ],
   "source": [
    "#Se quiere importar un archivo pickle con un diccionario y transformarlo en un dataframe de pandas\n",
    "\n",
    "import pandas as pd\n",
    "import pickle\n",
    "import re\n",
    "#Se importa el archivo pickle\n",
    "with open('scrap_info_alq.pkl', 'rb') as f:\n",
    "    diccionario = pickle.load(f)\n",
    "\n",
    "\n",
    "with open('scrap_info.pkl', 'rb') as f:\n",
    "    diccionario2 = pickle.load(f)\n",
    "#Se transforma el diccionario en un dataframe\n",
    "df = pd.DataFrame(diccionario)\n",
    "df2 = pd.DataFrame(diccionario2)\n",
    "#Ahora se cambia las filas por las columnas\n",
    "df = df.T\n",
    "df2 = df2.T\n",
    "df.head()\n",
    "df2.head()\n",
    "\n",
    "#Ahora unimos los dos dataframes\n",
    "df_def = pd.concat([df,df2])\n",
    "#Limpiamos la columna de precio quitando el simbolo de € y quitando el /mes\n",
    "\n",
    "df_def['Precio'] = df_def['Precio'].str.replace('€','')\n",
    "df_def['Precio'] = df_def['Precio'].str.replace('/mes','')\n",
    "\n",
    "#transformamos el el precio a numerico\t\n",
    "df_def['Precio'] = df_def['Precio'].str.replace('.','')\n",
    "\n",
    "#Eliminamos la fila que Precio que pone por consultar\n",
    "df_def = df_def[df_def['Precio'] != 'precio a consultar']\n",
    "\n",
    "#Transformamos la columna de precio a numerico\n",
    "df_def['Precio'] = pd.to_numeric(df_def['Precio'])\n",
    "\n",
    "#vemos el tipo de datos de cada columna\n",
    "df_def.dtypes"
   ]
  },
  {
   "cell_type": "markdown",
   "metadata": {},
   "source": [
    "Tras llamar al dataset y limpiar la columna del precio se va intentar construir un dataframe con columnas de m^2 número de habitaciones, baños etc."
   ]
  },
  {
   "cell_type": "code",
   "execution_count": 4,
   "metadata": {},
   "outputs": [
    {
     "name": "stdout",
     "output_type": "stream",
     "text": [
      "https://www.indomio.es/anuncios/95227781/       3\n",
      "https://www.indomio.es/anuncios/95146207/       4\n",
      "https://www.indomio.es/anuncios/94613177/       2\n",
      "https://www.indomio.es/anuncios/94500757/       2\n",
      "https://www.indomio.es/anuncios/95223135/    None\n",
      "                                             ... \n",
      "https://www.indomio.es/anuncios/95007509/       3\n",
      "https://www.indomio.es/anuncios/94958481/       2\n",
      "https://www.indomio.es/anuncios/95006805/       2\n",
      "https://www.indomio.es/anuncios/95313313/       3\n",
      "https://www.indomio.es/anuncios/95319871/       2\n",
      "Name: Habitaciones, Length: 1558, dtype: object\n"
     ]
    },
    {
     "name": "stderr",
     "output_type": "stream",
     "text": [
      "C:\\Users\\imigu\\AppData\\Local\\Temp\\ipykernel_17936\\1792689109.py:6: FutureWarning: Series.__getitem__ treating keys as positions is deprecated. In a future version, integer keys will always be treated as labels (consistent with DataFrame behavior). To access a value by position, use `ser.iloc[pos]`\n",
      "  habitaciones_info = df_def[\"Caracteristicas\"][i].get(\"habitaciones\")\n"
     ]
    }
   ],
   "source": [
    "# Lista para almacenar los resultados\n",
    "resultados = []\n",
    "\n",
    "for i in range(len(df_def)):\n",
    "    # Obtén la información sobre las habitaciones de la fila actual\n",
    "    habitaciones_info = df_def[\"Caracteristicas\"][i].get(\"habitaciones\")\n",
    "    \n",
    "    # Verificar si habitaciones_info no es None\n",
    "    if habitaciones_info:\n",
    "        # Buscar el número que acompaña a la palabra \"dormitorio\"\n",
    "        dormitorios_numero = re.search(r'(\\d+) dormitorios', habitaciones_info)\n",
    "        if dormitorios_numero:\n",
    "            dormitorios = dormitorios_numero.group(1)\n",
    "        else:\n",
    "            dormitorios = None\n",
    "    else:\n",
    "        dormitorios = None\n",
    "    \n",
    "    # Agregar el resultado a la lista\n",
    "    resultados.append(dormitorios)\n",
    "\n",
    "# Agregar la lista como una nueva columna al DataFrame\n",
    "df_def['Habitaciones'] = resultados\n",
    "\n",
    "# Mostrar el DataFrame con la nueva columna\n",
    "print(df_def[\"Habitaciones\"])"
   ]
  },
  {
   "cell_type": "code",
   "execution_count": 5,
   "metadata": {},
   "outputs": [
    {
     "name": "stderr",
     "output_type": "stream",
     "text": [
      "C:\\Users\\imigu\\AppData\\Local\\Temp\\ipykernel_17936\\2203443698.py:5: FutureWarning: Series.__getitem__ treating keys as positions is deprecated. In a future version, integer keys will always be treated as labels (consistent with DataFrame behavior). To access a value by position, use `ser.iloc[pos]`\n",
      "  habitaciones_info = df_def[\"Caracteristicas\"][i].get(\"habitaciones\")\n"
     ]
    }
   ],
   "source": [
    "resultados = []\n",
    "\n",
    "for i in range(len(df_def)):\n",
    "    # Obtén la información sobre los baños de la fila actual\n",
    "    habitaciones_info = df_def[\"Caracteristicas\"][i].get(\"habitaciones\")\n",
    "    \n",
    "    # Verificar si habitaciones_info no es None\n",
    "    if habitaciones_info:\n",
    "        # Buscar el número que acompaña a la palabra \"baño(s)\"\n",
    "        banos_numero = re.search(r'(\\d+) baño[s]?', habitaciones_info)\n",
    "        if banos_numero:\n",
    "            banos = banos_numero.group(1)\n",
    "        else:\n",
    "            banos = None\n",
    "    else:\n",
    "        banos = None\n",
    "    \n",
    "    # Agregar el resultado a la lista\n",
    "    resultados.append(banos)\n",
    "\n",
    "# Agregar la lista como una nueva columna al DataFrame\n",
    "df_def['Baños'] = resultados\n"
   ]
  },
  {
   "cell_type": "code",
   "execution_count": 6,
   "metadata": {},
   "outputs": [
    {
     "name": "stdout",
     "output_type": "stream",
     "text": [
      "[None, 120.0, None, None, None, None, None, None, None, None, None, 99.0, None, 130.0, None, 161.0, 134.0, None, None, 175.0, None, 170.0, None, 161.0, None, None, None, None, None, 130.0, None, None, 90.0, None, None, 800.0, None, None, None, 90.0, 120.0, None, None, None, 2.0, None, None, 165.0, 2.0, None, None, None, None, None, None, None, None, None, 30.0, 200.0, 200.0, None, 46.0, 75.0, None, None, None, None, None, 120.0, None, None, None, None, None, 85.0, None, None, 13.0, None, 13.0, 105.0, None, None, None, None, 120.0, None, None, 13.0, 13.0, 180.0, 10.0, None, 110.0, 75.0, 13.0, None, 125.0, 70.0, 166.0, None, None, None, 93.0, None, 125.0, 125.0, 160.0, 125.0, 90.0, None, 55.0, None, None, 12.0, 90.0, None, None, 138.0, 81.0, None, None, None, None, 75.0, None, None, 88.0, None, None, None, None, 15.0, None, None, 150.0, 93.0, None, None, None, None, None, None, 40.0, 100.0, None, None, 80.0, None, None, None, 50.0, None, None, None, None, None, None, 79.0, None, 135.0, None, 50.0, 80.0, None, 76.0, None, None, 95.0, None, 150.0, None, None, 4.0, None, 208.0, None, None, None, 100.0, None, None, None, None, None, None, 18.0, None, None, None, 90.0, None, 90.0, None, None, 90.0, None, None, None, 80.0, None, None, 60.0, 500.0, 98.0, None, 70.0, None, None, None, None, None, None, None, None, None, 63.0, None, None, None, 50.0, None, 80.0, None, None, None, 50.0, None, None, None, None, None, None, None, None, None, 70.0, 90.0, 75.0, None, None, 90.0, None, 90.0, None, 180.0, None, None, None, None, None, 110.0, None, None, 95.0, 120.0, None, None, 26.0, None, None, None, 90.0, None, None, None, None, None, None, None, None, None, None, None, None, None, None, None, None, None, 82.0, 70.0, None, None, None, 60.0, 200.0, None, None, None, None, None, 38.0, None, None, None, 90.0, 38.0, None, None, None, None, None, None, None, 40.0, 215.0, None, None, 94.0, None, 154.0, None, 160.0, None, None, None, 70.0, None, 195.0, None, None, None, None, None, 38.0, 140.0, 126.0, 99.0, None, None, None, None, None, None, None, None, None, 50.0, None, None, 100.0, None, None, None, None, None, None, 150.0, None, None, None, 6.0, 30.0, None, None, None, None, 59.0, None, None, None, 60.0, None, None, 60.0, 55.0, None, None, None, None, None, None, None, None, None, 120.0, None, None, None, None, None, None, None, None, None, 156.0, None, None, None, None, None, None, None, None, None, 186.0, None, None, None, None, None, None, 80.0, 120.0, 30.0, None, None, None, None, None, None, None, None, None, None, None, None, 82.0, None, None, 122.0, None, 79.0, None, None, None, 120.0, None, None, None, None, 120.0, None, None, None, None, None, None, None, None, None, None, None, None, None, 15.0, 115.0, 60.0, None, None, None, 106.0, 50.0, 170.0, 130.0, None, None, None, None, 71.0, None, 120.0, None, None, None, 85.0, None, None, 89.0, 150.0, 50.0, None, 120.0, None, None, None, None, None, None, None, 100.0, None, 40.0, None, 125.0, None, None, None, None, 100.0, None, None, None, 100.0, None, 235.0, None, None, None, None, None, None, None, None, None, None, None, None, None, None, None, 30.0, None, 40.0, None, None, None, 100.0, 180.0, 117.0, 242.0, None, 117.0, None, None, None, None, None, None, None, 118.0, None, 200.0, None, None, 160.0, 800.0, None, None, None, None, None, None, None, 100.0, None, None, None, 100.0, None, None, None, 45.0, None, None, None, 60.0, None, None, None, None, None, None, 114.0, None, None, None, None, None, None, 110.0, None, None, None, None, 101.0, None, None, 95.0, None, None, None, 90.0, None, None, None, None, None, None, None, 120.0, None, 20.0, None, None, None, 84.0, None, 40.0, None, None, None, 188.0, 131.0, 86.0, 86.0, None, 82.0, 107.0, 70.0, None, None, 75.0, None, None, 150.0, 61.0, None, None, None, 139.0, 119.0, None, 107.0, 135.0, 150.0, 135.0, 17.0, None, 175.0, None, 155.0, 135.0, 175.0, 188.0, None, 24.0, None, None, 60.0, None, 109.0, 2380.0, 100.0, None, 1739.0, None, 93.0, None, None, None, None, 90.0, 100.0, 53.0, 100.0, None, None, None, 83.0, None, None, None, None, 30.0, 227.0, 30.0, None, None, 179.0, None, None, 200.0, 228.0, 100.0, 100.0, None, None, 15.0, 400.0, 80.0, 321.0, 40.0, None, 196.0, None, 5000.0, 90.0, 95.0, 150.0, None, None, None, None, 117.0, None, 50.0, 220.0, None, None, None, 89.0, 60.0, 68.0, 120.0, 108.0, 130.0, None, None, 60.0, 145.0, 50.0, None, 55.0, 25.0, None, 170.0, None, None, None, 15.0, None, 450.0, None, None, None, 196.0, 300.0, 152.0, 125.0, None, None, None, None, None, None, 450.0, None, None, 160.0, 55.0, None, 120.0, None, 50.0, 160.0, 300.0, None, 5.0, 260.0, None, None, None, 305.0, None, None, None, None, None, None, 74.0, 95.0, 80.0, None, None, 122.0, 90.0, None, 40.0, None, None, 65.0, None, 64.0, 125.0, 84.0, 152.0, 144.0, 124.0, 107.0, 123.0, 123.0, 12.0, 130.0, None, 144.0, 144.0, None, 12.0, 70.0, 84.0, None, 150.0, None, None, 150.0, None, None, None, 103.0, None, None, None, None, None, 210.0, None, None, None, None, 61.0, None, None, None, None, 45.0, None, 158.0, 76.0, 100.0, 66.0, 87.0, None, 110.0, 260.0, None, None, 103.0, None, 46.0, None, None, None, None, None, 100.0, 403.0, None, None, 65.0, 45.0, 95.0, None, None, 105.0, None, 94.0, None, 155.0, None, 98.0, None, 97.0, 143.0, None, None, 71.0, None, None, None, None, None, 66.0, None, None, None, None, 100.0, None, None, None, None, None, None, None, 300.0, None, 87.0, None, None, None, None, None, 74.0, None, None, 22.0, None, 133.0, None, 122.0, None, 69.0, 90.0, None, None, 74.0, 133.0, None, None, None, None, None, None, 110.0, None, 133.0, None, 60.0, None, None, None, None, None, 100.0, 118.0, 88.0, None, 96.0, 6.0, 25.0, None, 213.0, 170.0, 170.0, None, 12.0, None, 40.0, 13.0, 9500.0, 106.0, 40.0, None, None, 17.0, None, 119.0, None, None, 150.0, 150.0, None, 75.0, 150.0, None, None, 100.0, 51.0, 45.0, 70.0, 80.0, None, 64.0, None, 58.0, None, None, None, 20.0, None, None, None, None, None, None, None, 70.0, 80.0, None, None, 85.0, None, 92.0, None, 82.0, 110.0, 35.0, None, 261.0, None, None, 109.0, None, 8.0, 372.0, None, None, 42.0, 188.0, None, None, None, 158.0, 263.0, 214.0, None, 208.0, 236.0, 59.0, None, 73.0, 197.0, 145.0, 156.0, None, 266.0, 156.0, None, 395.0, None, 200.0, None, 169.0, 220.0, 40.0, 1000.0, None, 136.0, None, None, 177.0, 154.0, 114.0, None, 265.0, None, 1618.0, 191.0, None, None, 120.0, 140.0, 400.0, None, None, None, 40.0, 240.0, 191.0, 139.0, None, 310.0, 156.0, 265.0, 183.0, None, None, 146.0, 192.0, None, 54.0, 185.0, 84.0, None, None, None, None, 150.0, None, None, 160.0, 30.0, 384.0, None, None, None, 600.0, 1320.0, 3.0, None, None, 600.0, None, None, None, 114.0, None, 240.0, None, 355.0, None, None, None, None, 282.0, 109.0, 208.0, 193.0, None, None, None, None, None, 140.0, None, 167.0, 200.0, 233.0, None, None, 60.0, 97.0, 300.0, None, None, 30.0, None, None, None, 200.0, 97.0, None, None, None, 300.0, 250.0, None, 30.0, 300.0, 51.0, 170.0, 164.0, None, 167.0, None, 732.0, 370.0, None, 164.0, 77.0, None, None, 70.0, 140.0, None, 90.0, None, None, None, 23.0, 167.0, 75.0, 260.0, 167.0, 89.0, 260.0, 488.0, 498.0, 139.0, 145.0, 450.0, 20.0, 90.0, 95.0, 66.0, 68.0, 155.0, 155.0, None, None, 366.0, 140.0, None, 85.0, None, 25.0, 700.0, 64.0, None, None, None, 90.0, 200.0, None, None, 107.0, None, None, None, 225.0, 75.0, 30.0, 74.0, 74.0, 89.0, 500.0, None, None, None, None, 74.0, 200.0, None, 8.0, None, 64.0, 6.0, 80.0, None, 85.0, None, None, 73.0, 260.0, None, 77.0, 87.0, 115.0, None, 140.0, None, None, None, None, None, 500.0, None, None, 90.0, 104.0, 95.0, None, None, None, None, None, None, None, None, None, 130.0, None, 633.0, None, 76.0, 110.0, 45.0, 50.0, 95.0, 118.0, None, 60.0, None, 89.0, None, None, 94.0, None, None, None, None, 71.0, 60.0, None, None, 400.0, 77.0, 61.0, None, 80.0, 160.0, 90.0, None, 81.0, 102.0, None, None, None, None, None, None, None, 129.0, None, 400.0, None, None, None, 68.0, 23.0, 5.453, 5453.0, 160.0, 56.0, None, None, None, 156.0, None, 119.0, None, 45.0, None, None, 119.0, 42.0, 65.0, 100.0, None, None, 68.0, None, None, None, None, None, 42.0, None, None, None, 85.0, None, 125.0, None, 83.0, None, None, 151.0, None, 125.0, None, None, None, 88.0, 129.0, None, None, 147.0, None, None, None, 156.0, 15.0, None, 55.0, 15.0, 151.0, None, 138.0, 12.0, None, 35.0, 67.0, 80.0, 153.0, 92.0, None, 56.0, 125.0, 200.0, 16.0, None, 200.0, 16.0, 200.0, 16.0, 200.0, 16.0, 95.0, None, 16.0, 16.0, 16.0, 90.0, None, 158.0, 149.0, 129.0, None, None, 205.0, 89.0, 79.0, 211.0, 40.0, None, None, 120.0, None, None, 132.0, 112.0, None, 197.0, 165.0, None, None, None, 72.0, 30.0, None, 55.0, 220.0, None, None, None, 153.0, None, None, 145.0, 113.0, 38.0, 180.0, 191.0, 383.0, None, None, None, 130.0, 200.0, 110.0, 365.0, 130.0, 269.0, None, 120.0, 365.0, 170.0, None, 261.0, 139.0, 365.0, 40.0, 139.0, 106.0, 261.0, 218.0, 246.0, None, None, None, None, None, 130.0, 1272.0, None, None, None, 88.0, 179.0, 156.0, None, 95.0, None, 187.0, 335.0, 545.0, None, 300.0, None, None, 86.0, None, 156.0, None, 52.0, 128.0, None, 80.0, 200.0, 101.0, None, None, None, 70.0, 133.0, 133.0, None, None, 133.0, 20.0, 120.0, None, 128.0, 172.0, 201.0, 80.0, 172.0, None, None, 94.0, None, 210.0, None, None, 103.0, 74.0, 151.0, 15.0, 15.0, None, None, None, 116.0, 75.0, 12.0, None, None, 95.0, None, 120.0, None, 86.0, 100.0, None, 157.0, 55.0, 50.0, 60.0, 124.0, None, 52.0, 25.0, 70.0, 120.0, None, 120.0, 80.0, 60.0, 292.0, 123.0, None, 156.0, 156.0, 25.0, None, None, 39.0, 63.0, 90.0, None, 98.0, None, 185.0, None, 86.0, None, 25.0, None, 135.0, None, None, None, 22.0, None, None, 130.0, None, None, 104.0, 95.0, None, None, None, None]\n"
     ]
    },
    {
     "name": "stderr",
     "output_type": "stream",
     "text": [
      "C:\\Users\\imigu\\AppData\\Local\\Temp\\ipykernel_17936\\725668825.py:4: FutureWarning: Series.__getitem__ treating keys as positions is deprecated. In a future version, integer keys will always be treated as labels (consistent with DataFrame behavior). To access a value by position, use `ser.iloc[pos]`\n",
      "  texto = str(df_def[\"Descripcion\"][i])\n"
     ]
    }
   ],
   "source": [
    "metros_cuadrados_lista = []\n",
    "for i in range(len(df_def)):\n",
    "    # Convertir la entrada de la columna \"Descripcion\" a cadena de texto\n",
    "    texto = str(df_def[\"Descripcion\"][i])\n",
    "    \n",
    "    # Buscar los metros cuadrados usando una expresión regular\n",
    "    metros_cuadrados_match = re.search(r'(\\d+(?:\\.\\d+)?)\\s*(?:m²|m2|metros\\s+cuadrados|metros)', texto)\n",
    "    \n",
    "    # Verificar si se encontró la información de los metros cuadrados\n",
    "    if metros_cuadrados_match:\n",
    "        metros_cuadrados = float(metros_cuadrados_match.group(1))  # Convertir a float en lugar de int\n",
    "    else:\n",
    "        metros_cuadrados = None\n",
    "    \n",
    "    # Agregar el resultado a la lista\n",
    "    metros_cuadrados_lista.append(metros_cuadrados)\n",
    "\n",
    "print(metros_cuadrados_lista)\n",
    "\n",
    "# Ahora transformamos la lista en una columna del dataframe que sea metros cuadrados\n",
    "df_def[\"Metros cuadrados\"] = metros_cuadrados_lista"
   ]
  },
  {
   "cell_type": "code",
   "execution_count": 7,
   "metadata": {},
   "outputs": [
    {
     "name": "stderr",
     "output_type": "stream",
     "text": [
      "C:\\Users\\imigu\\AppData\\Local\\Temp\\ipykernel_17936\\3247945094.py:4: FutureWarning: Series.__getitem__ treating keys as positions is deprecated. In a future version, integer keys will always be treated as labels (consistent with DataFrame behavior). To access a value by position, use `ser.iloc[pos]`\n",
      "  contrato = df_def[\"Caracteristicas\"][i].get(\"contrato\")\n"
     ]
    }
   ],
   "source": [
    "# Se crea una lista para almacenar los resultados\n",
    "resultados = []\n",
    "for i in range(len(df_def)):\n",
    "    contrato = df_def[\"Caracteristicas\"][i].get(\"contrato\")\n",
    "    \n",
    "    if contrato:\n",
    "        contrato = contrato.lower()\n",
    "    else:\n",
    "        contrato = None\n",
    "    \n",
    "    resultados.append(contrato)\n",
    "\n",
    "df_def[\"Contrato\"] = resultados"
   ]
  },
  {
   "cell_type": "code",
   "execution_count": 8,
   "metadata": {},
   "outputs": [
    {
     "data": {
      "text/plain": [
       "Precio                     int64\n",
       "Descripcion               object\n",
       "Otras_caractericas        object\n",
       "Caracteristicas           object\n",
       "Eficiencia_energetica     object\n",
       "Habitaciones             float64\n",
       "Baños                    float64\n",
       "Metros cuadrados         float64\n",
       "Contrato                  object\n",
       "dtype: object"
      ]
     },
     "execution_count": 8,
     "metadata": {},
     "output_type": "execute_result"
    }
   ],
   "source": [
    "#Se cambia el tipo de datos de las columnas habitaciones, baños a numerico y el de contrato a stirng\n",
    "\n",
    "df_def[\"Habitaciones\"] = pd.to_numeric(df_def[\"Habitaciones\"])\n",
    "df_def[\"Baños\"] = pd.to_numeric(df_def[\"Baños\"])\n",
    "df_def[\"Contrato\"] = df_def[\"Contrato\"].astype(str)\n",
    "\n",
    "\n",
    "df_def.dtypes"
   ]
  },
  {
   "cell_type": "code",
   "execution_count": 9,
   "metadata": {},
   "outputs": [
    {
     "name": "stdout",
     "output_type": "stream",
     "text": [
      "Applied filters: ['Habitaciones', 'Precio', 'Baños', 'Metros cuadrados', 'Contrato']\n"
     ]
    }
   ],
   "source": [
    "# Seleccionar las columnas relevantes\n",
    "columns = ['Descripcion', 'Precio', 'Habitaciones', 'Baños', 'Metros cuadrados', 'Contrato']\n",
    "df_filtered = df_def[columns]\n",
    "\n",
    "min_bedrooms = 2\n",
    "max_price = 1500\n",
    "min_bathrooms = 1\n",
    "min_sqft = 120\n",
    "contrato = \"alquiler\"\n",
    "\n",
    "# List to keep track of applied filters\n",
    "applied_filters = []\n",
    "\n",
    "# Filtrar el DataFrame por habitaciones\n",
    "if min_bedrooms is not None and len(df_filtered[df_filtered['Habitaciones'] >= min_bedrooms]) >= 5:\n",
    "    df_filtered = df_filtered[df_filtered['Habitaciones'] >= min_bedrooms]\n",
    "    applied_filters.append('Habitaciones')\n",
    "\n",
    "# Filtrar el DataFrame por precio\n",
    "if max_price is not None and len(df_filtered[df_filtered['Precio'] <= max_price]) >= 5:\n",
    "    df_filtered = df_filtered[df_filtered['Precio'] <= max_price]\n",
    "    applied_filters.append('Precio')\n",
    "\n",
    "# Filtrar el DataFrame por baño\n",
    "if min_bathrooms is not None and len(df_filtered[df_filtered['Baños'] >= min_bathrooms]) >= 5:\n",
    "    df_filtered = df_filtered[df_filtered['Baños'] >= min_bathrooms]\n",
    "    applied_filters.append('Baños')\n",
    "\n",
    "# Filtrar el DataFrame por metros cuadrados\n",
    "if min_sqft is not None and len(df_filtered[df_filtered['Metros cuadrados'] >= min_sqft]) >= 5:\n",
    "    df_filtered = df_filtered[df_filtered['Metros cuadrados'] >= min_sqft]\n",
    "    applied_filters.append('Metros cuadrados')\n",
    "\n",
    "# Filtrar el DataFrame por contrato\n",
    "if contrato is not None and len(df_filtered[df_filtered['Contrato'] == contrato]) >= 5:\n",
    "    df_filtered = df_filtered[df_filtered['Contrato'] == contrato]\n",
    "    applied_filters.append('Contrato')\n",
    "\n",
    "print(\"Applied filters:\", applied_filters)"
   ]
  },
  {
   "cell_type": "markdown",
   "metadata": {},
   "source": [
    "### BERT"
   ]
  },
  {
   "cell_type": "code",
   "execution_count": 13,
   "metadata": {},
   "outputs": [
    {
     "name": "stderr",
     "output_type": "stream",
     "text": [
      "c:\\Users\\imigu\\anaconda3\\envs\\pt\\lib\\site-packages\\huggingface_hub\\file_download.py:1132: FutureWarning: `resume_download` is deprecated and will be removed in version 1.0.0. Downloads always resume when possible. If you want to force a new download, use `force_download=True`.\n",
      "  warnings.warn(\n"
     ]
    },
    {
     "name": "stdout",
     "output_type": "stream",
     "text": [
      "                                                                                 Descripcion  \\\n",
      "https://www.indomio.es/anuncios/94696891/  En pleno centro histórico de Valencia, en la m...   \n",
      "https://www.indomio.es/anuncios/95021271/  Se alquila vivienda en Serrería, de 120m2 cons...   \n",
      "https://www.indomio.es/anuncios/94697847/  Maravilloso piso de 140 metros cuadrados¡Ref 5...   \n",
      "https://www.indomio.es/anuncios/94525911/  ALQUILER CON OPCIÓN A COMPRA¡¡¡Maravillosa cas...   \n",
      "https://www.indomio.es/anuncios/95264455/  ENTRADA JULIO - LARGA ESTANCIA - SOLVENCIA DEM...   \n",
      "https://www.indomio.es/anuncios/95106187/  REFORMA A ESTRENAR SOLO ALQUILER CON OPCION A ...   \n",
      "https://www.indomio.es/anuncios/95104645/  Piso → en Valencia 120 m2 de superficie, 4 hab...   \n",
      "https://www.indomio.es/anuncios/95106189/  REFORMA A ESTRENAR *********IMPRESCINDIBLE CON...   \n",
      "\n",
      "                                           Precio  Habitaciones  Baños  \\\n",
      "https://www.indomio.es/anuncios/94696891/    1500           3.0    2.0   \n",
      "https://www.indomio.es/anuncios/95021271/    1500           4.0    2.0   \n",
      "https://www.indomio.es/anuncios/94697847/    1400           2.0    1.0   \n",
      "https://www.indomio.es/anuncios/94525911/    1100           2.0    1.0   \n",
      "https://www.indomio.es/anuncios/95264455/    1500           3.0    2.0   \n",
      "https://www.indomio.es/anuncios/95106187/     950           2.0    1.0   \n",
      "https://www.indomio.es/anuncios/95104645/    1100           4.0    2.0   \n",
      "https://www.indomio.es/anuncios/95106189/    1250           2.0    1.0   \n",
      "\n",
      "                                           Metros cuadrados  Contrato  \\\n",
      "https://www.indomio.es/anuncios/94696891/             154.0  alquiler   \n",
      "https://www.indomio.es/anuncios/95021271/             120.0  alquiler   \n",
      "https://www.indomio.es/anuncios/94697847/             140.0  alquiler   \n",
      "https://www.indomio.es/anuncios/94525911/             125.0  alquiler   \n",
      "https://www.indomio.es/anuncios/95264455/             120.0  alquiler   \n",
      "https://www.indomio.es/anuncios/95106187/             125.0  alquiler   \n",
      "https://www.indomio.es/anuncios/95104645/             120.0  alquiler   \n",
      "https://www.indomio.es/anuncios/95106189/             125.0  alquiler   \n",
      "\n",
      "                                           similarity  \n",
      "https://www.indomio.es/anuncios/94696891/    0.948442  \n",
      "https://www.indomio.es/anuncios/95021271/    0.947006  \n",
      "https://www.indomio.es/anuncios/94697847/    0.927396  \n",
      "https://www.indomio.es/anuncios/94525911/    0.915285  \n",
      "https://www.indomio.es/anuncios/95264455/    0.902155  \n",
      "https://www.indomio.es/anuncios/95106187/    0.892276  \n",
      "https://www.indomio.es/anuncios/95104645/    0.881440  \n",
      "https://www.indomio.es/anuncios/95106189/    0.872812  \n"
     ]
    }
   ],
   "source": [
    "import pandas as pd\n",
    "from transformers import BertTokenizer, BertModel\n",
    "import torch\n",
    "from sklearn.metrics.pairwise import cosine_similarity\n",
    "\n",
    "# Función para obtener embeddings de BERT\n",
    "def get_bert_embeddings(text, tokenizer, model):\n",
    "    inputs = tokenizer(text, return_tensors='pt', truncation=True, padding=True, max_length=512)\n",
    "    with torch.no_grad():\n",
    "        outputs = model(**inputs)\n",
    "    return outputs.last_hidden_state.mean(dim=1).squeeze()\n",
    "\n",
    "# Inicializar el tokenizador y el modelo BERT\n",
    "tokenizer = BertTokenizer.from_pretrained('bert-base-uncased')\n",
    "model = BertModel.from_pretrained('bert-base-uncased')\n",
    "\n",
    "# Texto de referencia\n",
    "user_description = \"Un piso de alquiler en Campanar por menos de 1500 euros al mes, con tres habitaciones, dos baños y terraza. Uno de los baños tiene bañera y el otro ducha. El salón debe ser espacioso y luminoso y la cocina debe ser moderna y estar amueblada\"\n",
    "\n",
    "# Obtener embeddings del texto de referencia\n",
    "reference_embedding = get_bert_embeddings(user_description, tokenizer, model).numpy()\n",
    "\n",
    "# Calcular la similitud de coseno y agregar como nueva columna\n",
    "df_filtered['similarity'] = df_filtered['Descripcion'].apply(lambda x: cosine_similarity(\n",
    "    [reference_embedding],\n",
    "    [get_bert_embeddings(x, tokenizer, model).numpy()]\n",
    ")[0][0])\n",
    "\n",
    "# Ordenar el DataFrame por la columna de similitud\n",
    "df_sorted = df_filtered.sort_values(by='similarity', ascending=False)\n",
    "\n",
    "print(df_sorted)\n"
   ]
  },
  {
   "cell_type": "code",
   "execution_count": 17,
   "metadata": {},
   "outputs": [
    {
     "data": {
      "text/plain": [
       "https://www.indomio.es/anuncios/95021271/    0.947006\n",
       "https://www.indomio.es/anuncios/94525911/    0.915285\n",
       "https://www.indomio.es/anuncios/95106187/    0.892276\n",
       "https://www.indomio.es/anuncios/95106189/    0.872812\n",
       "https://www.indomio.es/anuncios/94696891/    0.948442\n",
       "https://www.indomio.es/anuncios/94697847/    0.927396\n",
       "https://www.indomio.es/anuncios/95264455/    0.902155\n",
       "https://www.indomio.es/anuncios/95104645/    0.881440\n",
       "Name: similarity, dtype: float32"
      ]
     },
     "execution_count": 17,
     "metadata": {},
     "output_type": "execute_result"
    }
   ],
   "source": [
    "df_filtered[\"similarity\"]"
   ]
  },
  {
   "cell_type": "markdown",
   "metadata": {},
   "source": [
    "### Sentence-BERT"
   ]
  },
  {
   "cell_type": "code",
   "execution_count": 36,
   "metadata": {},
   "outputs": [
    {
     "name": "stderr",
     "output_type": "stream",
     "text": [
      "c:\\Users\\imigu\\anaconda3\\envs\\pt\\lib\\site-packages\\huggingface_hub\\file_download.py:1132: FutureWarning: `resume_download` is deprecated and will be removed in version 1.0.0. Downloads always resume when possible. If you want to force a new download, use `force_download=True`.\n",
      "  warnings.warn(\n"
     ]
    },
    {
     "name": "stdout",
     "output_type": "stream",
     "text": [
      "                                                                                 Descripcion  \\\n",
      "https://www.indomio.es/anuncios/95021271/  Se alquila vivienda en Serrería, de 120m2 cons...   \n",
      "https://www.indomio.es/anuncios/94525911/  ALQUILER CON OPCIÓN A COMPRA¡¡¡Maravillosa cas...   \n",
      "https://www.indomio.es/anuncios/94696891/  En pleno centro histórico de Valencia, en la m...   \n",
      "https://www.indomio.es/anuncios/95264455/  ENTRADA JULIO - LARGA ESTANCIA - SOLVENCIA DEM...   \n",
      "https://www.indomio.es/anuncios/94697847/  Maravilloso piso de 140 metros cuadrados¡Ref 5...   \n",
      "https://www.indomio.es/anuncios/95106187/  REFORMA A ESTRENAR SOLO ALQUILER CON OPCION A ...   \n",
      "https://www.indomio.es/anuncios/95106189/  REFORMA A ESTRENAR *********IMPRESCINDIBLE CON...   \n",
      "https://www.indomio.es/anuncios/95104645/  Piso → en Valencia 120 m2 de superficie, 4 hab...   \n",
      "\n",
      "                                           Precio  Habitaciones  Baños  \\\n",
      "https://www.indomio.es/anuncios/95021271/    1500           4.0    2.0   \n",
      "https://www.indomio.es/anuncios/94525911/    1100           2.0    1.0   \n",
      "https://www.indomio.es/anuncios/94696891/    1500           3.0    2.0   \n",
      "https://www.indomio.es/anuncios/95264455/    1500           3.0    2.0   \n",
      "https://www.indomio.es/anuncios/94697847/    1400           2.0    1.0   \n",
      "https://www.indomio.es/anuncios/95106187/     950           2.0    1.0   \n",
      "https://www.indomio.es/anuncios/95106189/    1250           2.0    1.0   \n",
      "https://www.indomio.es/anuncios/95104645/    1100           4.0    2.0   \n",
      "\n",
      "                                           Metros cuadrados  Contrato  \\\n",
      "https://www.indomio.es/anuncios/95021271/             120.0  alquiler   \n",
      "https://www.indomio.es/anuncios/94525911/             125.0  alquiler   \n",
      "https://www.indomio.es/anuncios/94696891/             154.0  alquiler   \n",
      "https://www.indomio.es/anuncios/95264455/             120.0  alquiler   \n",
      "https://www.indomio.es/anuncios/94697847/             140.0  alquiler   \n",
      "https://www.indomio.es/anuncios/95106187/             125.0  alquiler   \n",
      "https://www.indomio.es/anuncios/95106189/             125.0  alquiler   \n",
      "https://www.indomio.es/anuncios/95104645/             120.0  alquiler   \n",
      "\n",
      "                                           similarity  \n",
      "https://www.indomio.es/anuncios/95021271/    0.644506  \n",
      "https://www.indomio.es/anuncios/94525911/    0.631808  \n",
      "https://www.indomio.es/anuncios/94696891/    0.622603  \n",
      "https://www.indomio.es/anuncios/95264455/    0.621493  \n",
      "https://www.indomio.es/anuncios/94697847/    0.609477  \n",
      "https://www.indomio.es/anuncios/95106187/    0.607410  \n",
      "https://www.indomio.es/anuncios/95106189/    0.562038  \n",
      "https://www.indomio.es/anuncios/95104645/    0.473030  \n"
     ]
    }
   ],
   "source": [
    "import pandas as pd\n",
    "from sentence_transformers import SentenceTransformer, util\n",
    "\n",
    "model = SentenceTransformer(\"all-MiniLM-L6-v2\")\n",
    "\n",
    "user_description = [\"Un piso de alquiler en Campanar por menos de 1500 euros al mes, con tres habitaciones, dos baños y terraza. Uno de los baños tiene bañera y el otro ducha. El salón debe ser espacioso y luminoso y la cocina debe ser moderna y estar amueblada\"]\n",
    "\n",
    "# Compute embedding for both lists\n",
    "reference_embedding = model.encode(user_description, convert_to_tensor=True)\n",
    "compared_embeddings = model.encode(df_filtered['Descripcion'].tolist(), convert_to_tensor=True)\n",
    "\n",
    "# Compute cosine-similarities\n",
    "cosine_scores = util.cos_sim(reference_embedding, compared_embeddings)\n",
    "\n",
    "# Add similarity score as a new column to DataFrame\n",
    "df_filtered['similarity'] = [score.item() for score in cosine_scores[0]]\n",
    "\n",
    "# Sort DataFrame by similarity score\n",
    "df_sorted = df_filtered.sort_values(by='similarity', ascending=False)\n",
    "\n",
    "# Output the sorted DataFrame\n",
    "print(df_sorted)\n"
   ]
  },
  {
   "cell_type": "code",
   "execution_count": 37,
   "metadata": {},
   "outputs": [
    {
     "data": {
      "text/plain": [
       "https://www.indomio.es/anuncios/95021271/    0.644506\n",
       "https://www.indomio.es/anuncios/94525911/    0.631808\n",
       "https://www.indomio.es/anuncios/95106187/    0.607410\n",
       "https://www.indomio.es/anuncios/95106189/    0.562038\n",
       "https://www.indomio.es/anuncios/94696891/    0.622603\n",
       "https://www.indomio.es/anuncios/94697847/    0.609477\n",
       "https://www.indomio.es/anuncios/95264455/    0.621493\n",
       "https://www.indomio.es/anuncios/95104645/    0.473030\n",
       "Name: similarity, dtype: float64"
      ]
     },
     "execution_count": 37,
     "metadata": {},
     "output_type": "execute_result"
    }
   ],
   "source": [
    "df_filtered[\"similarity\"]"
   ]
  }
 ],
 "metadata": {
  "kernelspec": {
   "display_name": "mecagoenmismuertos",
   "language": "python",
   "name": "python3"
  },
  "language_info": {
   "codemirror_mode": {
    "name": "ipython",
    "version": 3
   },
   "file_extension": ".py",
   "mimetype": "text/x-python",
   "name": "python",
   "nbconvert_exporter": "python",
   "pygments_lexer": "ipython3",
   "version": "3.9.19"
  }
 },
 "nbformat": 4,
 "nbformat_minor": 2
}
