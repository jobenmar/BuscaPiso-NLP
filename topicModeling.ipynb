{
 "cells": [
  {
   "cell_type": "code",
   "execution_count": 1,
   "metadata": {},
   "outputs": [],
   "source": [
    "import pandas as pd\n",
    "import pickle\n",
    "import re\n",
    "#Se importa el archivo pickle\n",
    "with open('scrap_info_alq.pkl', 'rb') as f:\n",
    "    diccionario = pickle.load(f)\n",
    "\n",
    "\n",
    "with open('scrap_info.pkl', 'rb') as f:\n",
    "    diccionario2 = pickle.load(f)\n",
    "#Se transforma el diccionario en un dataframe\n",
    "df = pd.DataFrame(diccionario)\n",
    "df2 = pd.DataFrame(diccionario2)\n",
    "#Ahora se cambia las filas por las columnas\n",
    "df = df.T\n",
    "df2 = df2.T\n",
    "df.head()\n",
    "df2.head()\n",
    "\n",
    "#Ahora unimos los dos dataframes\n",
    "df_def = pd.concat([df,df2])"
   ]
  },
  {
   "cell_type": "code",
   "execution_count": 2,
   "metadata": {},
   "outputs": [
    {
     "name": "stderr",
     "output_type": "stream",
     "text": [
      "[nltk_data] Downloading package punkt to\n",
      "[nltk_data]     C:\\Users\\imigu\\AppData\\Roaming\\nltk_data...\n",
      "[nltk_data]   Package punkt is already up-to-date!\n",
      "[nltk_data] Downloading package stopwords to\n",
      "[nltk_data]     C:\\Users\\imigu\\AppData\\Roaming\\nltk_data...\n",
      "[nltk_data]   Package stopwords is already up-to-date!\n",
      "[nltk_data] Downloading package wordnet to\n",
      "[nltk_data]     C:\\Users\\imigu\\AppData\\Roaming\\nltk_data...\n",
      "[nltk_data]   Package wordnet is already up-to-date!\n"
     ]
    },
    {
     "name": "stdout",
     "output_type": "stream",
     "text": [
      "https://www.indomio.es/anuncios/95227781/    alquila piso amueblado habitaciones carrer del...\n",
      "https://www.indomio.es/anuncios/95146207/    piso estudiantes entrar partir ro febrero juni...\n",
      "https://www.indomio.es/anuncios/94613177/    disponible alquiler mensual anual bajo dormito...\n",
      "https://www.indomio.es/anuncios/94500757/    disponible alquiler mensual anual bajo dormito...\n",
      "https://www.indomio.es/anuncios/95223135/    rincón acogedor necesito espacio gustará aquí ...\n",
      "                                                                   ...                        \n",
      "https://www.indomio.es/anuncios/95007509/    atico m valencia valencia solidinmuebles vende...\n",
      "https://www.indomio.es/anuncios/94958481/    venden pisos obra nueva camino moncada trata r...\n",
      "https://www.indomio.es/anuncios/95006805/    vende exclusiva viviendas obra nueva calle arq...\n",
      "https://www.indomio.es/anuncios/95313313/    vende piso barrio tormoseste luminoso apartame...\n",
      "https://www.indomio.es/anuncios/95319871/    piso ideal inversionistas gran oportunidad adq...\n",
      "Name: Descripcion, Length: 1559, dtype: object\n"
     ]
    }
   ],
   "source": [
    "from sklearn.metrics.pairwise import cosine_similarity\n",
    "from sklearn.feature_extraction.text import TfidfVectorizer\n",
    "import nltk\n",
    "from nltk.corpus import stopwords\n",
    "from nltk.stem import WordNetLemmatizer\n",
    "import pandas as pd\n",
    "import re\n",
    "\n",
    "# Descargar los recursos necesarios para NLTK\n",
    "nltk.download('punkt')\n",
    "nltk.download('stopwords')\n",
    "nltk.download('wordnet')\n",
    "\n",
    "def preprocess_text(text):\n",
    "    if text is None:\n",
    "        return ''\n",
    "    # Convertir texto a minúsculas\n",
    "    text = text.lower()\n",
    "    # Eliminar caracteres especiales y números\n",
    "    text = re.sub(r'[^a-záéíóúüñ\\s]', '', text)\n",
    "    # Tokenización\n",
    "    tokens = nltk.word_tokenize(text)\n",
    "    # Eliminar stopwords\n",
    "    stop_words = set(stopwords.words('spanish'))\n",
    "    tokens = [word for word in tokens if word not in stop_words]\n",
    "    # Lematización\n",
    "    lemmatizer = WordNetLemmatizer()\n",
    "    tokens = [lemmatizer.lemmatize(word) for word in tokens]\n",
    "    return ' '.join(tokens)\n",
    "\n",
    "descripcion_filtrada = df_def['Descripcion'].apply(preprocess_text)\n",
    "\n",
    "print(descripcion_filtrada)"
   ]
  },
  {
   "cell_type": "markdown",
   "metadata": {},
   "source": [
    "## LSA"
   ]
  },
  {
   "cell_type": "code",
   "execution_count": 3,
   "metadata": {},
   "outputs": [
    {
     "data": {
      "text/plain": [
       "array([[ 0.14341547, -0.26683068,  0.77891539, ...,  0.00116068,\n",
       "         0.04100312, -0.04376737],\n",
       "       [ 0.1930263 , -0.19909086,  0.03375701, ..., -0.08731946,\n",
       "        -0.02281779,  0.04296341],\n",
       "       [ 0.28481125, -0.30641848, -0.08129356, ...,  0.05622158,\n",
       "        -0.09900201, -0.11241549],\n",
       "       ...,\n",
       "       [ 0.25427776, -0.23134611, -0.06156357, ..., -0.13577976,\n",
       "         0.06395862, -0.02879027],\n",
       "       [ 0.40512101, -0.39173951,  0.00321273, ..., -0.05531304,\n",
       "         0.01731657, -0.07981921],\n",
       "       [ 0.31592027, -0.33434001,  0.01445284, ..., -0.0206037 ,\n",
       "         0.090345  ,  0.12083475]])"
      ]
     },
     "execution_count": 3,
     "metadata": {},
     "output_type": "execute_result"
    }
   ],
   "source": [
    "from sklearn.feature_extraction.text import TfidfVectorizer\n",
    "from sklearn.decomposition import TruncatedSVD\n",
    "from sklearn.pipeline import make_pipeline\n",
    "from sklearn.preprocessing import Normalizer\n",
    "from sklearn.metrics.pairwise import cosine_similarity\n",
    "from sklearn.feature_extraction.text import CountVectorizer\n",
    "from sklearn.decomposition import LatentDirichletAllocation\n",
    "from sklearn.decomposition import NMF\n",
    "\n",
    "tv = TfidfVectorizer()\n",
    "svd = TruncatedSVD(n_components=100)\n",
    "lsa = make_pipeline(tv, svd, Normalizer(copy=False))\n",
    "lsa_topic_vectors = lsa.fit_transform(descripcion_filtrada)\n",
    "\n",
    "lsa_topic_vectors"
   ]
  },
  {
   "cell_type": "code",
   "execution_count": 4,
   "metadata": {},
   "outputs": [
    {
     "name": "stdout",
     "output_type": "stream",
     "text": [
      "Descripción: SE VENDE EXCLUSIVO PISO . SEMI NUEVO En la zona nueva de Nazaret junto a las torres y aun paso de la playa. Piso De altas calidades en RESIDENCIAL con zonas comunes Piscina pádel zona para niños. El piso se distribuye en 84M2 y 100M2 construidos . Fantástico comedor con salida a la terraza con cerramiento de cristales en forma de laminas y correderos . cocina independiente 3 habitaciones dobles 2 baños completos una amplia plaza de garaje incluida en el precio.. MAS INFORMACION O HACER UNA VISITA TONTACTANOS !!!\n",
      "Similitud: 0.5262963754171802\n",
      "\n",
      "Descripción: Se venden pisos de obra nueva en el camino de Moncada. Se trata de un residencial de 14 apartamentos de 2 o 3 habitaciones y 2 baños, y dos áticos. Zonas comunes ajardinadas y con piscina. Entrega prevista primavera 2026. Facilidades de pago. Precio a partir de 230.000€. Plaza de garaje y trastero opcional\n",
      "Similitud: 0.525833479358619\n",
      "\n",
      "Descripción: PISO PARA ESTUDIANTES!! CONTRATO DE UN AÑO!! Este piso se encuentra en Carrer de Sant Vicent Màrtir, 46007, València, Valencia. Es un piso que tiene 110 m2 y dispone de 4 habitaciones y 2 baños. Cuenta con acceso para personas con movilidad reducida, armarios empotrados, ascensor, balcón, cocina equipado, terraza, y está en bues estado, es céntrico, luminoso y exterior EL BARRIO: El piso está muy bien ubicado ya que en el barrio hay varios servicios y comercios esenciales, hay varios bancos, farmacias, estancos, centros educativos, fruterías, bazares, cerca de la casa esta el hospital virgen de consuelo, hay varios gimnasios por la zona, a menos de 15 minutos de la casa esta el hospital doctor Peset Alexander, hay varios restaurantes, la estación del ave esta cerca de la casa, lo que hace que todo lo que desees lo puedas conseguir sin salir de tu zona, hay varias líneas de buses que te llevan a cualquier parte de la ciudad, hay dos paradas de metro por la zona, la comunicación con los medios de transportes es muy buena. A DESTACAR: AMUEBLADO BUEN ESTADO LUMINOSO\n",
      "Similitud: 0.5086858895803013\n",
      "\n",
      "Descripción: DISPONIBLE A PARTIR DE JULIO 2024. ALQUILER PARA ESTUDIANTES UNIVERSITARIOS (CONTRATO DE TEMPORADA). Se alquila este precioso apartamento , semireformado, en un edificio tranquilo y en una zona ideal si te gusta tener todo a un paso. Se trata de una vivienda con un total de 4 habitaciones y dos cuartos de baños completos. el apartamento se distribuye en zona de salón comedor con acceso a balcón y aire acondicionado (frío /calor), 4 habitaciones con camas de 1,35, totalmente equipadas y dos cuartos de baños completos. Cocina independiente, con todo lo que puedas necesitar en tu día a día y con acceso directo a terraza en zona común, pero de uso privativo. Como ves el piso lo tiene todo, es bonito, esta cerca de transporte público, tanto metro como autobús en menos de 9 minutos a pie, 5 minutos andando de supermercado y el mercado municipal del Cabañal a 7 minutos y lo mejor de todo, a tan solo 16 minutos a pie de la playa. No se puede pedir más. Si estás buscando una vivienda en condiciones, que además te ofrezca comodidad y tranquilidad, no lo dudes, esta es la tuya, así que llámanos y estaremos encantados de poder ayudarte. INCLUYE LIMPIEZA MENSUAL DE ZONAS COMUNES. El precio del alquiler a partir del mes de Julio es 1.300 €./mes.\n",
      "Similitud: 0.5050973845778249\n",
      "\n",
      "Descripción: ALQUILER PARA ESTUDIANTES UNIVERSITARIOS (CONTRATO DE TEMPORADA). Se alquila este precioso apartamento , semireformado, en un edificio tranquilo y en una zona ideal si te gusta tener todo a un paso. Se trata de una vivienda con un total de 4 habitaciones y dos cuartos de baños completos. el apartamento se distribuye en zona de salón comedor con acceso a balcón y aire acondicionado (frío /calor), 4 habitaciones con camas de 1,35, totalmente equipadas y dos cuartos de baños completos. Cocina independiente, con todo lo que puedas necesitar en tu día a día y con acceso directo a terraza en zona común, pero de uso privativo. Como ves el piso lo tiene todo, es bonito, esta cerca de transporte público, tanto metro como autobús en menos de 9 minutos a pie, 5 minutos andando de supermercado y el mercado municipal del Cabañal a 7 minutos y lo mejor de todo, a tan solo 16 minutos a pie de la playa. No se puede pedir más. Si estás buscando una vivienda en condiciones, que además te ofrezca comodidad y tranquilidad, no lo dudes, esta es la tuya, así que llámanos y estaremos encantados de poder ayudarte. INCLUYE LIMPIEZA MENSUAL DE ZONAS COMUNES. El precio del alquiler a partir del mes de Julio es 1.300 €./mes.\n",
      "Similitud: 0.5029607749247167\n",
      "\n"
     ]
    }
   ],
   "source": [
    "# Nueva descripción\n",
    "descripcion = \"Quiero un piso de unos 100 m2 que este bien iluminado, cueste menos de 700 euros al mes, este en la zona de campanar y tenga por lo menos 3 habitaciones y 2 baños\"\n",
    "\n",
    "# Transformar la nueva descripción usando la misma pipeline LSA\n",
    "vector_descripcion = lsa.transform([descripcion])\n",
    "\n",
    "# Calcular la similitud coseno entre la nueva descripción y todas las descripciones existentes\n",
    "similarities = cosine_similarity(vector_descripcion, lsa_topic_vectors)\n",
    "\n",
    "# Obtener los índices de las descripciones más similares en orden descendente\n",
    "most_similar_indices = similarities.argsort()[0][::-1]\n",
    "\n",
    "# Opcionalmente, puedes mostrar las descripciones más similares y sus similitudes\n",
    "for index in most_similar_indices[:5]:  # muestra las 5 descripciones más similares\n",
    "    print(f\"Descripción: {df_def['Descripcion'].iloc[index]}\")\n",
    "    print(f\"Similitud: {similarities[0][index]}\")\n",
    "    print()\n"
   ]
  },
  {
   "cell_type": "markdown",
   "metadata": {},
   "source": [
    "## Topic Coherence LSA"
   ]
  },
  {
   "cell_type": "code",
   "execution_count": 23,
   "metadata": {},
   "outputs": [
    {
     "name": "stdout",
     "output_type": "stream",
     "text": [
      "Coherence of the LSA model: 0.570063208310765\n"
     ]
    }
   ],
   "source": [
    "from gensim.models.coherencemodel import CoherenceModel\n",
    "from gensim.corpora.dictionary import Dictionary\n",
    "from sklearn.feature_extraction.text import TfidfVectorizer\n",
    "\n",
    "# Step 1: Prepare data for gensim\n",
    "# Convert the tokenized text (assuming you have 'descripcion_filtrada' as a list of lists of words)\n",
    "texts = [doc.split() for doc in descripcion_filtrada]\n",
    "\n",
    "# Create a Gensim dictionary from the texts\n",
    "dictionary = Dictionary(texts)\n",
    "\n",
    "# Create a Gensim corpus using the dictionary\n",
    "corpus = [dictionary.doc2bow(text) for text in texts]\n",
    "\n",
    "# Step 2: Extract the topics from the scikit-learn LSA model\n",
    "topics = []\n",
    "tf_vectorizer = TfidfVectorizer(max_df=0.95, min_df=2, stop_words='english')\n",
    "tf = tf_vectorizer.fit_transform(descripcion_filtrada)\n",
    "feature_names = tf_vectorizer.get_feature_names_out()\n",
    "for topic_idx, topic in enumerate(lsa_topic_vectors):\n",
    "    topics.append([feature_names[i] for i in topic.argsort()[:-10 - 1:-1]])\n",
    "\n",
    "# Step 3: Calculate the model coherence\n",
    "cm = CoherenceModel(model=None, topics=topics, texts=texts, dictionary=dictionary, coherence='c_v')\n",
    "coherence_lsa = cm.get_coherence()\n",
    "print(\"Coherence of the LSA model:\", coherence_lsa)"
   ]
  },
  {
   "cell_type": "markdown",
   "metadata": {},
   "source": [
    "## LDA"
   ]
  },
  {
   "cell_type": "code",
   "execution_count": 5,
   "metadata": {},
   "outputs": [],
   "source": [
    "tf_vectorizer = CountVectorizer(max_df=0.95, min_df=2)\n",
    "\n",
    "tf = tf_vectorizer.fit_transform(descripcion_filtrada)\n",
    "\n",
    "lda = LatentDirichletAllocation(n_components=10, max_iter=5,\n",
    "learning_method='online',\n",
    "learning_offset=50.,\n",
    "random_state=0)\n",
    "\n",
    "lda_topic_matrix = lda.fit_transform(tf)"
   ]
  },
  {
   "cell_type": "code",
   "execution_count": 6,
   "metadata": {},
   "outputs": [
    {
     "name": "stdout",
     "output_type": "stream",
     "text": [
      "Descripción: Bonito piso recién reformado. Está todo a estrenar! A tan solo unos minutos de la plaza del Ayuntamienti y del Mercado Central. \n",
      "Similitud: 0.9999964260327224\n",
      "\n",
      "Descripción: Piso en pleno centro de Valencia de 545 m2 con terrazas muy grandes. Dispone de un apartamento añadido para los invitados.el piso es de estilo señorial con acabados de primera calidad reformado y a estrenar.\n",
      "Similitud: 0.9999261534660971\n",
      "\n",
      "Descripción: Apartamento de 3 dormitorios en una excelente ubicación, Restaurantes, supermercados cercas.El dormitorio principal tiene un vestidor y un baño en suite. La cocina está amueblada con área de lavandería separada. Aire acondicionado\n",
      "Similitud: 0.9999139048645553\n",
      "\n",
      "Descripción: Un encantador apartamento con lindas paredes azules en la sala de estar, una espaciosa cocina y una gran terraza en un vecindario tranquilo y residencial. El apartamento está a solo 10 minutos a pie del puerto de Valencia, y cerca encontrará algunas tiendas, una piscina municipal y una estación de servicio.\n",
      "Similitud: 0.9998425794909527\n",
      "\n",
      "Descripción: Un amplio apartamento en una zona costera de la ciudad y a 7 minutos de la Universitat de València desde la parada de tranvía más cercana. Cuenta con 2 balcones y una cocina totalmente equipada. Solo tiene que caminar durante 7 minutos para encontrarse en las arenas doradas de Playa de la Malva-Rosa, una playa relajada popular entre los lugareños.\n",
      "Similitud: 0.9998343436181891\n",
      "\n"
     ]
    }
   ],
   "source": [
    "# Nueva descripción\n",
    "descripcion = \"Quiero un piso de unos 100 m2 que este bien iluminado, cueste menos de 700 euros al mes, este en la zona de campanar y tenga por lo menos 3 habitaciones y 2 baños\"\n",
    "\n",
    "# Transformar la nueva descripción\n",
    "vector_descripcion = tf_vectorizer.transform([descripcion])\n",
    "vector_descripcion_lda = lda.transform(vector_descripcion)\n",
    "\n",
    "# Calcular la similitud coseno entre la nueva descripción y las descripciones existentes\n",
    "similarities = cosine_similarity(vector_descripcion_lda, lda_topic_matrix)\n",
    "\n",
    "# Obtener los índices de las descripciones más similares en orden descendente\n",
    "most_similar_indices = similarities.argsort()[0][::-1]\n",
    "\n",
    "# Mostrar las descripciones más similares y sus similitudes\n",
    "for index in most_similar_indices[:5]:  # muestra las 5 descripciones más similares\n",
    "    print(f\"Descripción: {df_def['Descripcion'].iloc[index]}\")\n",
    "    print(f\"Similitud: {similarities[0][index]}\")\n",
    "    print()"
   ]
  },
  {
   "cell_type": "markdown",
   "metadata": {},
   "source": [
    "### Comprobar la coherencia de los topics LDA"
   ]
  },
  {
   "cell_type": "code",
   "execution_count": 7,
   "metadata": {},
   "outputs": [
    {
     "name": "stdout",
     "output_type": "stream",
     "text": [
      "Coherencia del modelo LDA: 0.7025929061753893\n"
     ]
    }
   ],
   "source": [
    "from gensim.models.coherencemodel import CoherenceModel\n",
    "from gensim.corpora.dictionary import Dictionary\n",
    "\n",
    "# Paso 1: Preparar datos para gensim\n",
    "# Convertir el texto tokenizado (asumiendo que tienes 'descripcion_filtrada' como una lista de listas de palabras)\n",
    "texts = [doc.split() for doc in descripcion_filtrada]\n",
    "\n",
    "# Crear un diccionario de Gensim a partir de los textos\n",
    "dictionary = Dictionary(texts)\n",
    "\n",
    "# Crear un corpus de Gensim utilizando el diccionario\n",
    "corpus = [dictionary.doc2bow(text) for text in texts]\n",
    "\n",
    "# Paso 2: Extraer los tópicos del modelo LDA de scikit-learn\n",
    "topics = []\n",
    "feature_names = tf_vectorizer.get_feature_names_out()\n",
    "for topic_idx, topic in enumerate(lda.components_):\n",
    "    topics.append([feature_names[i] for i in topic.argsort()[:-10 - 1:-1]])\n",
    "\n",
    "# Paso 3: Calcular la coherencia del modelo\n",
    "cm = CoherenceModel(model=None, topics=topics, texts=texts, dictionary=dictionary, coherence='c_v')\n",
    "coherence_lda = cm.get_coherence()\n",
    "print(\"Coherencia del modelo LDA:\", coherence_lda)\n"
   ]
  },
  {
   "cell_type": "markdown",
   "metadata": {},
   "source": [
    "## NMF"
   ]
  },
  {
   "cell_type": "code",
   "execution_count": 8,
   "metadata": {},
   "outputs": [],
   "source": [
    "# Inicialización de CountVectorizer\n",
    "tf_vectorizer = CountVectorizer(max_df=0.95, min_df=2)\n",
    "tf = tf_vectorizer.fit_transform(descripcion_filtrada)\n",
    "\n",
    "# Uso de NMF\n",
    "nmf = NMF(n_components=10, random_state=0, max_iter=300)\n",
    "\n",
    "# Transformar los datos con NMF\n",
    "nmf_topic_matrix = nmf.fit_transform(tf)"
   ]
  },
  {
   "cell_type": "code",
   "execution_count": 9,
   "metadata": {},
   "outputs": [
    {
     "name": "stdout",
     "output_type": "stream",
     "text": [
      "Descripción: SE ALQUILA PISO (ZONA DE MALILLA) Piso nuevo Edificio emblemático, frente al nuevo Hospital de la Fe, Piso de 63M2 moderno ,paredes lisas ,cocina office ,balcón ,armarios empotrados con todos los servicios transporte publico, zonas verdes, supermercados y todo el equipamiento necesario. Vivienda nueva ideal para una/dos personas, luminosa, alegre, acogedora, tranquila y totalmente amueblada. Agua caliente y frio/calor por aerotermia. Puerta acorazada, ventanales con aislamiento completo. (garaje incluido) CONSULTANOS PARA MAS INFORMACION INMOCITY\n",
      "Similitud: 0.977194358468294\n",
      "\n",
      "Descripción: SE VENDE EXCLUSIVO PISO . SEMI NUEVO En la zona nueva de Nazaret junto a las torres y aun paso de la playa. Piso De altas calidades en RESIDENCIAL con zonas comunes Piscina pádel zona para niños. El piso se distribuye en 84M2 y 100M2 construidos . Fantástico comedor con salida a la terraza con cerramiento de cristales en forma de laminas y correderos . cocina independiente 3 habitaciones dobles 2 baños completos una amplia plaza de garaje incluida en el precio.. MAS INFORMACION O HACER UNA VISITA TONTACTANOS !!!\n",
      "Similitud: 0.9745725145055335\n",
      "\n",
      "Descripción:  GRUPO CONECTA/SOLO ALQUILERES INMOBILIARIA VENDE GRAN OCASION EN BENICALAP Piso reformado exterior con terraza de 20 metros SOLEADA, cocina equipada con muebles y electrodomesticos integrados abierta al salon, 2 banos completos, tres habitaciones exteriores muy luminosas con balcon a la calle. Muy buena distribucion no pierde metros en pasillo.Dispone de armarios empotrados.Primer piso sin ascensor. Zona con todo tipo de servicios, supermercados, transporte publico de tranvia linea 4 y autobuses, cafeterias, restaurantes, colegios, bancos, etc. , muy proximo al parque de Benicalap con piscinas, zona de recreo, parque infantil. \n",
      "Similitud: 0.9723271271229725\n",
      "\n",
      "Descripción: SOLO ALQUILERES/GRUPO CONECTA INMOBILIARIA Alquila piso en muy buena zona y céntrica.El piso conta de tres dormitorios muy grades, dos baños, cocina independiente salón comedor y una preciosa terraza bastante grande.Decorado con mucho gusto y acogedor.Esta situado en muy buena zona y con todos los servicios alrededor.También paradas de metros y autobuses.Teléfono de contacto  609844930\n",
      "Similitud: 0.9704606382389174\n",
      "\n",
      "Descripción: La vivienda se encuentra ocupada y se vende sin posesión. Piso → Piso en Valencia zona Mestalla, 68 m2 de superficie, 3 habitaciones, un baño, propiedad Semireformado, cocina vacía, orientación este, suelo de terrazo. Extras: agua, luz, autobuses, árboles, céntrico, centros comerciales, centros médicos, colegios, hospitales, metro, zona de paso\n",
      "Similitud: 0.9655797196064267\n",
      "\n"
     ]
    }
   ],
   "source": [
    "# Nueva descripción a comparar\n",
    "descripcion = \"Quiero un piso de unos 100 m2 que este bien iluminado, cueste menos de 700 euros al mes, este en la zona de campanar y tenga por lo menos 3 habitaciones y 2 baños\"\n",
    "\n",
    "# Transformar la nueva descripción usando el mismo vectorizador\n",
    "vector_descripcion = tf_vectorizer.transform([descripcion])\n",
    "vector_descripcion_nmf = nmf.transform(vector_descripcion)\n",
    "\n",
    "# Calcular la similitud coseno entre la nueva descripción y las descripciones existentes transformadas\n",
    "similarities = cosine_similarity(vector_descripcion_nmf, nmf_topic_matrix)\n",
    "\n",
    "# Obtener los índices de las descripciones más similares en orden descendente\n",
    "most_similar_indices = similarities.argsort()[0][::-1]\n",
    "\n",
    "# Mostrar las descripciones más similares y sus similitudes\n",
    "for index in most_similar_indices[:5]:  # muestra las 5 descripciones más similares\n",
    "    print(f\"Descripción: {df_def['Descripcion'].iloc[index]}\")\n",
    "    print(f\"Similitud: {similarities[0][index]}\")\n",
    "    print()"
   ]
  },
  {
   "cell_type": "markdown",
   "metadata": {},
   "source": [
    "### Comprobar la coherencia de los topics NMF"
   ]
  },
  {
   "cell_type": "code",
   "execution_count": 11,
   "metadata": {},
   "outputs": [
    {
     "name": "stdout",
     "output_type": "stream",
     "text": [
      "Coherencia del modelo NMF: 0.7463658663036883\n"
     ]
    }
   ],
   "source": [
    "import gensim\n",
    "from gensim.models.coherencemodel import CoherenceModel\n",
    "from gensim.corpora.dictionary import Dictionary\n",
    "\n",
    "# Paso 1: Preparar datos para gensim\n",
    "texts = [doc.split() for doc in descripcion_filtrada]\n",
    "dictionary = Dictionary(texts)\n",
    "corpus = [dictionary.doc2bow(text) for text in texts]\n",
    "\n",
    "# Paso 2: Extraer los tópicos del modelo NMF\n",
    "topics = []\n",
    "feature_names = tf_vectorizer.get_feature_names_out()\n",
    "for topic_idx, topic in enumerate(nmf.components_):\n",
    "    top_features_ind = topic.argsort()[:-10 - 1:-1]  # obtener los índices de las palabras más importantes\n",
    "    topic_words = [feature_names[i] for i in top_features_ind]\n",
    "    topics.append(topic_words)\n",
    "\n",
    "# Paso 3: Calcular la coherencia del modelo\n",
    "cm = CoherenceModel(topics=topics, texts=texts, dictionary=dictionary, coherence='c_v')\n",
    "coherence_nmf = cm.get_coherence()\n",
    "print(\"Coherencia del modelo NMF:\", coherence_nmf)\n"
   ]
  },
  {
   "cell_type": "markdown",
   "metadata": {},
   "source": [
    "### Mostrar palabras clave de cada tema en NMF"
   ]
  },
  {
   "cell_type": "code",
   "execution_count": 12,
   "metadata": {},
   "outputs": [
    {
     "name": "stdout",
     "output_type": "stream",
     "text": [
      "Topic #1:\n",
      "Palabras clave: datos, tratamiento, servicios, consentimiento, fin, mantener, personales, hogarabitat, sl, mismos\n",
      "\n",
      "Topic #2:\n",
      "Palabras clave: vivienda, cuenta, cocina, baño, salón, toda, gran, aire, dormitorios, dispone\n",
      "\n",
      "Topic #3:\n",
      "Palabras clave: piso, habitaciones, cocina, ascensor, balcón, exterior, luminoso, cuenta, cerca, baños\n",
      "\n",
      "Topic #4:\n",
      "Palabras clave: the, and, with, room, of, patio, to, in, is, interior\n",
      "\n",
      "Topic #5:\n",
      "Palabras clave: valencia, ciudad, barrio, centro, plaza, gran, calle, ayuntamiento, mercado, situado\n",
      "\n",
      "Topic #6:\n",
      "Palabras clave: espacio, hogar, ofrece, disfrutar, cuenta, comodidad, vida, cada, oportunidad, además\n",
      "\n",
      "Topic #7:\n",
      "Palabras clave: zona, metro, gran, ma, toda, bien, equipada, salida, tipo, transporte\n",
      "\n",
      "Topic #8:\n",
      "Palabras clave: planta, terraza, do, cocina, acceso, casa, baño, primera, garaje, vista\n",
      "\n",
      "Topic #9:\n",
      "Palabras clave: inmueble, precio, anuncio, puede, informativo, contractual, vinculante, valencia, muestra, errores\n",
      "\n",
      "Topic #10:\n",
      "Palabras clave: apartamento, playa, aquí, valencia, minutos, cerca, propiedad, balcón, lugar, solo\n",
      "\n"
     ]
    }
   ],
   "source": [
    "# Obtener las palabras del vocabulario\n",
    "feature_names = tf_vectorizer.get_feature_names_out()\n",
    "\n",
    "# Función para mostrar las palabras clave por tema\n",
    "def show_top_words(model, feature_names, n_top_words):\n",
    "    for topic_idx, topic in enumerate(model.components_):\n",
    "        print(f\"Topic #{topic_idx + 1}:\")\n",
    "        # Muestra las n_top_words palabras más importantes por tema\n",
    "        top_features_ind = topic.argsort()[:-n_top_words - 1:-1]\n",
    "        top_features = [feature_names[i] for i in top_features_ind]\n",
    "        top_features_str = \", \".join(top_features)\n",
    "        print(f\"Palabras clave: {top_features_str}\\n\")\n",
    "\n",
    "# Mostrar las palabras clave de cada tema\n",
    "n_top_words = 10\n",
    "show_top_words(nmf, feature_names, n_top_words)"
   ]
  },
  {
   "cell_type": "markdown",
   "metadata": {},
   "source": [
    "## HDI"
   ]
  },
  {
   "cell_type": "code",
   "execution_count": 24,
   "metadata": {},
   "outputs": [],
   "source": [
    "import pandas as pd\n",
    "from gensim import similarities\n",
    "from gensim.corpora import Dictionary\n",
    "from gensim.models import HdpModel\n",
    "from gensim.matutils import sparse2full\n",
    "\n",
    "# Crear un diccionario de características y filtrar palabras extremadamente frecuentes o infrecuentes\n",
    "texts = [doc.split() for doc in descripcion_filtrada]\n",
    "dictionary = Dictionary(texts)\n",
    "dictionary.filter_extremes(no_below=1, no_above=0.95)\n",
    "\n",
    "# Crear el corpus BOW\n",
    "corpus = [dictionary.doc2bow(text) for text in texts]\n",
    "\n",
    "# Entrenar el modelo HDI\n",
    "hdi = HdpModel(corpus, id2word=dictionary)\n",
    "\n",
    "# Función para obtener la distribución de tópicos de un documento\n",
    "def get_topic_distribution(text):\n",
    "    bow = dictionary.doc2bow(text.lower().split())\n",
    "    topic_sparse = hdi[bow]\n",
    "    return sparse2full(topic_sparse, len(hdi.id2word))\n",
    "\n",
    "# Convertir todos los documentos a vectores de tópicos\n",
    "topic_vectors = [get_topic_distribution(text) for text in descripcion_filtrada]\n",
    "descripcion_vec = get_topic_distribution(descripcion)"
   ]
  },
  {
   "cell_type": "code",
   "execution_count": 25,
   "metadata": {},
   "outputs": [
    {
     "name": "stdout",
     "output_type": "stream",
     "text": [
      "Descripción: Les presentamos un apartamento en la playa de Valecia, zona cerca hotel las Arenas 5**** a 100 m del mar, facil aparcamiento, zona despejada, orientado al este el mar, todo reformado, además escalera toda nueva con ascensor, en estos momentos lo veremos en obras, se está realizando. Les hemos realizado un reportaje de video virtual, aparte de las fotos, más vale una buena imagen que mil palabras.Puede disfrutar de un apartamento de estructura de edificación como las de antes, con un interior todo reformado de obra nueva y con un trastero en la parte de arriba tambien todo reformado.No esperes más, ¡contáctanos y te proporcionaremos toda la información sin compromiso!Información General:Somos agentes inmobiliarios registrados con años de formación y experiencia. Nuestro objetivo es garantizar un servicio transparente, seguro y de alta calidad durante todo el proceso de compraventa. Estamos aquí para ayudarte en todo lo relacionado con esta propiedad.El precio de venta publicado no incluye impuestos, gastos de notaría, gestoría, registro ni honorarios de agencia.La vivienda se transmite libre de cargas, arrendamientos y ocupantes, y está al corriente en el pago de tasas y contribuciones.La propiedad se comercializa en Exclusiva Compartida, lo que significa que la promocionamos en toda nuestra red internacional de más de 9,000 oficinas en más de 120 países. A nivel local, contamos con 160 agencias y 1,000 en todo el país, lo que nos permite ofrecerla a una amplia base de clientes compradores. Te pedimos que no molestes al propietario ni a los vecinos. Si eres un colega del sector inmobiliario y tienes un cliente comprador interesado en esta propiedad, estaremos encantados de colaborar contigo con la seriedad y honestidad que caracterizan a un buen agente inmobiliario.En ningún caso las fotos, texto, imágenes ni otro contenido del anuncio tienen carácter contractual. El mobiliario, enseres, vehículos o cualquier otro bien mueble que aparezca en las fotografías no están incluidos en el precio de transmisión, a menos que se especifique expresamente en el anuncio.\n",
      "Similitud: 0.9989056587219238\n",
      "\n",
      "Descripción: Grupo Alain inmobiliaria vende vivienda de 200 m2 en el centro de Valencia para reformar, su estado actual es el original. Está situado en la zona del Ayuntamiento muy cerca de Maria Cristina en pleno centro de Valencia. La vivienda que da a tres calles. Actualmente distribuida con 9 habitaciones independientes y 2 baños. Cuenta con techos altos de 4 metros, escalera protegida. Zona de gran prestigio y finca emblemática en una de las mejores zonas de la ciudad. El Mercat El barrio de El Mercat, en el distrito de Ciutat Vella, recibe su nombre del Mercado Central de Valencia, un espectacular edificio modernista que acoge en su interior multitud de puestos de comida y productos alimentarios, artículos de gourmet e incluso cafeterías. Junto a él, la Lonja de la Seda es otra de los principales reclamos de un barrio repleto de tiendas, cafeterías, restaurantes, pubs y calles por las que perderse a disfrutar del ambiente.\n",
      "Similitud: 0.9984641075134277\n",
      "\n",
      "Descripción: Grupo Hemios les ofrece una autentica oportunidad de compra en una situación inmejorable . Esta fabulosa propiedad esta situada en un punto estratégico para poder obtener una ALTA RENTABILIDAD EN ARRENDAMIENTOS A ESTUDIANTES, entre tres de las arterias mas conocidas de la Ciudad de Valencia, la Avenida de Blasco Ibáñez, Cardenal Benlloch y la Calle del Doctor Manuel Candela.La vivienda esta ubicada en un edificio de 6 alturas sobre rasante, dispone de ascensor, y esta en muy buen estado. El inmueble consta de 89 m2 construidos, actualmente esta distribuido en 4 dormitorios, dos de ellos dobles, 1 baño completo, cocina independiente con acceso a una terraza interior y un amplio salón comedor exterior con acceso a un fabuloso balcón exterior.Esta vivienda dispone de una distribucion perfecta, lo que nos brinda infinitas posibilidades de reforma y adecuación. ¡ATENCIÓN INVERSOR!Actualmente disponemos de un proyecto para una posible distribucion de 5 dormitorios y 2 baños completos, cocina office y salón comedor. ¡ESTA ES LA VIVIENDA QUE USTED ESTABA BUSCANDO!¡LLAMENOS Y COORDINEMOS UNA VISITA EN LA MAYOR BREVEDAD POSIBLE!\n",
      "Similitud: 0.9966686964035034\n",
      "\n",
      "Descripción: Grupo Hemios les ofrece una autentica oportunidad de inversión en un enclave inmejorable. Situado entre dos de las arterias de mas paso de la Ciudad, la conocida Avenida de Blasco Ibañez y la Calle Serreria, siendo un punto neutro de los barrios con mas demanda de alquiler de la Ciudad de Valencia. Se trata de una fabulosa vivienda con infinitas posibilidades, ubicada en la planta primera de un edificio esquinero, ocupando el chaflan de la misma. Esta propiedad requiere de una reforma integral, distribuida en 3 dormitorios, cocina independiente, 1 baño completo y un magnifico salón comedor esquinero con 2 ventanales. Si lo que esta buscando es rentabilizar su dinero, ¡ESTA ES LA PROPIEDAD QUE ESTA BUSCANDO!¡ATENCIÓN INVERSOR!¡ALTA RENTABILIDAD!¡Llámenos y coordinemos una visita en la mayor brevedad posible!\n",
      "Similitud: 0.9805719256401062\n",
      "\n",
      "Descripción: VIVIENDA GRANDE Y CON MUCHAS POSIBILIDADES.REFERENCIA: CID-128Tecnocasa Nou Moles vende en EXCLUSIVA este increíble piso de 130m2, situado en la Avenida del Cid, muy cerca del Hospital General.Es una PRIMERA planta con ASCENSOR.Hay que destacar algunos detalles importantes de la vivienda:- 4 dormitorios amplios.- 2 baños completos, con ducha y bañera- Balcón con orientación sur, luminoso y vista despejada.- Trastero junto a una habitación- Ventanas de aluminio.- Suelo de terrazo de mármol.- Cocina en buen estado con muebles de pino. (ampliada eliminando la galería)- Salón espacioso, al lado de la cocina, se puede convertir en cocina americana/office, dejando un espacio muy amplio y luminoso- Aire acondicionado- Ventilación cruzadaEl inmueble se encuentra en buen estado, cuenta con amplias posibilidades; ideal para una actualización y dejarla a su gusto.Edificio con ascensor, ubicada en un entorno con gran variedad de comercios, bancos, farmacias, colegios y jardines. La situación de la vivienda permite una comunicación con un buen servicio de autobuses y con una estación de metro a 100 metros.ESTUDIO CID 76, S. L. es una oficina franquiciada del Grupo Tecnocasa que empieza su actividad en el año 2022 en el barrio valenciano de Nou Moles. No obstante, nos avalan más de 25 años de experiencia en la zona con la oficina de la calle La Olivereta nº 37 abierta desde 1997.Para llegar hasta nuestra oficina tiene a disposición los autobuses de la EMT de las líneas 29, 73, 81, 89, 90 y 95. Además de las líneas de metro 3 y 5 en Cid y 1 en Turia.Disponemos de un asesor experto en la zona al que podrá preguntar todas las cualidades de la vivienda.\n",
      "Similitud: 0.9800993204116821\n",
      "\n"
     ]
    }
   ],
   "source": [
    "# Nueva descripción\n",
    "from sklearn.metrics.pairwise import cosine_similarity\n",
    "\n",
    "# Calcular la similitud coseno entre la nueva descripción y todas las descripciones existentes\n",
    "sims = cosine_similarity([descripcion_vec], topic_vectors)\n",
    "\n",
    "# Obtener los índices de las descripciones más similares en orden descendente\n",
    "most_similar_indices = sims.argsort()[0][::-1]\n",
    "\n",
    "# Opcionalmente, muestra las descripciones más similares y sus similitudes\n",
    "for index in most_similar_indices[:5]:  # muestra las 5 descripciones más similares\n",
    "    print(f\"Descripción: {df_def['Descripcion'].iloc[index]}\")\n",
    "    print(f\"Similitud: {sims[0][index]}\")\n",
    "    print()"
   ]
  },
  {
   "cell_type": "code",
   "execution_count": 33,
   "metadata": {},
   "outputs": [
    {
     "name": "stdout",
     "output_type": "stream",
     "text": [
      "Coherencia del modelo HDI: 0.6286025385738004\n"
     ]
    }
   ],
   "source": [
    "hditopics = [[word for word, prob in topic] for topicid, topic in hdi.show_topics(formatted=False)]\n",
    "\n",
    "cm = CoherenceModel(topics=hditopics, texts=texts, dictionary=dictionary, coherence='c_v')\n",
    "coherence_hdi = cm.get_coherence()\n",
    "print(\"Coherencia del modelo HDI:\", coherence_hdi)"
   ]
  },
  {
   "cell_type": "code",
   "execution_count": 36,
   "metadata": {},
   "outputs": [
    {
     "name": "stdout",
     "output_type": "stream",
     "text": [
      "  Modelo  Coherencia\n",
      "0    lsa    0.570063\n",
      "1    lda    0.702593\n",
      "2    nmf    0.746366\n",
      "3    hdi    0.628603\n"
     ]
    }
   ],
   "source": [
    "topic_corence = {'lsa': coherence_lsa, 'lda': coherence_lda, 'nmf': coherence_nmf, 'hdi': coherence_hdi}\n",
    "tc_df = pd.DataFrame(list(topic_corence.items()), columns=['Modelo', 'Coherencia'])\n",
    "\n",
    "print(tc_df)"
   ]
  }
 ],
 "metadata": {
  "kernelspec": {
   "display_name": "environment_nlp",
   "language": "python",
   "name": "python3"
  },
  "language_info": {
   "codemirror_mode": {
    "name": "ipython",
    "version": 3
   },
   "file_extension": ".py",
   "mimetype": "text/x-python",
   "name": "python",
   "nbconvert_exporter": "python",
   "pygments_lexer": "ipython3",
   "version": "3.11.9"
  }
 },
 "nbformat": 4,
 "nbformat_minor": 2
}
