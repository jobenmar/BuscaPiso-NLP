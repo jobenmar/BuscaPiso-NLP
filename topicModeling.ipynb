{
 "cells": [
  {
   "cell_type": "code",
   "execution_count": 1,
   "metadata": {},
   "outputs": [],
   "source": [
    "import pandas as pd\n",
    "import pickle\n",
    "import re\n",
    "#Se importa el archivo pickle\n",
    "with open('scrap_info_alq.pkl', 'rb') as f:\n",
    "    diccionario = pickle.load(f)\n",
    "\n",
    "\n",
    "with open('scrap_info.pkl', 'rb') as f:\n",
    "    diccionario2 = pickle.load(f)\n",
    "#Se transforma el diccionario en un dataframe\n",
    "df = pd.DataFrame(diccionario)\n",
    "df2 = pd.DataFrame(diccionario2)\n",
    "#Ahora se cambia las filas por las columnas\n",
    "df = df.T\n",
    "df2 = df2.T\n",
    "df.head()\n",
    "df2.head()\n",
    "\n",
    "#Ahora unimos los dos dataframes\n",
    "df_def = pd.concat([df,df2])"
   ]
  },
  {
   "cell_type": "code",
   "execution_count": 2,
   "metadata": {},
   "outputs": [
    {
     "name": "stderr",
     "output_type": "stream",
     "text": [
      "[nltk_data] Downloading package punkt to\n",
      "[nltk_data]     C:\\Users\\alexn\\AppData\\Roaming\\nltk_data...\n",
      "[nltk_data]   Package punkt is already up-to-date!\n",
      "[nltk_data] Downloading package stopwords to\n",
      "[nltk_data]     C:\\Users\\alexn\\AppData\\Roaming\\nltk_data...\n",
      "[nltk_data]   Package stopwords is already up-to-date!\n",
      "[nltk_data] Downloading package wordnet to\n",
      "[nltk_data]     C:\\Users\\alexn\\AppData\\Roaming\\nltk_data...\n",
      "[nltk_data]   Package wordnet is already up-to-date!\n"
     ]
    },
    {
     "name": "stdout",
     "output_type": "stream",
     "text": [
      "https://www.indomio.es/anuncios/95227781/    alquila piso amueblado habitaciones carrer del...\n",
      "https://www.indomio.es/anuncios/95146207/    piso estudiantes entrar partir ro febrero juni...\n",
      "https://www.indomio.es/anuncios/94613177/    disponible alquiler mensual anual bajo dormito...\n",
      "https://www.indomio.es/anuncios/94500757/    disponible alquiler mensual anual bajo dormito...\n",
      "https://www.indomio.es/anuncios/95223135/    rincón acogedor necesito espacio gustará aquí ...\n",
      "                                                                   ...                        \n",
      "https://www.indomio.es/anuncios/95007509/    atico m valencia valencia solidinmuebles vende...\n",
      "https://www.indomio.es/anuncios/94958481/    venden pisos obra nueva camino moncada trata r...\n",
      "https://www.indomio.es/anuncios/95006805/    vende exclusiva viviendas obra nueva calle arq...\n",
      "https://www.indomio.es/anuncios/95313313/    vende piso barrio tormoseste luminoso apartame...\n",
      "https://www.indomio.es/anuncios/95319871/    piso ideal inversionistas gran oportunidad adq...\n",
      "Name: Descripcion, Length: 1559, dtype: object\n"
     ]
    }
   ],
   "source": [
    "from sklearn.metrics.pairwise import cosine_similarity\n",
    "from sklearn.feature_extraction.text import TfidfVectorizer\n",
    "import nltk\n",
    "from nltk.corpus import stopwords\n",
    "from nltk.stem import WordNetLemmatizer\n",
    "import pandas as pd\n",
    "import re\n",
    "\n",
    "# Descargar los recursos necesarios para NLTK\n",
    "nltk.download('punkt')\n",
    "nltk.download('stopwords')\n",
    "nltk.download('wordnet')\n",
    "\n",
    "def preprocess_text(text):\n",
    "    if text is None:\n",
    "        return ''\n",
    "    # Convertir texto a minúsculas\n",
    "    text = text.lower()\n",
    "    # Eliminar caracteres especiales y números\n",
    "    text = re.sub(r'[^a-záéíóúüñ\\s]', '', text)\n",
    "    # Tokenización\n",
    "    tokens = nltk.word_tokenize(text)\n",
    "    # Eliminar stopwords\n",
    "    stop_words = set(stopwords.words('spanish'))\n",
    "    tokens = [word for word in tokens if word not in stop_words]\n",
    "    # Lematización\n",
    "    lemmatizer = WordNetLemmatizer()\n",
    "    tokens = [lemmatizer.lemmatize(word) for word in tokens]\n",
    "    return ' '.join(tokens)\n",
    "\n",
    "descripcion_filtrada = df_def['Descripcion'].apply(preprocess_text)\n",
    "\n",
    "print(descripcion_filtrada)"
   ]
  },
  {
   "cell_type": "markdown",
   "metadata": {},
   "source": [
    "## LSA"
   ]
  },
  {
   "cell_type": "code",
   "execution_count": 3,
   "metadata": {},
   "outputs": [
    {
     "data": {
      "text/plain": [
       "array([[ 0.14551729, -0.27074119,  0.79033064, ...,  0.01639877,\n",
       "         0.04020484,  0.05724126],\n",
       "       [ 0.19709968, -0.20329222,  0.03446927, ..., -0.00519293,\n",
       "         0.02348342,  0.00619282],\n",
       "       [ 0.28958638, -0.31155587, -0.08265641, ..., -0.06236709,\n",
       "         0.06293022, -0.10907441],\n",
       "       ...,\n",
       "       [ 0.25436477, -0.23142527, -0.06158474, ..., -0.08479562,\n",
       "        -0.0681465 , -0.14314343],\n",
       "       [ 0.40881147, -0.39530807,  0.00324198, ..., -0.13959552,\n",
       "         0.05539602,  0.05180022],\n",
       "       [ 0.30516304, -0.32295559,  0.01396056, ..., -0.04398804,\n",
       "         0.22464639,  0.05794318]])"
      ]
     },
     "execution_count": 3,
     "metadata": {},
     "output_type": "execute_result"
    }
   ],
   "source": [
    "from sklearn.feature_extraction.text import TfidfVectorizer\n",
    "from sklearn.decomposition import TruncatedSVD\n",
    "from sklearn.pipeline import make_pipeline\n",
    "from sklearn.preprocessing import Normalizer\n",
    "from sklearn.metrics.pairwise import cosine_similarity\n",
    "from sklearn.feature_extraction.text import CountVectorizer\n",
    "from sklearn.decomposition import LatentDirichletAllocation\n",
    "from sklearn.decomposition import NMF\n",
    "\n",
    "tv = TfidfVectorizer()\n",
    "svd = TruncatedSVD(n_components=100)\n",
    "lsa = make_pipeline(tv, svd, Normalizer(copy=False))\n",
    "lsa_topic_vectors = lsa.fit_transform(descripcion_filtrada)\n",
    "\n",
    "lsa_topic_vectors"
   ]
  },
  {
   "cell_type": "code",
   "execution_count": 4,
   "metadata": {},
   "outputs": [
    {
     "name": "stdout",
     "output_type": "stream",
     "text": [
      "Descripción: GRAN OPORTUNIDAD DE INVERSIÓN EN PISO DE ESTUDIANTES La vivienda está recién reformada, ubicada a menos de 500m de una de las mejores playas de Valencia, así como a 700m de la Universidad Politécnica de Valencia. Cuenta con la parada de tranvía justo en frente, así como supermercados, bancos, restaurantes y Universidades. El barrio del Cabanyal en Poblats Maritims, es perfecto para invertir, ya que se trata de un punto intermedio entre la zona universitaria y la zona turística; pudiendo de esta forma lograr un alquiler durante el período del curso escolar, y turístico en los meses de verano. La vivienda cuenta con 76m2, reforma intregral y equipamiento en cada uno de los espacios. Las 4 habitaciones están amuebladas (2 de ellas exteriores); 2 baños completos con plato de ducha e hidromasaje. Cocina equipada con todos los electrodomésticos básicos, además de lavavajillas y Ósmosis (purificador de agua). Se trata de una segunda planta sin ascensor\n",
      "Similitud: 0.524950903722045\n",
      "\n",
      "Descripción: DISPONIBLE A PARTIR DE JULIO 2024. ALQUILER PARA ESTUDIANTES UNIVERSITARIOS (CONTRATO DE TEMPORADA). Se alquila este precioso apartamento , semireformado, en un edificio tranquilo y en una zona ideal si te gusta tener todo a un paso. Se trata de una vivienda con un total de 4 habitaciones y dos cuartos de baños completos. el apartamento se distribuye en zona de salón comedor con acceso a balcón y aire acondicionado (frío /calor), 4 habitaciones con camas de 1,35, totalmente equipadas y dos cuartos de baños completos. Cocina independiente, con todo lo que puedas necesitar en tu día a día y con acceso directo a terraza en zona común, pero de uso privativo. Como ves el piso lo tiene todo, es bonito, esta cerca de transporte público, tanto metro como autobús en menos de 9 minutos a pie, 5 minutos andando de supermercado y el mercado municipal del Cabañal a 7 minutos y lo mejor de todo, a tan solo 16 minutos a pie de la playa. No se puede pedir más. Si estás buscando una vivienda en condiciones, que además te ofrezca comodidad y tranquilidad, no lo dudes, esta es la tuya, así que llámanos y estaremos encantados de poder ayudarte. INCLUYE LIMPIEZA MENSUAL DE ZONAS COMUNES. El precio del alquiler a partir del mes de Julio es 1.300 €./mes.\n",
      "Similitud: 0.5210172899434533\n",
      "\n",
      "Descripción: ALQUILER PARA ESTUDIANTES UNIVERSITARIOS (CONTRATO DE TEMPORADA). Se alquila este precioso apartamento , semireformado, en un edificio tranquilo y en una zona ideal si te gusta tener todo a un paso. Se trata de una vivienda con un total de 4 habitaciones y dos cuartos de baños completos. el apartamento se distribuye en zona de salón comedor con acceso a balcón y aire acondicionado (frío /calor), 4 habitaciones con camas de 1,35, totalmente equipadas y dos cuartos de baños completos. Cocina independiente, con todo lo que puedas necesitar en tu día a día y con acceso directo a terraza en zona común, pero de uso privativo. Como ves el piso lo tiene todo, es bonito, esta cerca de transporte público, tanto metro como autobús en menos de 9 minutos a pie, 5 minutos andando de supermercado y el mercado municipal del Cabañal a 7 minutos y lo mejor de todo, a tan solo 16 minutos a pie de la playa. No se puede pedir más. Si estás buscando una vivienda en condiciones, que además te ofrezca comodidad y tranquilidad, no lo dudes, esta es la tuya, así que llámanos y estaremos encantados de poder ayudarte. INCLUYE LIMPIEZA MENSUAL DE ZONAS COMUNES. El precio del alquiler a partir del mes de Julio es 1.300 €./mes.\n",
      "Similitud: 0.5204350368375015\n",
      "\n",
      "Descripción: SE VENDE EXCLUSIVO PISO . SEMI NUEVO En la zona nueva de Nazaret junto a las torres y aun paso de la playa. Piso De altas calidades en RESIDENCIAL con zonas comunes Piscina pádel zona para niños. El piso se distribuye en 84M2 y 100M2 construidos . Fantástico comedor con salida a la terraza con cerramiento de cristales en forma de laminas y correderos . cocina independiente 3 habitaciones dobles 2 baños completos una amplia plaza de garaje incluida en el precio.. MAS INFORMACION O HACER UNA VISITA TONTACTANOS !!!\n",
      "Similitud: 0.5128822405607708\n",
      "\n",
      "Descripción: Este piso se encuentra en Carrer d'Amadís de Gaula, 46022, València, Valencia, en la planta 1. Es un piso, construido en el año 1965, que tiene 74 m2 y dispone de 3 habitaciones y 1 baños. Se trata de un inmueble bohemio. Dispone de luminoso, aire acondicionado, cocina amueblada, exterior, cocina equipada y amueblado. !GRAN OPORTUNIDAD DE INVERSIÓN EN PISO DE ESTUDIANTES! ¡¡SÓLO PARA INVERSORES!! ¡RECIÉN REFORMADO! Se trata de un inmueble totalmente nuevo. Dispone de cocina amueblada y tiene lavavajillas, luminoso, cama doble, ascensor, buen estado, exterior, cocina equipada, cama individual, reformado, amueblado y cocina americana. La vivienda está actualmente alquilada, se percibirían rentas desde el día 1. Está ubicada a dos pasos andando de una de las Avenidas con mayor movimiento estudiantil: Blasco Ibáñez, así como a menos de 5 minutos andando de la Universidad Politécnica de Valencia y la Universidad de Valencia. Cuenta con la parada de Amistat a 2 manzanas que conecta con el resto de la ciudad, la parada de tranvía de Tarongers a menos de 5 minutos con buena comunicación a la playa, así como supermercados, bancos y restaurantes cercanos. El barrio de Beteró, es perfecto para invertir, ya que se trata de una de las mejores ubicaciones en relación a la vida universitaria y la cercanía a la playa. Cercano tanto a la Universidad de Valencia, como la Politécnica, sin mencionar la buena conexión con transporte público para trasladarse a la Universidad Católica o la Europea, invertir en esta zona es invertir al caballo ganador, 365 días del año teniendo el piso alquilado y percibir rentas desde el minuto 0. La vivienda cuenta con 74m2, está en condiciones óptimas para entrar a vivir. Totalmente reformado. TOUR 360º https://view.ricoh360.com/ab7e2f73-b4a5-4c19-a2ed-68022c698752/f56c5ab5-0b2e-4986-a244-ea2bbfa4d7cf Contactad sin compromiso para más información.\n",
      "Similitud: 0.508266633289386\n",
      "\n"
     ]
    }
   ],
   "source": [
    "# Nueva descripción\n",
    "descripcion = \"Quiero un piso de unos 100 m2 que este bien iluminado, cueste menos de 700 euros al mes, este en la zona de campanar y tenga por lo menos 3 habitaciones y 2 baños\"\n",
    "\n",
    "# Transformar la nueva descripción usando la misma pipeline LSA\n",
    "vector_descripcion = lsa.transform([descripcion])\n",
    "\n",
    "# Calcular la similitud coseno entre la nueva descripción y todas las descripciones existentes\n",
    "similarities = cosine_similarity(vector_descripcion, lsa_topic_vectors)\n",
    "\n",
    "# Obtener los índices de las descripciones más similares en orden descendente\n",
    "most_similar_indices = similarities.argsort()[0][::-1]\n",
    "\n",
    "# Opcionalmente, puedes mostrar las descripciones más similares y sus similitudes\n",
    "for index in most_similar_indices[:5]:  # muestra las 5 descripciones más similares\n",
    "    print(f\"Descripción: {df_def['Descripcion'].iloc[index]}\")\n",
    "    print(f\"Similitud: {similarities[0][index]}\")\n",
    "    print()\n"
   ]
  },
  {
   "cell_type": "markdown",
   "metadata": {},
   "source": [
    "## LDA"
   ]
  },
  {
   "cell_type": "code",
   "execution_count": 5,
   "metadata": {},
   "outputs": [],
   "source": [
    "tf_vectorizer = CountVectorizer(max_df=0.95, min_df=2)\n",
    "\n",
    "tf = tf_vectorizer.fit_transform(descripcion_filtrada)\n",
    "\n",
    "lda = LatentDirichletAllocation(n_components=10, max_iter=5,\n",
    "learning_method='online',\n",
    "learning_offset=50.,\n",
    "random_state=0)\n",
    "\n",
    "lda_topic_matrix = lda.fit_transform(tf)"
   ]
  },
  {
   "cell_type": "code",
   "execution_count": 6,
   "metadata": {},
   "outputs": [
    {
     "name": "stdout",
     "output_type": "stream",
     "text": [
      "Descripción: Bonito piso recién reformado. Está todo a estrenar! A tan solo unos minutos de la plaza del Ayuntamienti y del Mercado Central. \n",
      "Similitud: 0.9999964260327223\n",
      "\n",
      "Descripción: Piso en pleno centro de Valencia de 545 m2 con terrazas muy grandes. Dispone de un apartamento añadido para los invitados.el piso es de estilo señorial con acabados de primera calidad reformado y a estrenar.\n",
      "Similitud: 0.9999261534660971\n",
      "\n",
      "Descripción: Apartamento de 3 dormitorios en una excelente ubicación, Restaurantes, supermercados cercas.El dormitorio principal tiene un vestidor y un baño en suite. La cocina está amueblada con área de lavandería separada. Aire acondicionado\n",
      "Similitud: 0.9999139048645552\n",
      "\n",
      "Descripción: Un encantador apartamento con lindas paredes azules en la sala de estar, una espaciosa cocina y una gran terraza en un vecindario tranquilo y residencial. El apartamento está a solo 10 minutos a pie del puerto de Valencia, y cerca encontrará algunas tiendas, una piscina municipal y una estación de servicio.\n",
      "Similitud: 0.9998425794909526\n",
      "\n",
      "Descripción: Un amplio apartamento en una zona costera de la ciudad y a 7 minutos de la Universitat de València desde la parada de tranvía más cercana. Cuenta con 2 balcones y una cocina totalmente equipada. Solo tiene que caminar durante 7 minutos para encontrarse en las arenas doradas de Playa de la Malva-Rosa, una playa relajada popular entre los lugareños.\n",
      "Similitud: 0.9998343436181891\n",
      "\n"
     ]
    }
   ],
   "source": [
    "# Nueva descripción\n",
    "descripcion = \"Quiero un piso de unos 100 m2 que este bien iluminado, cueste menos de 700 euros al mes, este en la zona de campanar y tenga por lo menos 3 habitaciones y 2 baños\"\n",
    "\n",
    "# Transformar la nueva descripción\n",
    "vector_descripcion = tf_vectorizer.transform([descripcion])\n",
    "vector_descripcion_lda = lda.transform(vector_descripcion)\n",
    "\n",
    "# Calcular la similitud coseno entre la nueva descripción y las descripciones existentes\n",
    "similarities = cosine_similarity(vector_descripcion_lda, lda_topic_matrix)\n",
    "\n",
    "# Obtener los índices de las descripciones más similares en orden descendente\n",
    "most_similar_indices = similarities.argsort()[0][::-1]\n",
    "\n",
    "# Mostrar las descripciones más similares y sus similitudes\n",
    "for index in most_similar_indices[:5]:  # muestra las 5 descripciones más similares\n",
    "    print(f\"Descripción: {df_def['Descripcion'].iloc[index]}\")\n",
    "    print(f\"Similitud: {similarities[0][index]}\")\n",
    "    print()"
   ]
  },
  {
   "cell_type": "markdown",
   "metadata": {},
   "source": [
    "### Comprobar la coherencia de los topics LDA"
   ]
  },
  {
   "cell_type": "code",
   "execution_count": 7,
   "metadata": {},
   "outputs": [
    {
     "name": "stdout",
     "output_type": "stream",
     "text": [
      "Coherencia del modelo LDA: 0.7025929061753893\n"
     ]
    }
   ],
   "source": [
    "import gensim\n",
    "from gensim.models.coherencemodel import CoherenceModel\n",
    "from gensim.corpora.dictionary import Dictionary\n",
    "\n",
    "# Paso 1: Preparar datos para gensim\n",
    "# Convertir el texto tokenizado (asumiendo que tienes 'descripcion_filtrada' como una lista de listas de palabras)\n",
    "texts = [doc.split() for doc in descripcion_filtrada]\n",
    "\n",
    "# Crear un diccionario de Gensim a partir de los textos\n",
    "dictionary = Dictionary(texts)\n",
    "\n",
    "# Crear un corpus de Gensim utilizando el diccionario\n",
    "corpus = [dictionary.doc2bow(text) for text in texts]\n",
    "\n",
    "# Paso 2: Extraer los tópicos del modelo LDA de scikit-learn\n",
    "topics = []\n",
    "feature_names = tf_vectorizer.get_feature_names_out()\n",
    "for topic_idx, topic in enumerate(lda.components_):\n",
    "    topics.append([feature_names[i] for i in topic.argsort()[:-10 - 1:-1]])\n",
    "\n",
    "# Paso 3: Calcular la coherencia del modelo\n",
    "cm = CoherenceModel(model=None, topics=topics, texts=texts, dictionary=dictionary, coherence='c_v')\n",
    "coherence = cm.get_coherence()\n",
    "print(\"Coherencia del modelo LDA:\", coherence)\n"
   ]
  },
  {
   "cell_type": "markdown",
   "metadata": {},
   "source": [
    "## NMF"
   ]
  },
  {
   "cell_type": "code",
   "execution_count": 8,
   "metadata": {},
   "outputs": [],
   "source": [
    "# Inicialización de CountVectorizer\n",
    "tf_vectorizer = CountVectorizer(max_df=0.95, min_df=2)\n",
    "tf = tf_vectorizer.fit_transform(descripcion_filtrada)\n",
    "\n",
    "# Uso de NMF\n",
    "nmf = NMF(n_components=10, random_state=0, max_iter=300)\n",
    "\n",
    "# Transformar los datos con NMF\n",
    "nmf_topic_matrix = nmf.fit_transform(tf)"
   ]
  },
  {
   "cell_type": "code",
   "execution_count": 9,
   "metadata": {},
   "outputs": [
    {
     "name": "stdout",
     "output_type": "stream",
     "text": [
      "Descripción: SE ALQUILA PISO (ZONA DE MALILLA) Piso nuevo Edificio emblemático, frente al nuevo Hospital de la Fe, Piso de 63M2 moderno ,paredes lisas ,cocina office ,balcón ,armarios empotrados con todos los servicios transporte publico, zonas verdes, supermercados y todo el equipamiento necesario. Vivienda nueva ideal para una/dos personas, luminosa, alegre, acogedora, tranquila y totalmente amueblada. Agua caliente y frio/calor por aerotermia. Puerta acorazada, ventanales con aislamiento completo. (garaje incluido) CONSULTANOS PARA MAS INFORMACION INMOCITY\n",
      "Similitud: 0.9771943584682952\n",
      "\n",
      "Descripción: SE VENDE EXCLUSIVO PISO . SEMI NUEVO En la zona nueva de Nazaret junto a las torres y aun paso de la playa. Piso De altas calidades en RESIDENCIAL con zonas comunes Piscina pádel zona para niños. El piso se distribuye en 84M2 y 100M2 construidos . Fantástico comedor con salida a la terraza con cerramiento de cristales en forma de laminas y correderos . cocina independiente 3 habitaciones dobles 2 baños completos una amplia plaza de garaje incluida en el precio.. MAS INFORMACION O HACER UNA VISITA TONTACTANOS !!!\n",
      "Similitud: 0.9745725145055331\n",
      "\n",
      "Descripción:  GRUPO CONECTA/SOLO ALQUILERES INMOBILIARIA VENDE GRAN OCASION EN BENICALAP Piso reformado exterior con terraza de 20 metros SOLEADA, cocina equipada con muebles y electrodomesticos integrados abierta al salon, 2 banos completos, tres habitaciones exteriores muy luminosas con balcon a la calle. Muy buena distribucion no pierde metros en pasillo.Dispone de armarios empotrados.Primer piso sin ascensor. Zona con todo tipo de servicios, supermercados, transporte publico de tranvia linea 4 y autobuses, cafeterias, restaurantes, colegios, bancos, etc. , muy proximo al parque de Benicalap con piscinas, zona de recreo, parque infantil. \n",
      "Similitud: 0.9723271271229725\n",
      "\n",
      "Descripción: SOLO ALQUILERES/GRUPO CONECTA INMOBILIARIA Alquila piso en muy buena zona y céntrica.El piso conta de tres dormitorios muy grades, dos baños, cocina independiente salón comedor y una preciosa terraza bastante grande.Decorado con mucho gusto y acogedor.Esta situado en muy buena zona y con todos los servicios alrededor.También paradas de metros y autobuses.Teléfono de contacto  609844930\n",
      "Similitud: 0.9704606382389169\n",
      "\n",
      "Descripción: La vivienda se encuentra ocupada y se vende sin posesión. Piso → Piso en Valencia zona Mestalla, 68 m2 de superficie, 3 habitaciones, un baño, propiedad Semireformado, cocina vacía, orientación este, suelo de terrazo. Extras: agua, luz, autobuses, árboles, céntrico, centros comerciales, centros médicos, colegios, hospitales, metro, zona de paso\n",
      "Similitud: 0.9655797196064282\n",
      "\n"
     ]
    }
   ],
   "source": [
    "# Nueva descripción a comparar\n",
    "descripcion = \"Quiero un piso de unos 100 m2 que este bien iluminado, cueste menos de 700 euros al mes, este en la zona de campanar y tenga por lo menos 3 habitaciones y 2 baños\"\n",
    "\n",
    "# Transformar la nueva descripción usando el mismo vectorizador\n",
    "vector_descripcion = tf_vectorizer.transform([descripcion])\n",
    "vector_descripcion_nmf = nmf.transform(vector_descripcion)\n",
    "\n",
    "# Calcular la similitud coseno entre la nueva descripción y las descripciones existentes transformadas\n",
    "similarities = cosine_similarity(vector_descripcion_nmf, nmf_topic_matrix)\n",
    "\n",
    "# Obtener los índices de las descripciones más similares en orden descendente\n",
    "most_similar_indices = similarities.argsort()[0][::-1]\n",
    "\n",
    "# Mostrar las descripciones más similares y sus similitudes\n",
    "for index in most_similar_indices[:5]:  # muestra las 5 descripciones más similares\n",
    "    print(f\"Descripción: {df_def['Descripcion'].iloc[index]}\")\n",
    "    print(f\"Similitud: {similarities[0][index]}\")\n",
    "    print()"
   ]
  },
  {
   "cell_type": "markdown",
   "metadata": {},
   "source": [
    "### Comprobar la coherencia de los topics NMF"
   ]
  },
  {
   "cell_type": "code",
   "execution_count": 10,
   "metadata": {},
   "outputs": [
    {
     "name": "stdout",
     "output_type": "stream",
     "text": [
      "Coherencia del modelo NMF: 0.7463658663036883\n"
     ]
    }
   ],
   "source": [
    "import gensim\n",
    "from gensim.models.coherencemodel import CoherenceModel\n",
    "from gensim.corpora.dictionary import Dictionary\n",
    "\n",
    "# Paso 1: Preparar datos para gensim\n",
    "texts = [doc.split() for doc in descripcion_filtrada]\n",
    "dictionary = Dictionary(texts)\n",
    "corpus = [dictionary.doc2bow(text) for text in texts]\n",
    "\n",
    "# Paso 2: Extraer los tópicos del modelo NMF\n",
    "topics = []\n",
    "feature_names = tf_vectorizer.get_feature_names_out()\n",
    "for topic_idx, topic in enumerate(nmf.components_):\n",
    "    top_features_ind = topic.argsort()[:-10 - 1:-1]  # obtener los índices de las palabras más importantes\n",
    "    topic_words = [feature_names[i] for i in top_features_ind]\n",
    "    topics.append(topic_words)\n",
    "\n",
    "# Paso 3: Calcular la coherencia del modelo\n",
    "cm = CoherenceModel(topics=topics, texts=texts, dictionary=dictionary, coherence='c_v')\n",
    "coherence = cm.get_coherence()\n",
    "print(\"Coherencia del modelo NMF:\", coherence)\n"
   ]
  },
  {
   "cell_type": "markdown",
   "metadata": {},
   "source": [
    "### Mostrar palabras clave de cada tema en NMF"
   ]
  },
  {
   "cell_type": "code",
   "execution_count": 11,
   "metadata": {},
   "outputs": [
    {
     "name": "stdout",
     "output_type": "stream",
     "text": [
      "Topic #1:\n",
      "Palabras clave: datos, tratamiento, servicios, consentimiento, fin, mantener, personales, hogarabitat, sl, mismos\n",
      "\n",
      "Topic #2:\n",
      "Palabras clave: vivienda, cuenta, cocina, baño, salón, toda, gran, aire, dormitorios, dispone\n",
      "\n",
      "Topic #3:\n",
      "Palabras clave: piso, habitaciones, cocina, ascensor, balcón, exterior, luminoso, cuenta, cerca, baños\n",
      "\n",
      "Topic #4:\n",
      "Palabras clave: the, and, with, room, of, patio, to, in, is, interior\n",
      "\n",
      "Topic #5:\n",
      "Palabras clave: valencia, ciudad, barrio, centro, plaza, gran, calle, ayuntamiento, mercado, situado\n",
      "\n",
      "Topic #6:\n",
      "Palabras clave: espacio, hogar, ofrece, disfrutar, cuenta, comodidad, vida, cada, oportunidad, además\n",
      "\n",
      "Topic #7:\n",
      "Palabras clave: zona, metro, gran, ma, toda, bien, equipada, salida, tipo, transporte\n",
      "\n",
      "Topic #8:\n",
      "Palabras clave: planta, terraza, do, cocina, acceso, casa, baño, primera, garaje, vista\n",
      "\n",
      "Topic #9:\n",
      "Palabras clave: inmueble, precio, anuncio, puede, informativo, contractual, vinculante, valencia, muestra, errores\n",
      "\n",
      "Topic #10:\n",
      "Palabras clave: apartamento, playa, aquí, valencia, minutos, cerca, propiedad, balcón, lugar, solo\n",
      "\n"
     ]
    }
   ],
   "source": [
    "# Obtener las palabras del vocabulario\n",
    "feature_names = tf_vectorizer.get_feature_names_out()\n",
    "\n",
    "# Función para mostrar las palabras clave por tema\n",
    "def show_top_words(model, feature_names, n_top_words):\n",
    "    for topic_idx, topic in enumerate(model.components_):\n",
    "        print(f\"Topic #{topic_idx + 1}:\")\n",
    "        # Muestra las n_top_words palabras más importantes por tema\n",
    "        top_features_ind = topic.argsort()[:-n_top_words - 1:-1]\n",
    "        top_features = [feature_names[i] for i in top_features_ind]\n",
    "        top_features_str = \", \".join(top_features)\n",
    "        print(f\"Palabras clave: {top_features_str}\\n\")\n",
    "\n",
    "# Mostrar las palabras clave de cada tema\n",
    "n_top_words = 10\n",
    "show_top_words(nmf, feature_names, n_top_words)"
   ]
  },
  {
   "cell_type": "markdown",
   "metadata": {},
   "source": [
    "## HDI"
   ]
  },
  {
   "cell_type": "code",
   "execution_count": 16,
   "metadata": {},
   "outputs": [],
   "source": [
    "import pandas as pd\n",
    "from gensim import similarities\n",
    "from gensim.corpora import Dictionary\n",
    "from gensim.models import HdpModel\n",
    "from gensim.matutils import sparse2full\n",
    "\n",
    "# Crear un diccionario de características y filtrar palabras extremadamente frecuentes o infrecuentes\n",
    "texts = [doc.split() for doc in descripcion_filtrada]\n",
    "dictionary = Dictionary(texts)\n",
    "dictionary.filter_extremes(no_below=1, no_above=0.95)\n",
    "\n",
    "# Crear el corpus BOW\n",
    "corpus = [dictionary.doc2bow(text) for text in texts]\n",
    "\n",
    "# Entrenar el modelo HDI\n",
    "hdi = HdpModel(corpus, id2word=dictionary)\n",
    "\n",
    "# Función para obtener la distribución de tópicos de un documento\n",
    "def get_topic_distribution(text):\n",
    "    bow = dictionary.doc2bow(text.lower().split())\n",
    "    topic_sparse = hdi[bow]\n",
    "    return sparse2full(topic_sparse, len(hdi.id2word))\n",
    "\n",
    "# Convertir todos los documentos a vectores de tópicos\n",
    "topic_vectors = [get_topic_distribution(text) for text in descripcion_filtrada]"
   ]
  },
  {
   "cell_type": "code",
   "execution_count": 18,
   "metadata": {},
   "outputs": [
    {
     "name": "stdout",
     "output_type": "stream",
     "text": [
      "Descripción: piso en venta ubicado en calle escultor vicente beltran grimal, valència. superficie de 61 m2 .\n",
      "Similitud: 0.9999999403953552\n",
      "\n",
      "Descripción: Se alquila piso amueblado de dos habitaciones en la C/ De Quart. La vivienda está en la segunda planta de un edificio sin ascensor.\n",
      "Similitud: 0.9999990463256836\n",
      "\n",
      "Descripción: atentos la vivienda se vende con ocupantes ilegales no se puede visitar, son los antiguos inquilinos con el contrato vencido sin comisiones\n",
      "Similitud: 0.9999988675117493\n",
      "\n",
      "Descripción: Piso para entrar de inmediato, totalmente reformado y amueblado para entrar a vivir, está decorado y equipado para entrar de inmediato, \n",
      "Similitud: 0.9999988675117493\n",
      "\n",
      "Descripción: Se alquila piso de 2 habitaciones amueblado en Carrer Dels Serrans. La propiedad incluye balcón y aire acondicionado.\n",
      "Similitud: 0.9999988079071045\n",
      "\n"
     ]
    }
   ],
   "source": [
    "# Nueva descripción\n",
    "from sklearn.metrics.pairwise import cosine_similarity\n",
    "\n",
    "# Calcular la similitud coseno entre la nueva descripción y todas las descripciones existentes\n",
    "sims = cosine_similarity([descripcion_vec], topic_vectors)\n",
    "\n",
    "# Obtener los índices de las descripciones más similares en orden descendente\n",
    "most_similar_indices = sims.argsort()[0][::-1]\n",
    "\n",
    "# Opcionalmente, muestra las descripciones más similares y sus similitudes\n",
    "for index in most_similar_indices[:5]:  # muestra las 5 descripciones más similares\n",
    "    print(f\"Descripción: {df_def['Descripcion'].iloc[index]}\")\n",
    "    print(f\"Similitud: {sims[0][index]}\")\n",
    "    print()"
   ]
  }
 ],
 "metadata": {
  "kernelspec": {
   "display_name": "environment_nlp",
   "language": "python",
   "name": "python3"
  },
  "language_info": {
   "codemirror_mode": {
    "name": "ipython",
    "version": 3
   },
   "file_extension": ".py",
   "mimetype": "text/x-python",
   "name": "python",
   "nbconvert_exporter": "python",
   "pygments_lexer": "ipython3",
   "version": "3.10.14"
  }
 },
 "nbformat": 4,
 "nbformat_minor": 2
}
