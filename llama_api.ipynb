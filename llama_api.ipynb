{
 "cells": [
  {
   "cell_type": "code",
   "execution_count": 15,
   "metadata": {},
   "outputs": [],
   "source": [
    "import json\n",
    "from llamaapi import LlamaAPI\n",
    "\n",
    "description = \"A 50 squared meters rental apartment in Campanar, that costs 500 euros per month and has two bedrooms, one bathroom and terrace.\"\n",
    "# description = \"Quiero un piso de alquiler en Campanar que cueste menos de 500 euros con dos habitaciones, al menos un baño y terraza\"\n",
    "# Initialize the SDK\n",
    "llama = LlamaAPI(\"LL-AtV042dq78TAmTiO12qRWx83rJR3G4X6d2UDXo8OAbOFwwDK0LjItrqnnXreYEdC\")\n",
    "\n",
    "# Build the API request\n",
    "api_request_json = {\n",
    "    \"messages\": [\n",
    "        {\"role\": \"user\", \"content\": \"Get the characteristics of an apartment from the following description: \" + description},\n",
    "    ],\n",
    "    \"functions\": [\n",
    "        {\n",
    "            \"name\": \"get_apartment_info\",\n",
    "            \"description\": \"Get information on the characteristics of an apartment\",\n",
    "            \"parameters\": {\n",
    "                \"type\": \"object\",\n",
    "                \"properties\": {\n",
    "                    \"location\": {\n",
    "                        \"type\": \"string\",\n",
    "                        \"description\": \"The location of the apartment, e.g. Betera, Valencia, Spain\",\n",
    "                    },\n",
    "                    \"rooms\": {\n",
    "                        \"type\": \"number\",\n",
    "                        \"description\": \"The number of rooms in the apartment\",\n",
    "                    },\n",
    "                    \"bathrooms\": {\"type\": \"number\",\n",
    "                        \"description\": \"The number of bathrooms in the apartment\",\n",
    "                    },\n",
    "                    \"price\": {\"type\": \"number\",\n",
    "                        \"description\": \"The price of the apartment\",\n",
    "                    },\n",
    "                    \"surface\": {\"type\": \"number\",\n",
    "                        \"description\": \"The surface of the apartment in square meters\",\n",
    "                    },\n",
    "                    \"contract\": {\"type\": \"string\",\n",
    "                        \"description\": \"The type of contract, e.g. rent, sale\",\n",
    "                    },\n",
    "                    \"terrace\": {\"type\": \"boolean\", \n",
    "                        \"description\": \"The apartment has a terrace or not\",\n",
    "                    },\n",
    "                    \"balcony\": {\"type\": \"boolean\", \n",
    "                        \"description\": \"The apartment has a balcony or not\",\n",
    "                    }\n",
    "                },\n",
    "            },\n",
    "            \"required\": [\"location\", \"rooms\", \"bathrooms\", \"price\", \"surface\", \"contract\", \"terrace\", \"balcony\"],\n",
    "        }\n",
    "    ],\n",
    "    \"stream\": False,\n",
    "    \"function_call\": \"get_apartment_info\",\n",
    "}"
   ]
  },
  {
   "cell_type": "code",
   "execution_count": 16,
   "metadata": {},
   "outputs": [
    {
     "name": "stdout",
     "output_type": "stream",
     "text": [
      "{\n",
      "  \"created\": 1714559632,\n",
      "  \"model\": \"llama-13b-chat\",\n",
      "  \"usage\": {\n",
      "    \"prompt_tokens\": 325,\n",
      "    \"completion_tokens\": 66,\n",
      "    \"total_tokens\": 391\n",
      "  },\n",
      "  \"choices\": [\n",
      "    {\n",
      "      \"index\": 0,\n",
      "      \"message\": {\n",
      "        \"role\": \"assistant\",\n",
      "        \"content\": null,\n",
      "        \"function_call\": {\n",
      "          \"name\": \"get_apartment_info\",\n",
      "          \"arguments\": {\n",
      "            \"location\": \"Campanar\",\n",
      "            \"rooms\": 2,\n",
      "            \"bathrooms\": 1,\n",
      "            \"price\": 500,\n",
      "            \"surface\": 50\n",
      "          }\n",
      "        }\n",
      "      },\n",
      "      \"finish_reason\": \"function_call\"\n",
      "    }\n",
      "  ]\n",
      "}\n"
     ]
    }
   ],
   "source": [
    "# Execute the Request\n",
    "response = llama.run(api_request_json)\n",
    "print(json.dumps(response.json(), indent=2))"
   ]
  },
  {
   "cell_type": "code",
   "execution_count": 17,
   "metadata": {},
   "outputs": [
    {
     "name": "stdout",
     "output_type": "stream",
     "text": [
      "   location  rooms  bathrooms  price  surface contract terrace balcony\n",
      "0  Campanar      2          1    500       50       NA      NA      NA\n"
     ]
    }
   ],
   "source": [
    "import pandas as pd\n",
    "\n",
    "choices = response.json().get(\"choices\", [])\n",
    "if choices:\n",
    "    function_call = choices[0].get(\"message\", {}).get(\"function_call\", {})\n",
    "    arguments = function_call.get(\"arguments\", {})\n",
    "\n",
    "    # Construir el DataFrame con las características\n",
    "    data = {\n",
    "        'location': [arguments.get('location', 'NA')],\n",
    "        'rooms': [arguments.get('rooms', 'NA')],\n",
    "        'bathrooms': [arguments.get('bathrooms', 'NA')],\n",
    "        'price': [arguments.get('price', 'NA')],\n",
    "        'surface': [arguments.get('surface', 'NA')],\n",
    "        'contract': [arguments.get('contract', 'NA')],\n",
    "        'terrace': [arguments.get('terrace', 'NA')],\n",
    "        'balcony': [arguments.get('balcony', 'NA')]\n",
    "    }\n",
    "\n",
    "    # Crear un DataFrame\n",
    "    df = pd.DataFrame(data)\n",
    "    print(df)\n",
    "else:\n",
    "    print(\"No se encontraron resultados.\")"
   ]
  }
 ],
 "metadata": {
  "kernelspec": {
   "display_name": "Python 3",
   "language": "python",
   "name": "python3"
  },
  "language_info": {
   "codemirror_mode": {
    "name": "ipython",
    "version": 3
   },
   "file_extension": ".py",
   "mimetype": "text/x-python",
   "name": "python",
   "nbconvert_exporter": "python",
   "pygments_lexer": "ipython3",
   "version": "3.12.2"
  }
 },
 "nbformat": 4,
 "nbformat_minor": 2
}
