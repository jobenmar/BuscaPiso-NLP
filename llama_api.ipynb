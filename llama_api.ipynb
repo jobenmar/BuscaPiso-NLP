{
 "cells": [
  {
   "cell_type": "code",
   "execution_count": 92,
   "metadata": {},
   "outputs": [],
   "source": [
    "import json\n",
    "from llamaapi import LlamaAPI\n",
    "\n",
    "description = \"A 50 square meters apartment for rent in Campanar, that costs 500 euros per month and has two bedrooms, one bathroom and terrace.\"\n",
    "description = \"A 100 square meter apartment for sale in Cortes Valencianas, with three bedrooms, two bathrooms, that is bright and has a balcony.\"\n",
    "#description = \"Un piso de alquiler en Campanar que cueste menos de 500 euros con dos habitaciones, al menos un baño y terraza\"\n",
    "# Initialize the SDK\n",
    "llama = LlamaAPI(\"LL-AtV042dq78TAmTiO12qRWx83rJR3G4X6d2UDXo8OAbOFwwDK0LjItrqnnXreYEdC\")\n",
    "\n",
    "# Build the API request\n",
    "api_request_json = {\n",
    "    'model': \"llama-13b-chat\",\n",
    "    \"functions\": [\n",
    "        {\n",
    "            \"name\": \"get_apartment_info\",\n",
    "            \"description\": \"Get information on the characteristics of an apartment\",\n",
    "            \"parameters\": {\n",
    "                \"type\": \"object\",\n",
    "                \"properties\": {\n",
    "                    \"location\": {\n",
    "                        \"type\": \"string\",\n",
    "                        \"description\": \"The location of the apartment, e.g. Betera\",\n",
    "                    },\n",
    "                    \"rooms\": {\n",
    "                        \"type\": \"number\",\n",
    "                        \"description\": \"The number of rooms in the apartment\",\n",
    "                    },\n",
    "                    \"bathrooms\": {\"type\": \"number\",\n",
    "                        \"description\": \"The number of bathrooms in the apartment\",\n",
    "                    },\n",
    "                    \"price\": {\"type\": \"number\",\n",
    "                        \"description\": \"The price of the apartment\",\n",
    "                    },\n",
    "                    \"surface\": {\"type\": \"number\",\n",
    "                        \"description\": \"The surface of the apartment in square meters\",\n",
    "                    },\n",
    "                    \"contract\": {\"type\": \"string\",\n",
    "                        \"description\": \"The type of apartment contract, e.g. rent, sale\",\n",
    "                    }\n",
    "                },\n",
    "            },\n",
    "            \"required\": [\"location\", \"rooms\", \"bathrooms\", \"price\", \"surface\", \"contract\"],\n",
    "        }\n",
    "    ],\n",
    "    \"function_call\": {\"name\":\"get_apartment_info\"},\n",
    "    \"messages\": [\n",
    "        {\"role\": \"user\", \"content\": \"Get the characteristics of an apartment from the following description: \" + description},\n",
    "        #{\"role\": \"system\", \"content\": \"Return a JSON object with the characteristics of the apartment specified in the function call.\"},\n",
    "    ],\n",
    "}"
   ]
  },
  {
   "cell_type": "code",
   "execution_count": 93,
   "metadata": {},
   "outputs": [
    {
     "name": "stdout",
     "output_type": "stream",
     "text": [
      "{\n",
      "  \"created\": 1714647380,\n",
      "  \"model\": \"llama-13b-chat\",\n",
      "  \"usage\": {\n",
      "    \"prompt_tokens\": 267,\n",
      "    \"completion_tokens\": 34,\n",
      "    \"total_tokens\": 301\n",
      "  },\n",
      "  \"choices\": [\n",
      "    {\n",
      "      \"index\": 0,\n",
      "      \"message\": {\n",
      "        \"role\": \"assistant\",\n",
      "        \"content\": null,\n",
      "        \"function_call\": {\n",
      "          \"name\": \"get_apartment_info\",\n",
      "          \"arguments\": {\n",
      "            \"location\": \"Cortes Valencianas\",\n",
      "            \"rooms\": 3,\n",
      "            \"bathrooms\": 2,\n",
      "            \"surface\": 100\n",
      "          }\n",
      "        }\n",
      "      },\n",
      "      \"finish_reason\": \"function_call\"\n",
      "    }\n",
      "  ]\n",
      "}\n"
     ]
    }
   ],
   "source": [
    "# Execute the Request\n",
    "response = llama.run(api_request_json)\n",
    "print(json.dumps(response.json(), indent=2))"
   ]
  },
  {
   "cell_type": "code",
   "execution_count": 89,
   "metadata": {},
   "outputs": [
    {
     "name": "stdout",
     "output_type": "stream",
     "text": [
      "             location  rooms  bathrooms price  surface contract\n",
      "0  Cortes Valencianas      3          2    NA      100       NA\n"
     ]
    }
   ],
   "source": [
    "import pandas as pd\n",
    "\n",
    "choices = response.json().get(\"choices\", [])\n",
    "if choices:\n",
    "    function_call = choices[0].get(\"message\", {}).get(\"function_call\", {})\n",
    "    arguments = function_call.get(\"arguments\", {})\n",
    "\n",
    "    # Construir el DataFrame con las características\n",
    "    data = {\n",
    "        'location': [arguments.get('location', 'NA')],\n",
    "        'rooms': [arguments.get('rooms', 'NA')],\n",
    "        'bathrooms': [arguments.get('bathrooms', 'NA')],\n",
    "        'price': [arguments.get('price', 'NA')],\n",
    "        'surface': [arguments.get('surface', 'NA')],\n",
    "        'contract': [arguments.get('contract', 'NA')],\n",
    "    }\n",
    "\n",
    "    # Crear un DataFrame\n",
    "    df = pd.DataFrame(data)\n",
    "    print(df)\n",
    "else:\n",
    "    print(\"No se encontraron resultados.\")"
   ]
  },
  {
   "cell_type": "code",
   "execution_count": 94,
   "metadata": {},
   "outputs": [],
   "source": [
    "import json\n",
    "import requests\n",
    "\n",
    "# Definir los datos de la solicitud\n",
    "description = \"A 50 square meters apartment for rent in Campanar, and has two bedrooms, one bathroom and terrace.\"\n",
    "llama_call = {\n",
    "  \"model\": \"llama3\",\n",
    "  \"prompt\": \"Provide a JSON object with the fields location, rooms, bathrooms, price, surface and contract, that correspond to the location of an apartment, its number of rooms, number of bathrooms, price, surface and contract type, respectively. The contract type can be 'rent' or 'sale'. Extract the information from the following description:\" + description,\n",
    "  \"format\": \"json\",\n",
    "  \"stream\": False\n",
    "}\n",
    "# Realizar la solicitud HTTP\n",
    "url = \"http://localhost:11434/api/generate\"\n",
    "response = requests.post(url, json=llama_call)\n",
    "\n",
    "# Obtener el campo \"response\" y convertirlo en un objeto JSON\n",
    "response_json = json.loads(response.json()[\"response\"])\n",
    "\n",
    "# Guardar el objeto JSON con los datos de la solicitud\n",
    "data = json.dumps(response_json, indent=2)"
   ]
  },
  {
   "cell_type": "code",
   "execution_count": 95,
   "metadata": {},
   "outputs": [
    {
     "name": "stdout",
     "output_type": "stream",
     "text": [
      "   location rooms bathrooms price surface contract\n",
      "0  Campanar     2         1  None      50     rent\n"
     ]
    }
   ],
   "source": [
    "import pandas as pd\n",
    "\n",
    "# Convierte el objeto JSON en un DataFrame\n",
    "df = pd.DataFrame.from_dict(response_json, orient='index')\n",
    "\n",
    "# Transpone el DataFrame para tener los datos en las filas\n",
    "df = df.transpose()\n",
    "\n",
    "# Ahora puedes imprimir o manipular el DataFrame según tus necesidades\n",
    "print(df)"
   ]
  }
 ],
 "metadata": {
  "kernelspec": {
   "display_name": "Python 3",
   "language": "python",
   "name": "python3"
  },
  "language_info": {
   "codemirror_mode": {
    "name": "ipython",
    "version": 3
   },
   "file_extension": ".py",
   "mimetype": "text/x-python",
   "name": "python",
   "nbconvert_exporter": "python",
   "pygments_lexer": "ipython3",
   "version": "3.12.2"
  }
 },
 "nbformat": 4,
 "nbformat_minor": 2
}
